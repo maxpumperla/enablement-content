{
 "cells": [
  {
   "cell_type": "markdown",
   "id": "ec559c5b",
   "metadata": {},
   "source": [
    "## The Orchestration Layer\n",
    "\n",
    "To orchestrate between different stages of compute, we usually use a workflow engine or orchestration platform.\n",
    "\n",
    "Here are some of the most popular ones:\n",
    "\n",
    "<img src=\"https://anyscale-materials.s3.us-west-2.amazonaws.com/cko-2025-q1/orchestration-layer-v2.png\" width=\"500\">\n",
    "\n",
    "Orchestration platforms usually differ in the following ways:\n",
    "- **Language**: Some are natively written in Python, others are not.\n",
    "- **Ease of use**: Some have a rigid DAG/DSL interface, others have a more flexible API-based interface to creating tasks.\n",
    "- **Tilt towards ML vs Data Engineering**: Some are more focused on ML, some are more focused on Data Engineering.\n",
    "  - Some have native dataset concepts meant for data engineering whereas others have native workflow concepts meant for ML.\n",
    "- **Cost**: Some are cheaper than others depending on the commercial offering."
   ]
  }
 ],
 "metadata": {
  "kernelspec": {
   "display_name": "Python 3 (ipykernel)",
   "language": "python",
   "name": "python3"
  },
  "language_info": {
   "codemirror_mode": {
    "name": "ipython",
    "version": 3
   },
   "file_extension": ".py",
   "mimetype": "text/x-python",
   "name": "python",
   "nbconvert_exporter": "python",
   "pygments_lexer": "ipython3",
   "version": "3.10.13"
  }
 },
 "nbformat": 4,
 "nbformat_minor": 5
}