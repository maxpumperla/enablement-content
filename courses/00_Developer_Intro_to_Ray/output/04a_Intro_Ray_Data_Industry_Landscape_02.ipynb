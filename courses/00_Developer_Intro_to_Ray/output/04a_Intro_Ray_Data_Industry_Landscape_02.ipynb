{
 "cells": [
  {
   "cell_type": "markdown",
   "id": "832158fe",
   "metadata": {},
   "source": [
    "## The Compute Layer\n",
    "\n",
    "Here is one way in which compute can be categorized:\n",
    "\n",
    "<img src=\"https://anyscale-materials.s3.us-west-2.amazonaws.com/cko-2025-q1/compute-layer-overview.png\" width=\"500\">\n",
    "\n",
    "### Compute by Function\n",
    "\n",
    "- **Data Engineering**: Transforming a dataset (X) into a new dataset (X') through various operations.\n",
    "- **Analytics**: Using datasets to create visualizations, dashboards, and reports.\n",
    "- **Machine Learning and AI**: Training models using the data to produce predictive models.\n",
    "\n",
    "### Data Engineering Compute\n",
    "\n",
    "If we want to drill deeper, here is how the data engineering compute space is categorized:\n",
    "\n",
    "<img src=\"https://anyscale-materials.s3.us-west-2.amazonaws.com/cko-2025-q1/compute-layer-data-eng.png\" width=\"500\">\n",
    "\n",
    "### Machine Learning and AI Compute\n",
    "\n",
    "Similarly, here is how the machine learning and AI compute space is categorized:\n",
    "\n",
    "<img src=\"https://anyscale-materials.s3.us-west-2.amazonaws.com/cko-2025-q1/compute-layer-data-eng-v2.png\" width=\"500\">\n"
   ]
  }
 ],
 "metadata": {
  "kernelspec": {
   "display_name": "Python 3 (ipykernel)",
   "language": "python",
   "name": "python3"
  },
  "language_info": {
   "codemirror_mode": {
    "name": "ipython",
    "version": 3
   },
   "file_extension": ".py",
   "mimetype": "text/x-python",
   "name": "python",
   "nbconvert_exporter": "python",
   "pygments_lexer": "ipython3",
   "version": "3.10.13"
  }
 },
 "nbformat": 4,
 "nbformat_minor": 5
}