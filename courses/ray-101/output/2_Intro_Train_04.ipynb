{
 "cells": [
  {
   "cell_type": "markdown",
   "metadata": {},
   "source": [
    "## 3. Overview of the training loop in Ray Train\n",
    "\n",
    "Let's see how this data-parallel training loop will look like with Ray Train and PyTorch."
   ]
  },
  {
   "cell_type": "code",
   "execution_count": 7,
   "metadata": {},
   "outputs": [],
   "source": [
    "def train_loop_ray_train(config: dict):  # pass in hyperparameters in config\n",
    "    loss_function = CrossEntropyLoss()\n",
    "    \n",
    "    # New: Use Ray Train to wrap the original PyTorch model\n",
    "    model = load_model_ray_train()\n",
    "\n",
    "    # Initialize Adam optimizer\n",
    "    optimizer = Adam(model.parameters(), lr=1e-5)\n",
    "    \n",
    "    # New: Calculate the batch size for each worker (batch size / num workers)\n",
    "    batch_size = config[\"global_batch_size\"] // ray.train.get_context().get_world_size()\n",
    "    \n",
    "    # New: Use Ray Train to wrap the data loader as a distributed sampler\n",
    "    data_loader = build_data_loader_ray_train(batch_size=batch_size) \n",
    "    \n",
    "    acc = torchmetrics.Accuracy(task=\"multiclass\", num_classes=10).to(model.device)\n",
    "\n",
    "    for epoch in range(config[\"num_epochs\"]):\n",
    "        # Ensure data is on the correct device for each epoch\n",
    "        data_loader.sampler.set_epoch(epoch)\n",
    "\n",
    "        # New: images, labels are now sharded,\n",
    "        # Gradients are accumulated across the workers\n",
    "        for images, labels in data_loader:\n",
    "            outputs = model(images)\n",
    "            loss = loss_function(outputs, labels)\n",
    "            optimizer.zero_grad()\n",
    "            loss.backward() \n",
    "            optimizer.step()\n",
    "            acc(outputs, labels)\n",
    "\n",
    "        # accuracy is now aggregated across the workers\n",
    "        accuracy = acc.compute()\n",
    "\n",
    "        # Use Ray Train to report metrics\n",
    "        metrics = print_metrics_ray_train(loss, accuracy, epoch)\n",
    "\n",
    "        # Use Ray Train to save checkpoint and metrics\n",
    "        save_checkpoint_and_metrics_ray_train(model, metrics)\n",
    "        acc.reset() "
   ]
  },
  {
   "cell_type": "markdown",
   "metadata": {},
   "source": [
    "### Configure scale and GPUs\n",
    "Outside of our training function, we create a `ScalingConfig` object to configure:\n",
    "\n",
    "- `num_workers`: The number of distributed training worker processes.\n",
    "- `use_gpu`: Whether each worker should use a GPU (or CPU).\n",
    "\n",
    "\n",
    "See [docs on configuring scale and GPUs](https://docs.ray.io/en/latest/train/user-guides/using-gpus.html) for more details."
   ]
  },
  {
   "cell_type": "code",
   "execution_count": 8,
   "metadata": {},
   "outputs": [],
   "source": [
    "from ray.train import ScalingConfig\n",
    "\n",
    "scaling_config = ScalingConfig(num_workers=2, use_gpu=True)"
   ]
  },
  {
   "cell_type": "markdown",
   "metadata": {},
   "source": [
    "Here is a high-level architecture of how Ray Train works:\n",
    "\n",
    "<img src=\"https://docs.ray.io/en/latest/_images/overview.png\" width=600>\n",
    "\n",
    "#### Key points\n",
    "- The scaling config specifies the number of training workers.\n",
    "- A trainer actor process is launched that oversees the training workers."
   ]
  }
 ],
 "metadata": {
  "kernelspec": {
   "display_name": "Python 3 (ipykernel)",
   "language": "python",
   "name": "python3"
  },
  "language_info": {
   "codemirror_mode": {
    "name": "ipython",
    "version": 3
   },
   "file_extension": ".py",
   "mimetype": "text/x-python",
   "name": "python",
   "nbconvert_exporter": "python",
   "pygments_lexer": "ipython3",
   "version": "3.11.8"
  },
  "orphan": true,
  "vscode": {
   "interpreter": {
    "hash": "a8c1140d108077f4faeb76b2438f85e4ed675f93d004359552883616a1acd54c"
   }
  }
 },
 "nbformat": 4,
 "nbformat_minor": 4
}