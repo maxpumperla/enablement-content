{
 "cells": [
  {
   "cell_type": "markdown",
   "metadata": {},
   "source": [
    "## 2. Setting up a PyTorch model\n",
    "\n",
    "Here is a high level overview of the model training process:\n",
    "\n",
    "- **Objective**: Classify handwritten digits (0-9)\n",
    "- **Model**: Simple Neural Network using PyTorch\n",
    "- **Evaluation Metric**: Accuracy\n",
    "- **Dataset**: MNIST\n",
    "\n",
    "We'll start with a basic PyTorch implementation to establish a baseline before moving on to more advanced techniques. This will give us a good foundation for understanding the benefits of hyperparameter tuning and distributed training in later sections."
   ]
  },
  {
   "cell_type": "code",
   "execution_count": 3,
   "metadata": {},
   "outputs": [],
   "source": [
    "from torchvision.models import resnet18\n",
    "from torch.optim import Adam\n",
    "from torch.nn import CrossEntropyLoss\n",
    "\n",
    "\n",
    "def train_loop_torch(num_epochs: int = 2, batch_size: int = 128, lr: float = 1e-5):\n",
    "    criterion = CrossEntropyLoss()\n",
    "\n",
    "    model = resnet18()\n",
    "    model.conv1 = torch.nn.Conv2d(\n",
    "        1, 64, kernel_size=(7, 7), stride=(2, 2), padding=(3, 3), bias=False\n",
    "    )\n",
    "    \n",
    "    model.to(\"cuda\")\n",
    "    data_loader = build_data_loader(batch_size)\n",
    "    optimizer = Adam(model.parameters(), lr=lr)\n",
    "\n",
    "    for epoch in range(num_epochs):\n",
    "        for images, labels in data_loader:\n",
    "            images, labels = images.to(\"cuda\"), labels.to(\"cuda\")\n",
    "            outputs = model(images)\n",
    "            loss = criterion(outputs, labels)\n",
    "            optimizer.zero_grad()\n",
    "            loss.backward()\n",
    "            optimizer.step()\n",
    "\n",
    "        # Report the metrics\n",
    "        print(f\"Epoch {epoch}, Loss: {loss}\")"
   ]
  },
  {
   "cell_type": "markdown",
   "metadata": {},
   "source": [
    "We fit the model by submitting it onto a GPU node using Ray Core"
   ]
  },
  {
   "cell_type": "code",
   "execution_count": 4,
   "metadata": {},
   "outputs": [
    {
     "name": "stdout",
     "output_type": "stream",
     "text": [
      "Epoch 0, Loss: 0.326001912355423\n",
      "Epoch 1, Loss: 0.20302368700504303\n"
     ]
    }
   ],
   "source": [
    "train_loop_torch(num_epochs=2)"
   ]
  },
  {
   "cell_type": "markdown",
   "metadata": {},
   "source": [
    "**Can we do any better ?** let's see if we can tune the hyperparameters of our model to get a better loss.\n",
    "\n",
    "But hyperparameter tuning is a computationally expensive task, and it will take a long time to run sequentially.\n",
    "\n",
    "[Ray Tune](https://docs.ray.io/en/master/tune/) is a distributed hyperparameter tuning library that can help us speed up the process!"
   ]
  }
 ],
 "metadata": {
  "kernelspec": {
   "display_name": "base",
   "language": "python",
   "name": "python3"
  },
  "language_info": {
   "codemirror_mode": {
    "name": "ipython",
    "version": 3
   },
   "file_extension": ".py",
   "mimetype": "text/x-python",
   "name": "python",
   "nbconvert_exporter": "python",
   "pygments_lexer": "ipython3",
   "version": "3.11.8"
  }
 },
 "nbformat": 4,
 "nbformat_minor": 2
}