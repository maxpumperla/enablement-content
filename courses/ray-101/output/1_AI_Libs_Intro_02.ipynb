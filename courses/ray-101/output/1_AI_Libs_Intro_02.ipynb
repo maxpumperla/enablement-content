{
 "cells": [
  {
   "cell_type": "markdown",
   "metadata": {},
   "source": [
    "## 1. Overview of the Ray AI Libraries\n",
    "\n",
    "<img src=\"https://technical-training-assets.s3.us-west-2.amazonaws.com/Ray_AI_Libraries/Ray+AI+Libraries.png\" width=\"50%\" loading=\"lazy\">\n",
    "\n",
    "<div class=\"alert alert-block alert-info\">\n",
    "<b> Ray AI Libraries in a nutshell</b>\n",
    "<ul>\n",
    "    <li> Python-first distributed computing framework for ML practitioners</li>\n",
    "    <li> For individual workloads, end-to-end applications and building custom use cases </li>\n",
    "    <li> Ray AI Libraries built on top of Ray Core</li>\n",
    "    <li> Inherit all the performance and scalability benefits of Ray</li>\n",
    "    <li> Ever-growing ecosystem of integrations</li>\n",
    "</ul>\n",
    "</div>\n",
    "\n",
    "|<img src=\"https://technical-training-assets.s3.us-west-2.amazonaws.com/Introduction_to_Ray_AIR/e2e_air.png\" width=\"100%\" loading=\"lazy\">|\n",
    "|:-:|\n",
    "|Ray AI Libraries enable end-to-end ML development and provides multiple options for integrating with other tools and libraries form the MLOps ecosystem.|\n",
    "\n"
   ]
  }
 ],
 "metadata": {
  "kernelspec": {
   "display_name": "Python 3 (ipykernel)",
   "language": "python",
   "name": "python3"
  },
  "language_info": {
   "codemirror_mode": {
    "name": "ipython",
    "version": 3
   },
   "file_extension": ".py",
   "mimetype": "text/x-python",
   "name": "python",
   "nbconvert_exporter": "python",
   "pygments_lexer": "ipython3",
   "version": "3.11.8"
  }
 },
 "nbformat": 4,
 "nbformat_minor": 4
}