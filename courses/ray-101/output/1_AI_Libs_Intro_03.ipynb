{
 "cells": [
  {
   "cell_type": "markdown",
   "metadata": {},
   "source": [
    "## 2. End-to-end example: predicting taxi tips in New York\n",
    "\n",
    "<div class=\"alert alert-block alert-info\">\n",
    "<ul>\n",
    "    <li><b>Classification task</b>: predict whether a trip will result in a tip greater than 20% or not.</li>\n",
    "    <li><b>Data</b>: the June 2021 <a href=\"https://www1.nyc.gov/site/tlc/about/tlc-trip-record-data.page\">New York City Taxi & Limousine Commission's Trip Record Data</a>. This dataset contains over 2 million samples of yellow cab rides.</li>\n",
    "    <li><b>Model</b>: apply a simple <a href=\"https://xgboost.readthedocs.io/en/stable/\">XGBoost</a> model, a gradient boosted tree.</li>\n",
    "</ul>\n",
    "</div>"
   ]
  },
  {
   "cell_type": "markdown",
   "metadata": {},
   "source": [
    "### How we use Ray AI Libraries for this task\n",
    "\n",
    "|Ray AI Library | Use Case|\n",
    "|:--|:--|\n",
    "|**Ray Data**|Ingest and transform raw data; perform batch inference by mapping the checkpointed model to batches of data.|\n",
    "|**Ray Train**|Use `Trainer` to scale XGBoost model training.|\n",
    "|**Ray Tune**|Use `Tuner` for hyperparameter search.|\n",
    "|**Ray Serve**|Deploy the model for online inference.|"
   ]
  },
  {
   "cell_type": "markdown",
   "metadata": {},
   "source": [
    "### Inspecting the features of the NYC taxi dataset\n",
    "\n",
    "* **`passenger_count`**\n",
    "    * Float (whole number) representing number of passengers.\n",
    "* **`trip_distance`** \n",
    "    * Float representing trip distance in miles.\n",
    "* **`fare_amount`**\n",
    "    * Float representing total price including tax, tip, fees, etc.\n",
    "* **`trip_duration`**\n",
    "    * Integer representing seconds elapsed.\n",
    "* **`hour`**\n",
    "    * Hour that the trip started.\n",
    "    * Integer in the range `[0, 23]`\n",
    "* **`day_of_week`**\n",
    "    * Integer in the range `[1, 7]`.\n",
    "* **`is_big_tip`**\n",
    "    * The label we want to predict.\n",
    "    * Whether the tip amount was greater than 20%.\n",
    "    * Boolean `[True, False]`."
   ]
  }
 ],
 "metadata": {
  "kernelspec": {
   "display_name": "Python 3 (ipykernel)",
   "language": "python",
   "name": "python3"
  },
  "language_info": {
   "codemirror_mode": {
    "name": "ipython",
    "version": 3
   },
   "file_extension": ".py",
   "mimetype": "text/x-python",
   "name": "python",
   "nbconvert_exporter": "python",
   "pygments_lexer": "ipython3",
   "version": "3.11.8"
  }
 },
 "nbformat": 4,
 "nbformat_minor": 4
}