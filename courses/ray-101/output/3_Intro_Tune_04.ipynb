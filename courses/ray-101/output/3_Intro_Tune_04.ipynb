{
 "cells": [
  {
   "cell_type": "markdown",
   "metadata": {},
   "source": [
    "## 3. Introduction to Ray Tune"
   ]
  },
  {
   "cell_type": "markdown",
   "metadata": {},
   "source": [
    "\n",
    "<img src=\"https://docs.ray.io/en/master/_images/tune_overview.png\" width=\"250\">\n",
    "\n",
    "Tune is a Python library for experiment execution and hyperparameter tuning at any scale."
   ]
  },
  {
   "cell_type": "markdown",
   "metadata": {},
   "source": [
    "### Getting started\n",
    "\n",
    "We start by defining our training function"
   ]
  },
  {
   "cell_type": "code",
   "execution_count": 6,
   "metadata": {},
   "outputs": [],
   "source": [
    "import ray\n",
    "from ray import tune, train\n",
    "from ray.tune.search import optuna\n",
    "import numpy as np\n",
    "from typing import Any\n",
    "\n",
    "\n",
    "def my_simple_model(distance: np.ndarray, a: float) -> np.ndarray:\n",
    "    return distance * a\n",
    "\n",
    "# Step 1: Define the training function\n",
    "def train_my_simple_model(config: dict[str, Any]) -> None: # Expected function signature for Ray Tune\n",
    "    distances = np.array([0.1, 0.2, 0.3, 0.4, 0.5])\n",
    "    total_amts = distances * 10\n",
    "    \n",
    "    a = config[\"a\"]\n",
    "    predictions = my_simple_model(distances, a)\n",
    "    rmse = np.sqrt(np.mean((total_amts - predictions) ** 2))\n",
    "\n",
    "    train.report({\"rmse\": rmse}) # This is how we report the metric to Ray Tune"
   ]
  },
  {
   "cell_type": "markdown",
   "metadata": {},
   "source": [
    "<div class=\"alert alert-block alert-warning\">\n",
    "<b>Note:</b> how the training function needs to accept a config argument. This is because Ray Tune will pass the hyperparameters to the training function as a dictionary.\n",
    "</div>"
   ]
  },
  {
   "cell_type": "markdown",
   "metadata": {},
   "source": [
    "Next, we define and run the hyperparameter tuning job by following these steps:\n",
    "\n",
    "1. Create a `Tuner` object (in our case named `tuner`)\n",
    "2. Call `tuner.fit`"
   ]
  },
  {
   "cell_type": "code",
   "execution_count": 7,
   "metadata": {},
   "outputs": [
    {
     "data": {
      "text/html": [
       "<div class=\"tuneStatus\">\n",
       "  <div style=\"display: flex;flex-direction: row\">\n",
       "    <div style=\"display: flex;flex-direction: column;\">\n",
       "      <h3>Tune Status</h3>\n",
       "      <table>\n",
       "<tbody>\n",
       "<tr><td>Current time:</td><td>2024-11-29 09:13:31</td></tr>\n",
       "<tr><td>Running for: </td><td>00:00:03.34        </td></tr>\n",
       "<tr><td>Memory:      </td><td>4.7/31.0 GiB       </td></tr>\n",
       "</tbody>\n",
       "</table>\n",
       "    </div>\n",
       "    <div class=\"vDivider\"></div>\n",
       "    <div class=\"systemInfo\">\n",
       "      <h3>System Info</h3>\n",
       "      Using FIFO scheduling algorithm.<br>Logical resource usage: 1.0/16 CPUs, 0/2 GPUs (0.0/1.0 anyscale/node-group:1xT4:8CPU-32GB, 0.0/2.0 anyscale/provider:aws, 0.0/2.0 anyscale/region:us-west-2, 0.0/2.0 anyscale/accelerator_shape:1xT4, 0.0/2.0 accelerator_type:T4, 0.0/1.0 anyscale/node-group:head)\n",
       "    </div>\n",
       "    \n",
       "  </div>\n",
       "  <div class=\"hDivider\"></div>\n",
       "  <div class=\"trialStatus\">\n",
       "    <h3>Trial Status</h3>\n",
       "    <table>\n",
       "<thead>\n",
       "<tr><th>Trial name                       </th><th>status    </th><th>loc              </th><th style=\"text-align: right;\">  a</th><th style=\"text-align: right;\">  iter</th><th style=\"text-align: right;\">  total time (s)</th><th style=\"text-align: right;\">   rmse</th></tr>\n",
       "</thead>\n",
       "<tbody>\n",
       "<tr><td>train_my_simple_model_3207e_00000</td><td>TERMINATED</td><td>10.0.35.222:27211</td><td style=\"text-align: right;\">  6</td><td style=\"text-align: right;\">     1</td><td style=\"text-align: right;\">     0.000382423</td><td style=\"text-align: right;\">1.32665</td></tr>\n",
       "<tr><td>train_my_simple_model_3207e_00001</td><td>TERMINATED</td><td>10.0.35.222:27212</td><td style=\"text-align: right;\">  5</td><td style=\"text-align: right;\">     1</td><td style=\"text-align: right;\">     0.000378847</td><td style=\"text-align: right;\">1.65831</td></tr>\n",
       "<tr><td>train_my_simple_model_3207e_00002</td><td>TERMINATED</td><td>10.0.20.35:7721  </td><td style=\"text-align: right;\">  5</td><td style=\"text-align: right;\">     1</td><td style=\"text-align: right;\">     0.000359058</td><td style=\"text-align: right;\">1.65831</td></tr>\n",
       "<tr><td>train_my_simple_model_3207e_00003</td><td>TERMINATED</td><td>10.0.20.35:7722  </td><td style=\"text-align: right;\"> 19</td><td style=\"text-align: right;\">     1</td><td style=\"text-align: right;\">     0.000357389</td><td style=\"text-align: right;\">2.98496</td></tr>\n",
       "<tr><td>train_my_simple_model_3207e_00004</td><td>TERMINATED</td><td>10.0.20.35:7725  </td><td style=\"text-align: right;\">  1</td><td style=\"text-align: right;\">     1</td><td style=\"text-align: right;\">     0.000418901</td><td style=\"text-align: right;\">2.98496</td></tr>\n",
       "</tbody>\n",
       "</table>\n",
       "  </div>\n",
       "</div>\n",
       "<style>\n",
       ".tuneStatus {\n",
       "  color: var(--jp-ui-font-color1);\n",
       "}\n",
       ".tuneStatus .systemInfo {\n",
       "  display: flex;\n",
       "  flex-direction: column;\n",
       "}\n",
       ".tuneStatus td {\n",
       "  white-space: nowrap;\n",
       "}\n",
       ".tuneStatus .trialStatus {\n",
       "  display: flex;\n",
       "  flex-direction: column;\n",
       "}\n",
       ".tuneStatus h3 {\n",
       "  font-weight: bold;\n",
       "}\n",
       ".tuneStatus .hDivider {\n",
       "  border-bottom-width: var(--jp-border-width);\n",
       "  border-bottom-color: var(--jp-border-color0);\n",
       "  border-bottom-style: solid;\n",
       "}\n",
       ".tuneStatus .vDivider {\n",
       "  border-left-width: var(--jp-border-width);\n",
       "  border-left-color: var(--jp-border-color0);\n",
       "  border-left-style: solid;\n",
       "  margin: 0.5em 1em 0.5em 1em;\n",
       "}\n",
       "</style>\n"
      ],
      "text/plain": [
       "<IPython.core.display.HTML object>"
      ]
     },
     "metadata": {},
     "output_type": "display_data"
    },
    {
     "name": "stderr",
     "output_type": "stream",
     "text": [
      "2024-11-29 09:13:31,837\tINFO tune.py:1009 -- Wrote the latest version of all result files and experiment state to '/home/ray/ray_results/train_my_simple_model_2024-11-29_09-13-26' in 0.0075s.\n",
      "2024-11-29 09:13:31,841\tINFO tune.py:1041 -- Total run time: 3.57 seconds (3.33 seconds for the tuning loop).\n"
     ]
    },
    {
     "name": "stdout",
     "output_type": "stream",
     "text": [
      "\u001b[36m(autoscaler +4m37s)\u001b[0m Tip: use `ray status` to view detailed cluster status. To disable these messages, set RAY_SCHEDULER_EVENTS=0.\n",
      "\u001b[36m(train_pytorch pid=38448)\u001b[0m Downloading http://yann.lecun.com/exdb/mnist/train-images-idx3-ubyte.gz\n",
      "\u001b[36m(train_pytorch pid=38448)\u001b[0m Failed to download (trying next):\n",
      "\u001b[36m(train_pytorch pid=38448)\u001b[0m HTTP Error 403: Forbidden\n",
      "\u001b[36m(train_pytorch pid=38448)\u001b[0m \n",
      "\u001b[36m(train_pytorch pid=38448)\u001b[0m Downloading https://ossci-datasets.s3.amazonaws.com/mnist/train-images-idx3-ubyte.gz\n",
      "\u001b[36m(train_pytorch pid=38448)\u001b[0m Downloading https://ossci-datasets.s3.amazonaws.com/mnist/train-images-idx3-ubyte.gz to ./data/MNIST/raw/train-images-idx3-ubyte.gz\n"
     ]
    }
   ],
   "source": [
    "# Step 2: Set up the Tuner\n",
    "tuner = tune.Tuner(\n",
    "    trainable=train_my_simple_model,  # Training function or class to be tuned\n",
    "    param_space={\n",
    "        \"a\": tune.randint(0, 20),  # Hyperparameter: a\n",
    "    },\n",
    "    tune_config=tune.TuneConfig(\n",
    "        metric=\"rmse\",  # Metric to optimize (minimize)\n",
    "        mode=\"min\",     # Minimize the metric\n",
    "        num_samples=5,  # Number of samples to try\n",
    "    ),\n",
    ")\n",
    "\n",
    "# Step 3: Run the Tuner and get the results\n",
    "results = tuner.fit()"
   ]
  },
  {
   "cell_type": "code",
   "execution_count": 12,
   "metadata": {},
   "outputs": [
    {
     "data": {
      "text/plain": [
       "Result(\n",
       "  metrics={'rmse': 1.3266499161421599},\n",
       "  path='/home/ray/ray_results/train_my_simple_model_2024-11-29_09-13-26/train_my_simple_model_3207e_00000_0_a=6_2024-11-29_09-13-28',\n",
       "  filesystem='local',\n",
       "  checkpoint=None\n",
       ")"
      ]
     },
     "execution_count": 12,
     "metadata": {},
     "output_type": "execute_result"
    }
   ],
   "source": [
    "# Step 4: Get the best result\n",
    "best_result = results.get_best_result()\n",
    "best_result"
   ]
  },
  {
   "cell_type": "code",
   "execution_count": 13,
   "metadata": {},
   "outputs": [
    {
     "data": {
      "text/plain": [
       "{'a': 6}"
      ]
     },
     "execution_count": 13,
     "metadata": {},
     "output_type": "execute_result"
    }
   ],
   "source": [
    "best_result.config"
   ]
  },
  {
   "cell_type": "markdown",
   "metadata": {},
   "source": [
    "So let's recap what actually happened here ?\n",
    "\n",
    "```python\n",
    "tuner = tune.Tuner(\n",
    "    trainable=train_my_simple_model,  # Training function or class to be tuned\n",
    "    param_space={\n",
    "        \"a\": tune.randint(0, 20),  # Hyperparameter: a\n",
    "    },\n",
    "    tune_config=tune.TuneConfig(\n",
    "        metric=\"rmse\",  # Metric to optimize (minimize)\n",
    "        mode=\"min\",     # Minimize the metric\n",
    "        num_samples=5,  # Number of samples to try\n",
    "    ),\n",
    ")\n",
    "\n",
    "results = tuner.fit()\n",
    "```\n",
    "\n",
    "A Tuner accepts:\n",
    "- A training function or class which is specified by `trainable`\n",
    "- A search space which is specified by `param_space`\n",
    "- A metric to optimize which is specified by `metric` and the direction of optimization `mode`\n",
    "- `num_samples` which correlates to the number of trials to run\n",
    "\n",
    "`tuner.fit` then runs multiple trials in parallel, each with a different set of hyperparameters, and returns the best set of hyperparameters found.\n"
   ]
  }
 ],
 "metadata": {
  "kernelspec": {
   "display_name": "base",
   "language": "python",
   "name": "python3"
  },
  "language_info": {
   "codemirror_mode": {
    "name": "ipython",
    "version": 3
   },
   "file_extension": ".py",
   "mimetype": "text/x-python",
   "name": "python",
   "nbconvert_exporter": "python",
   "pygments_lexer": "ipython3",
   "version": "3.11.8"
  }
 },
 "nbformat": 4,
 "nbformat_minor": 2
}