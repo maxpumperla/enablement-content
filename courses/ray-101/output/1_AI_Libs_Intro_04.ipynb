{
 "cells": [
  {
   "cell_type": "markdown",
   "metadata": {},
   "source": [
    "## 3. Running an experiment with Ray AI libraries\n",
    "\n",
    "### Steps to run:\n",
    "\n",
    "- Read the dataset with Ray Data\n",
    "- Split into train and test data\n",
    "- Define and run a Trainer with Ray Train\n",
    "- Optimize hyperparameters of this training run with Ray Tune\n",
    "- Run batch inference on a trained model\n",
    "- Compute online predictions for a model served with Ray Serve"
   ]
  },
  {
   "cell_type": "markdown",
   "metadata": {},
   "source": [
    "__Read, preprocess with Ray Data__"
   ]
  },
  {
   "cell_type": "code",
   "execution_count": 24,
   "metadata": {
    "tags": []
   },
   "outputs": [
    {
     "data": {
      "application/vnd.jupyter.widget-view+json": {
       "model_id": "4171837fd1c94e5882794ad391d8c1fc",
       "version_major": 2,
       "version_minor": 0
      },
      "text/plain": [
       "Parquet Files Sample 0:   0%|          | 0/1 [00:00<?, ? file/s]"
      ]
     },
     "metadata": {},
     "output_type": "display_data"
    }
   ],
   "source": [
    "import ray\n",
    "\n",
    "# Read the dataset from S3 (Parquet file)\n",
    "dataset = ray.data.read_parquet(\"s3://anonymous@anyscale-training-data/intro-to-ray-air/nyc_taxi_2021.parquet\")"
   ]
  },
  {
   "cell_type": "code",
   "execution_count": 25,
   "metadata": {},
   "outputs": [
    {
     "name": "stderr",
     "output_type": "stream",
     "text": [
      "2024-11-15 15:50:21,044\tINFO streaming_executor.py:108 -- Starting execution of Dataset. Full logs are in /tmp/ray/session_2024-11-15_08-44-25_924022_2383/logs/ray-data\n",
      "2024-11-15 15:50:21,044\tINFO streaming_executor.py:109 -- Execution plan of Dataset: InputDataBuffer[Input] -> TaskPoolMapOperator[ReadParquet]\n"
     ]
    },
    {
     "data": {
      "application/vnd.jupyter.widget-view+json": {
       "model_id": "4b6bb7e909d14bc882d43009e78efcd2",
       "version_major": 2,
       "version_minor": 0
      },
      "text/plain": [
       "- ReadParquet->SplitBlocks(32) 1: 0 bundle [00:00, ? bundle/s]"
      ]
     },
     "metadata": {},
     "output_type": "display_data"
    },
    {
     "data": {
      "application/vnd.jupyter.widget-view+json": {
       "model_id": "479f8e44c62544feb87819a1fdc8fc7f",
       "version_major": 2,
       "version_minor": 0
      },
      "text/plain": [
       "Running 0: 0 bundle [00:00, ? bundle/s]"
      ]
     },
     "metadata": {},
     "output_type": "display_data"
    },
    {
     "name": "stderr",
     "output_type": "stream",
     "text": [
      "2024-11-15 15:50:21,913\tINFO streaming_executor.py:108 -- Starting execution of Dataset. Full logs are in /tmp/ray/session_2024-11-15_08-44-25_924022_2383/logs/ray-data\n",
      "2024-11-15 15:50:21,913\tINFO streaming_executor.py:109 -- Execution plan of Dataset: InputDataBuffer[Input] -> TaskPoolMapOperator[ReadParquet]\n"
     ]
    },
    {
     "data": {
      "application/vnd.jupyter.widget-view+json": {
       "model_id": "6df515a45ff042f18618c9a8de31a32b",
       "version_major": 2,
       "version_minor": 0
      },
      "text/plain": [
       "- ReadParquet->SplitBlocks(32) 1: 0 bundle [00:00, ? bundle/s]"
      ]
     },
     "metadata": {},
     "output_type": "display_data"
    },
    {
     "data": {
      "application/vnd.jupyter.widget-view+json": {
       "model_id": "69d8b5498be1439eb75aebeb29bef4df",
       "version_major": 2,
       "version_minor": 0
      },
      "text/plain": [
       "Running 0: 0 bundle [00:00, ? bundle/s]"
      ]
     },
     "metadata": {},
     "output_type": "display_data"
    }
   ],
   "source": [
    "# Split the dataset into training and validation sets\n",
    "train_dataset, valid_dataset = dataset.train_test_split(test_size=0.3)"
   ]
  },
  {
   "cell_type": "markdown",
   "metadata": {},
   "source": [
    "__Fit model with Ray Train__"
   ]
  },
  {
   "cell_type": "code",
   "execution_count": 26,
   "metadata": {
    "tags": []
   },
   "outputs": [
    {
     "name": "stderr",
     "output_type": "stream",
     "text": [
      "2024-11-15 15:54:19,191\tINFO tune.py:616 -- [output] This uses the legacy output and progress reporter, as Jupyter notebooks are not supported by the new engine, yet. For more information, please see https://github.com/ray-project/ray/issues/36949\n",
      "2024-11-15 15:54:19,206\tINFO data_parallel_trainer.py:340 -- GPUs are detected in your Ray cluster, but GPU training is not enabled for this trainer. To enable GPU training, make sure to set `use_gpu` to True in your scaling config.\n"
     ]
    },
    {
     "name": "stdout",
     "output_type": "stream",
     "text": [
      "== Status ==\n",
      "Current time: 2024-11-15 15:54:19 (running for 00:00:00.11)\n",
      "Using FIFO scheduling algorithm.\n",
      "Logical resource usage: 5.0/16 CPUs, 0/2 GPUs (0.0/2.0 anyscale/region:us-west-2, 0.0/2.0 anyscale/accelerator_shape:1xT4, 0.0/2.0 accelerator_type:T4, 0.0/2.0 anyscale/provider:aws)\n",
      "Result logdir: /tmp/ray/session_2024-11-15_08-44-25_924022_2383/artifacts/2024-11-15_15-54-19/XGBoostTrainer_2024-11-15_15-54-19/driver_artifacts\n",
      "Number of trials: 1/1 (1 PENDING)\n",
      "\n",
      "\n"
     ]
    },
    {
     "data": {
      "application/vnd.jupyter.widget-view+json": {
       "model_id": "382bf50039fe40cba35527fd7f26b242",
       "version_major": 2,
       "version_minor": 0
      },
      "text/plain": [
       "(pid=161686) - split(4, equal=True) 1:   0%|          | 0/26 [00:00<?, ? bundle/s]"
      ]
     },
     "metadata": {},
     "output_type": "display_data"
    },
    {
     "data": {
      "application/vnd.jupyter.widget-view+json": {
       "model_id": "7d8927664873479c9b75cbcce714f7e7",
       "version_major": 2,
       "version_minor": 0
      },
      "text/plain": [
       "(pid=161686) Running 0:   0%|          | 0/26 [00:00<?, ? bundle/s]"
      ]
     },
     "metadata": {},
     "output_type": "display_data"
    },
    {
     "name": "stdout",
     "output_type": "stream",
     "text": [
      "== Status ==\n",
      "Current time: 2024-11-15 15:54:24 (running for 00:00:05.20)\n",
      "Using FIFO scheduling algorithm.\n",
      "Logical resource usage: 5.0/16 CPUs, 0/2 GPUs (0.0/2.0 anyscale/region:us-west-2, 0.0/2.0 anyscale/accelerator_shape:1xT4, 0.0/2.0 accelerator_type:T4, 0.0/2.0 anyscale/provider:aws)\n",
      "Result logdir: /tmp/ray/session_2024-11-15_08-44-25_924022_2383/artifacts/2024-11-15_15-54-19/XGBoostTrainer_2024-11-15_15-54-19/driver_artifacts\n",
      "Number of trials: 1/1 (1 RUNNING)\n",
      "\n",
      "\n"
     ]
    },
    {
     "data": {
      "application/vnd.jupyter.widget-view+json": {
       "model_id": "61aa8fd5dc9d4debbdaf0534f843ded0",
       "version_major": 2,
       "version_minor": 0
      },
      "text/plain": [
       "(pid=161687) - split(4, equal=True) 1:   0%|          | 0/39 [00:00<?, ? bundle/s]"
      ]
     },
     "metadata": {},
     "output_type": "display_data"
    },
    {
     "data": {
      "application/vnd.jupyter.widget-view+json": {
       "model_id": "7064f01b186b45e785027ded745b7694",
       "version_major": 2,
       "version_minor": 0
      },
      "text/plain": [
       "(pid=161687) Running 0:   0%|          | 0/39 [00:00<?, ? bundle/s]"
      ]
     },
     "metadata": {},
     "output_type": "display_data"
    },
    {
     "name": "stdout",
     "output_type": "stream",
     "text": [
      "== Status ==\n",
      "Current time: 2024-11-15 15:54:29 (running for 00:00:10.27)\n",
      "Using FIFO scheduling algorithm.\n",
      "Logical resource usage: 5.0/16 CPUs, 0/2 GPUs (0.0/2.0 anyscale/accelerator_shape:1xT4, 0.0/2.0 anyscale/provider:aws, 0.0/2.0 anyscale/region:us-west-2, 0.0/2.0 accelerator_type:T4)\n",
      "Result logdir: /tmp/ray/session_2024-11-15_08-44-25_924022_2383/artifacts/2024-11-15_15-54-19/XGBoostTrainer_2024-11-15_15-54-19/driver_artifacts\n",
      "Number of trials: 1/1 (1 RUNNING)\n",
      "\n",
      "\n"
     ]
    },
    {
     "name": "stderr",
     "output_type": "stream",
     "text": [
      "2024-11-15 15:54:31,784\tINFO tune.py:1009 -- Wrote the latest version of all result files and experiment state to '/mnt/cluster_storage/XGBoostTrainer_2024-11-15_15-54-19' in 0.0222s.\n",
      "2024-11-15 15:54:31,786\tINFO tune.py:1041 -- Total run time: 12.60 seconds (12.56 seconds for the tuning loop).\n"
     ]
    },
    {
     "name": "stdout",
     "output_type": "stream",
     "text": [
      "== Status ==\n",
      "Current time: 2024-11-15 15:54:31 (running for 00:00:12.58)\n",
      "Using FIFO scheduling algorithm.\n",
      "Logical resource usage: 5.0/16 CPUs, 0/2 GPUs (0.0/2.0 anyscale/accelerator_shape:1xT4, 0.0/2.0 anyscale/provider:aws, 0.0/2.0 anyscale/region:us-west-2, 0.0/2.0 accelerator_type:T4)\n",
      "Result logdir: /tmp/ray/session_2024-11-15_08-44-25_924022_2383/artifacts/2024-11-15_15-54-19/XGBoostTrainer_2024-11-15_15-54-19/driver_artifacts\n",
      "Number of trials: 1/1 (1 TERMINATED)\n",
      "\n",
      "\n"
     ]
    }
   ],
   "source": [
    "from ray.train.xgboost import XGBoostTrainer\n",
    "from ray.train import ScalingConfig, RunConfig\n",
    "\n",
    "\n",
    "# Define the Trainer (similar for other frameworks)\n",
    "trainer = XGBoostTrainer(\n",
    "    label_column=\"is_big_tip\",\n",
    "    # What resources to use?\n",
    "    scaling_config=ScalingConfig(num_workers=4, use_gpu=False),\n",
    "    params={\"objective\": \"binary:logistic\"},\n",
    "    datasets={\"train\": train_dataset, \"valid\": valid_dataset},\n",
    "    # How to run training (e.g. where to store training data)?\n",
    "    run_config=RunConfig(storage_path=\"/mnt/cluster_storage/\"),\n",
    ")\n",
    "\n",
    "# Fit the trainer:\n",
    "#   - Schedule resources for 1 training run (trial)\n",
    "#   - Trainer setup & data provisioning\n",
    "#   - Train the model and report back\n",
    "result = trainer.fit()\n"
   ]
  },
  {
   "cell_type": "markdown",
   "metadata": {},
   "source": [
    "__Optimize hyperparameters with Ray Tune__\n",
    "\n",
    "<img src=\"https://docs.ray.io/en/latest/_images/train-tuner.svg\" width=600>"
   ]
  },
  {
   "cell_type": "code",
   "execution_count": 27,
   "metadata": {
    "tags": []
   },
   "outputs": [
    {
     "data": {
      "text/html": [
       "<div class=\"tuneStatus\">\n",
       "  <div style=\"display: flex;flex-direction: row\">\n",
       "    <div style=\"display: flex;flex-direction: column;\">\n",
       "      <h3>Tune Status</h3>\n",
       "      <table>\n",
       "<tbody>\n",
       "<tr><td>Current time:</td><td>2024-11-15 15:59:03</td></tr>\n",
       "<tr><td>Running for: </td><td>00:00:13.29        </td></tr>\n",
       "<tr><td>Memory:      </td><td>5.2/31.0 GiB       </td></tr>\n",
       "</tbody>\n",
       "</table>\n",
       "    </div>\n",
       "    <div class=\"vDivider\"></div>\n",
       "    <div class=\"systemInfo\">\n",
       "      <h3>System Info</h3>\n",
       "      Using FIFO scheduling algorithm.<br>Logical resource usage: 5.0/16 CPUs, 0/2 GPUs (0.0/2.0 anyscale/provider:aws, 0.0/2.0 anyscale/region:us-west-2, 0.0/2.0 anyscale/accelerator_shape:1xT4, 0.0/2.0 accelerator_type:T4)\n",
       "    </div>\n",
       "    \n",
       "  </div>\n",
       "  <div class=\"hDivider\"></div>\n",
       "  <div class=\"trialStatus\">\n",
       "    <h3>Trial Status</h3>\n",
       "    <table>\n",
       "<thead>\n",
       "<tr><th>Trial name                </th><th>status    </th><th>loc               </th><th style=\"text-align: right;\">  params/max_depth</th><th style=\"text-align: right;\">  iter</th><th style=\"text-align: right;\">  total time (s)</th><th style=\"text-align: right;\">  train-logloss</th><th style=\"text-align: right;\">  valid-logloss</th></tr>\n",
       "</thead>\n",
       "<tbody>\n",
       "<tr><td>XGBoostTrainer_81312_00000</td><td>TERMINATED</td><td>10.0.17.156:163491</td><td style=\"text-align: right;\">                 5</td><td style=\"text-align: right;\">    11</td><td style=\"text-align: right;\">        10.0242 </td><td style=\"text-align: right;\">       0.66008 </td><td style=\"text-align: right;\">       0.660569</td></tr>\n",
       "<tr><td>XGBoostTrainer_81312_00001</td><td>TERMINATED</td><td>10.0.17.156:163492</td><td style=\"text-align: right;\">                 5</td><td style=\"text-align: right;\">    11</td><td style=\"text-align: right;\">        10.0059 </td><td style=\"text-align: right;\">       0.66008 </td><td style=\"text-align: right;\">       0.660569</td></tr>\n",
       "<tr><td>XGBoostTrainer_81312_00002</td><td>TERMINATED</td><td>10.0.25.71:43057  </td><td style=\"text-align: right;\">                 3</td><td style=\"text-align: right;\">    11</td><td style=\"text-align: right;\">         9.93615</td><td style=\"text-align: right;\">       0.662196</td><td style=\"text-align: right;\">       0.662499</td></tr>\n",
       "</tbody>\n",
       "</table>\n",
       "  </div>\n",
       "</div>\n",
       "<style>\n",
       ".tuneStatus {\n",
       "  color: var(--jp-ui-font-color1);\n",
       "}\n",
       ".tuneStatus .systemInfo {\n",
       "  display: flex;\n",
       "  flex-direction: column;\n",
       "}\n",
       ".tuneStatus td {\n",
       "  white-space: nowrap;\n",
       "}\n",
       ".tuneStatus .trialStatus {\n",
       "  display: flex;\n",
       "  flex-direction: column;\n",
       "}\n",
       ".tuneStatus h3 {\n",
       "  font-weight: bold;\n",
       "}\n",
       ".tuneStatus .hDivider {\n",
       "  border-bottom-width: var(--jp-border-width);\n",
       "  border-bottom-color: var(--jp-border-color0);\n",
       "  border-bottom-style: solid;\n",
       "}\n",
       ".tuneStatus .vDivider {\n",
       "  border-left-width: var(--jp-border-width);\n",
       "  border-left-color: var(--jp-border-color0);\n",
       "  border-left-style: solid;\n",
       "  margin: 0.5em 1em 0.5em 1em;\n",
       "}\n",
       "</style>\n"
      ],
      "text/plain": [
       "<IPython.core.display.HTML object>"
      ]
     },
     "metadata": {},
     "output_type": "display_data"
    },
    {
     "name": "stderr",
     "output_type": "stream",
     "text": [
      "2024-11-15 15:58:50,120\tINFO data_parallel_trainer.py:340 -- GPUs are detected in your Ray cluster, but GPU training is not enabled for this trainer. To enable GPU training, make sure to set `use_gpu` to True in your scaling config.\n",
      "2024-11-15 15:58:50,123\tINFO data_parallel_trainer.py:340 -- GPUs are detected in your Ray cluster, but GPU training is not enabled for this trainer. To enable GPU training, make sure to set `use_gpu` to True in your scaling config.\n",
      "2024-11-15 15:58:50,127\tINFO data_parallel_trainer.py:340 -- GPUs are detected in your Ray cluster, but GPU training is not enabled for this trainer. To enable GPU training, make sure to set `use_gpu` to True in your scaling config.\n"
     ]
    },
    {
     "data": {
      "application/vnd.jupyter.widget-view+json": {
       "model_id": "30f9e22dd4784d80863e3781805052f8",
       "version_major": 2,
       "version_minor": 0
      },
      "text/plain": [
       "(pid=43373, ip=10.0.25.71) - split(4, equal=True) 1:   0%|          | 0/26 [00:00<?, ? bundle/s]"
      ]
     },
     "metadata": {},
     "output_type": "display_data"
    },
    {
     "data": {
      "application/vnd.jupyter.widget-view+json": {
       "model_id": "6398e9e2df08452c882c4ab105d49868",
       "version_major": 2,
       "version_minor": 0
      },
      "text/plain": [
       "(pid=43373, ip=10.0.25.71) Running 0:   0%|          | 0/26 [00:00<?, ? bundle/s]"
      ]
     },
     "metadata": {},
     "output_type": "display_data"
    },
    {
     "data": {
      "application/vnd.jupyter.widget-view+json": {
       "model_id": "7bd78ce7678b4e6fa53f99b1e09bd3e4",
       "version_major": 2,
       "version_minor": 0
      },
      "text/plain": [
       "(pid=163874) - split(4, equal=True) 1:   0%|          | 0/26 [00:00<?, ? bundle/s]"
      ]
     },
     "metadata": {},
     "output_type": "display_data"
    },
    {
     "data": {
      "application/vnd.jupyter.widget-view+json": {
       "model_id": "806ccd0b5ec94ef98c0e3e603fb049f7",
       "version_major": 2,
       "version_minor": 0
      },
      "text/plain": [
       "(pid=163874) Running 0:   0%|          | 0/26 [00:00<?, ? bundle/s]"
      ]
     },
     "metadata": {},
     "output_type": "display_data"
    },
    {
     "data": {
      "application/vnd.jupyter.widget-view+json": {
       "model_id": "21e450d69d49426aad1eff31652a5c52",
       "version_major": 2,
       "version_minor": 0
      },
      "text/plain": [
       "(pid=163879) - split(4, equal=True) 1:   0%|          | 0/26 [00:00<?, ? bundle/s]"
      ]
     },
     "metadata": {},
     "output_type": "display_data"
    },
    {
     "data": {
      "application/vnd.jupyter.widget-view+json": {
       "model_id": "66f05ffd807747b1aa5ec75c41f1a219",
       "version_major": 2,
       "version_minor": 0
      },
      "text/plain": [
       "(pid=163879) Running 0:   0%|          | 0/26 [00:00<?, ? bundle/s]"
      ]
     },
     "metadata": {},
     "output_type": "display_data"
    },
    {
     "data": {
      "application/vnd.jupyter.widget-view+json": {
       "model_id": "77c870497eac42629f915ac6bac6ad8c",
       "version_major": 2,
       "version_minor": 0
      },
      "text/plain": [
       "(pid=43374, ip=10.0.25.71) - split(4, equal=True) 1:   0%|          | 0/39 [00:00<?, ? bundle/s]"
      ]
     },
     "metadata": {},
     "output_type": "display_data"
    },
    {
     "data": {
      "application/vnd.jupyter.widget-view+json": {
       "model_id": "7f9c7bc17b9b43589f9816889d615081",
       "version_major": 2,
       "version_minor": 0
      },
      "text/plain": [
       "(pid=43374, ip=10.0.25.71) Running 0:   0%|          | 0/39 [00:00<?, ? bundle/s]"
      ]
     },
     "metadata": {},
     "output_type": "display_data"
    },
    {
     "data": {
      "application/vnd.jupyter.widget-view+json": {
       "model_id": "438969ea3e094c59a13a4e4b66adb21c",
       "version_major": 2,
       "version_minor": 0
      },
      "text/plain": [
       "(pid=163880) - split(4, equal=True) 1:   0%|          | 0/39 [00:00<?, ? bundle/s]"
      ]
     },
     "metadata": {},
     "output_type": "display_data"
    },
    {
     "data": {
      "application/vnd.jupyter.widget-view+json": {
       "model_id": "9566d31c0d45409d8069531b559e4549",
       "version_major": 2,
       "version_minor": 0
      },
      "text/plain": [
       "(pid=163880) Running 0:   0%|          | 0/39 [00:00<?, ? bundle/s]"
      ]
     },
     "metadata": {},
     "output_type": "display_data"
    },
    {
     "data": {
      "application/vnd.jupyter.widget-view+json": {
       "model_id": "eee51de61b9143b4ae68896f1ec29ad6",
       "version_major": 2,
       "version_minor": 0
      },
      "text/plain": [
       "(pid=163877) - split(4, equal=True) 1:   0%|          | 0/39 [00:00<?, ? bundle/s]"
      ]
     },
     "metadata": {},
     "output_type": "display_data"
    },
    {
     "data": {
      "application/vnd.jupyter.widget-view+json": {
       "model_id": "da60c29650ed44feb38760e048a9f123",
       "version_major": 2,
       "version_minor": 0
      },
      "text/plain": [
       "(pid=163877) Running 0:   0%|          | 0/39 [00:00<?, ? bundle/s]"
      ]
     },
     "metadata": {},
     "output_type": "display_data"
    },
    {
     "name": "stderr",
     "output_type": "stream",
     "text": [
      "2024-11-15 15:59:03,410\tINFO tune.py:1009 -- Wrote the latest version of all result files and experiment state to '/mnt/cluster_storage/XGBoostTrainer_2024-11-15_15-58-50' in 0.0516s.\n",
      "2024-11-15 15:59:03,415\tINFO tune.py:1041 -- Total run time: 13.31 seconds (13.24 seconds for the tuning loop).\n"
     ]
    }
   ],
   "source": [
    "from ray import tune\n",
    "from ray.tune import Tuner, TuneConfig\n",
    "\n",
    "\n",
    "tuner = Tuner(\n",
    "    # Pass the Trainer instance\n",
    "    trainer,\n",
    "    # Random search over max_depth\n",
    "    param_space={\"params\": {\"max_depth\": tune.randint(2, 12)}},\n",
    "    # 3 trials in total, minimize validation (log) loss\n",
    "    tune_config=TuneConfig(num_samples=3, metric=\"valid-logloss\", mode=\"min\"),\n",
    "    # Might need a different config here\n",
    "    run_config=RunConfig(storage_path=\"/mnt/cluster_storage/\"),\n",
    ")\n",
    "\n",
    "# Fit the tuner and get the best checkpoint\n",
    "# Takes about as long as the single run before.\n",
    "checkpoint = tuner.fit().get_best_result().checkpoint"
   ]
  },
  {
   "cell_type": "markdown",
   "metadata": {},
   "source": [
    "__Batch inference with Ray Data__"
   ]
  },
  {
   "cell_type": "code",
   "execution_count": 28,
   "metadata": {
    "tags": []
   },
   "outputs": [],
   "source": [
    "import xgboost\n",
    "import pandas as pd\n",
    "\n",
    "\n",
    "class OfflinePredictor:\n",
    "    def __init__(self):\n",
    "        # Load model once (expensive, stateful operation)\n",
    "        self._model = xgboost.Booster()\n",
    "        self._model.load_model(checkpoint.path + \"/model.ubj\")\n",
    "\n",
    "    def __call__(self, batch: dict) -> dict:\n",
    "        # Make prediction in batches\n",
    "        dmatrix = xgboost.DMatrix(pd.DataFrame(batch))\n",
    "        prediction = self._model.predict(dmatrix)\n",
    "        return {\"prediction\": prediction}"
   ]
  },
  {
   "cell_type": "code",
   "execution_count": 31,
   "metadata": {
    "tags": []
   },
   "outputs": [
    {
     "name": "stderr",
     "output_type": "stream",
     "text": [
      "2024-11-15 16:05:08,459\tINFO streaming_executor.py:108 -- Starting execution of Dataset. Full logs are in /tmp/ray/session_2024-11-15_08-44-25_924022_2383/logs/ray-data\n",
      "2024-11-15 16:05:08,460\tINFO streaming_executor.py:109 -- Execution plan of Dataset: InputDataBuffer[Input] -> ActorPoolMapOperator[MapBatches(drop_columns)->MapBatches(OfflinePredictor)] -> LimitOperator[limit=10]\n"
     ]
    },
    {
     "data": {
      "application/vnd.jupyter.widget-view+json": {
       "model_id": "020cdc52c156498d93d5ac50905882c2",
       "version_major": 2,
       "version_minor": 0
      },
      "text/plain": [
       "- MapBatches(drop_columns)->MapBatches(OfflinePredictor) 1: 0 bundle [00:00, ? bundle/s]"
      ]
     },
     "metadata": {},
     "output_type": "display_data"
    },
    {
     "data": {
      "application/vnd.jupyter.widget-view+json": {
       "model_id": "efd4d96ee39c4be0b4c05fc233aaaa35",
       "version_major": 2,
       "version_minor": 0
      },
      "text/plain": [
       "- limit=10 2: 0 bundle [00:00, ? bundle/s]"
      ]
     },
     "metadata": {},
     "output_type": "display_data"
    },
    {
     "data": {
      "application/vnd.jupyter.widget-view+json": {
       "model_id": "7349b3f1ba794b08a66b8b855489625a",
       "version_major": 2,
       "version_minor": 0
      },
      "text/plain": [
       "Running 0: 0 bundle [00:00, ? bundle/s]"
      ]
     },
     "metadata": {},
     "output_type": "display_data"
    },
    {
     "name": "stderr",
     "output_type": "stream",
     "text": [
      "2024-11-15 16:05:10,388\tWARNING actor_pool_map_operator.py:265 -- To ensure full parallelization across an actor pool of size 2, the Dataset should consist of at least 2 distinct blocks. Consider increasing the parallelism when creating the Dataset.\n"
     ]
    },
    {
     "data": {
      "text/plain": [
       "{'prediction': array([0.6290559 , 0.6290559 , 0.5404948 , 0.6290559 , 0.5552995 ,\n",
       "        0.5529555 , 0.6290559 , 0.6290559 , 0.60417205, 0.5588189 ],\n",
       "       dtype=float32)}"
      ]
     },
     "execution_count": 31,
     "metadata": {},
     "output_type": "execute_result"
    }
   ],
   "source": [
    "# Apply the predictor to the validation dataset (minus the labels)\n",
    "valid_dataset_features = valid_dataset.drop_columns(['is_big_tip'])\n",
    "\n",
    "# Map batches of features over the predictor\n",
    "predicted_probabilities = valid_dataset_features.map_batches(OfflinePredictor, concurrency=2)\n",
    "\n",
    "# Materialize (\"take\") a batch of 10 predictions from the cluster\n",
    "predicted_probabilities.take_batch(10)"
   ]
  },
  {
   "cell_type": "markdown",
   "metadata": {},
   "source": [
    "__Online prediction with Ray Serve__"
   ]
  },
  {
   "cell_type": "code",
   "execution_count": 32,
   "metadata": {
    "tags": []
   },
   "outputs": [
    {
     "name": "stderr",
     "output_type": "stream",
     "text": [
      "2024-11-15 16:08:47,352\tWARNING api.py:346 -- The default value for `max_ongoing_requests` has changed from 100 to 5 in Ray 2.32.0.\n",
      "2024-11-15 16:08:47,354\tWARNING api.py:397 -- The default value for `max_ongoing_requests` has changed from 100 to 5 in Ray 2.32.0.\n",
      "2024-11-15 16:08:51,404\tINFO handle.py:126 -- Created DeploymentHandle 'dx5qijjx' for Deployment(name='OnlinePredictor', app='default').\n",
      "2024-11-15 16:08:51,405\tINFO handle.py:126 -- Created DeploymentHandle 'bw4198ni' for Deployment(name='OnlinePredictor', app='default').\n",
      "2024-11-15 16:08:54,422\tINFO handle.py:126 -- Created DeploymentHandle 'es3qaucg' for Deployment(name='OnlinePredictor', app='default').\n",
      "2024-11-15 16:08:54,423\tINFO api.py:574 -- Deployed app 'default' successfully.\n"
     ]
    }
   ],
   "source": [
    "import json\n",
    "from ray import serve\n",
    "from starlette.requests import Request\n",
    "\n",
    "\n",
    "@serve.deployment\n",
    "class OnlinePredictor:\n",
    "    def __init__(self, checkpoint):\n",
    "        # Load model once (same as before)\n",
    "        self._model = xgboost.Booster()\n",
    "        self._model.load_model(checkpoint.path + \"/model.ubj\")\n",
    "\n",
    "    async def __call__(self, request: Request) -> dict:\n",
    "        request_data = await request.json()\n",
    "        data = json.loads(request_data)\n",
    "        \n",
    "        # Same structure as in offline prediction (different input data)\n",
    "        dmatrix = xgboost.DMatrix(pd.DataFrame(data))\n",
    "        return {\"prediction\": self._model.predict(dmatrix)}\n",
    "\n",
    "\n",
    "# Create the model deployment (\"handle\")\n",
    "# Binds to localhost:8000 by default\n",
    "handle = serve.run(OnlinePredictor.bind(checkpoint=checkpoint))"
   ]
  },
  {
   "cell_type": "code",
   "execution_count": 33,
   "metadata": {
    "tags": []
   },
   "outputs": [
    {
     "name": "stderr",
     "output_type": "stream",
     "text": [
      "2024-11-15 16:09:49,192\tINFO streaming_executor.py:108 -- Starting execution of Dataset. Full logs are in /tmp/ray/session_2024-11-15_08-44-25_924022_2383/logs/ray-data\n",
      "2024-11-15 16:09:49,192\tINFO streaming_executor.py:109 -- Execution plan of Dataset: InputDataBuffer[Input] -> TaskPoolMapOperator[MapBatches(drop_columns)] -> LimitOperator[limit=1]\n"
     ]
    },
    {
     "data": {
      "application/vnd.jupyter.widget-view+json": {
       "model_id": "2678e03029204bb2ab5d53fcf1960566",
       "version_major": 2,
       "version_minor": 0
      },
      "text/plain": [
       "- MapBatches(drop_columns) 1: 0 bundle [00:00, ? bundle/s]"
      ]
     },
     "metadata": {},
     "output_type": "display_data"
    },
    {
     "data": {
      "application/vnd.jupyter.widget-view+json": {
       "model_id": "b12bc1dd44f449e4ac518405338f7e5c",
       "version_major": 2,
       "version_minor": 0
      },
      "text/plain": [
       "- limit=1 2: 0 bundle [00:00, ? bundle/s]"
      ]
     },
     "metadata": {},
     "output_type": "display_data"
    },
    {
     "data": {
      "application/vnd.jupyter.widget-view+json": {
       "model_id": "18f6b315401a4758920d699be2347224",
       "version_major": 2,
       "version_minor": 0
      },
      "text/plain": [
       "Running 0: 0 bundle [00:00, ? bundle/s]"
      ]
     },
     "metadata": {},
     "output_type": "display_data"
    },
    {
     "data": {
      "text/plain": [
       "{'prediction': [0.629055917263031]}"
      ]
     },
     "execution_count": 33,
     "metadata": {},
     "output_type": "execute_result"
    }
   ],
   "source": [
    "import requests\n",
    "\n",
    "# Form payload\n",
    "sample_batch = valid_dataset_features.take_batch(1)\n",
    "data = pd.DataFrame(sample_batch).to_json(orient=\"records\")\n",
    "\n",
    "# Send HTTP request\n",
    "requests.post(\"http://localhost:8000/\", json=data).json()"
   ]
  },
  {
   "cell_type": "code",
   "execution_count": 34,
   "metadata": {
    "tags": []
   },
   "outputs": [],
   "source": [
    "# Shutdown Ray Serve\n",
    "serve.shutdown()"
   ]
  },
  {
   "cell_type": "code",
   "execution_count": 35,
   "metadata": {},
   "outputs": [],
   "source": [
    "# Cleanup\n",
    "!rm -rf /mnt/cluster_storage/XGBoostTrainer*"
   ]
  },
  {
   "cell_type": "markdown",
   "metadata": {},
   "source": [
    "### Recap\n",
    "\n",
    "|<img src=\"https://technical-training-assets.s3.us-west-2.amazonaws.com/Introduction_to_Ray_AIR/e2e_air.png\" width=\"100%\" loading=\"lazy\">|\n",
    "|:-:|\n",
    "|Ray AI Libraries enable end-to-end ML development and provides multiple options for integrating with other tools and libraries form the MLOps ecosystem.|\n"
   ]
  }
 ],
 "metadata": {
  "kernelspec": {
   "display_name": "Python 3 (ipykernel)",
   "language": "python",
   "name": "python3"
  },
  "language_info": {
   "codemirror_mode": {
    "name": "ipython",
    "version": 3
   },
   "file_extension": ".py",
   "mimetype": "text/x-python",
   "name": "python",
   "nbconvert_exporter": "python",
   "pygments_lexer": "ipython3",
   "version": "3.11.8"
  }
 },
 "nbformat": 4,
 "nbformat_minor": 4
}