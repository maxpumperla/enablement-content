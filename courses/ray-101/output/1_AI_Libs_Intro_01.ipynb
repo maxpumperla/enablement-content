{
 "cells": [
  {
   "cell_type": "markdown",
   "metadata": {},
   "source": [
    "# Introduction to the Ray AI Libraries\n",
    "\n",
    "Let's start with a quick end-to-end example to get a sense of what the Ray AI Libraries can do.\n",
    "\n",
    "<div class=\"alert alert-block alert-info\">\n",
    "<b> Here is the roadmap for this notebook:</b>\n",
    "<ul>\n",
    "    <li><b>Lesson 0:</b> Welcome</a></li>\n",
    "    <li><b>Lesson 1:</b> Overview of the Ray AI Libraries</a></li>\n",
    "    <li><b>Lesson 2:</b> Discussing an end-to-end example</a></li>\n",
    "    <li><b>Lesson 3:</b> Running the example with Ray AI Libraries</a></li>\n",
    "</ul>\n",
    "</div>\n"
   ]
  },
  {
   "cell_type": "markdown",
   "metadata": {},
   "source": [
    "### Running this notebook\n",
    "\n",
    "- Compute cluster managed by Anyscale\n",
    "- Batteries-included Ray\n",
    "- Distributed across 2 nodes, with 8 CPUs and 1 GPU each\n",
    "- You can run this notebook on your own (no GPU needed)"
   ]
  }
 ],
 "metadata": {
  "kernelspec": {
   "display_name": "Python 3 (ipykernel)",
   "language": "python",
   "name": "python3"
  },
  "language_info": {
   "codemirror_mode": {
    "name": "ipython",
    "version": 3
   },
   "file_extension": ".py",
   "mimetype": "text/x-python",
   "name": "python",
   "nbconvert_exporter": "python",
   "pygments_lexer": "ipython3",
   "version": "3.11.8"
  }
 },
 "nbformat": 4,
 "nbformat_minor": 4
}