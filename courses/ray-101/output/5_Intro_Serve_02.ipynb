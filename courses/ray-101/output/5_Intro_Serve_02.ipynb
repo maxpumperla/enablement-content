{
 "cells": [
  {
   "cell_type": "markdown",
   "id": "7250cc03-e52c-4e30-a262-8d8e0a5a0837",
   "metadata": {},
   "source": [
    "## 1. Overview of Ray Serve\n",
    "\n",
    "Serve is a framework for serving ML applications. \n",
    "\n",
    "Here is a high-level overview of the architecture of a Ray Serve Application.\n",
    "\n",
    "<img src='https://technical-training-assets.s3.us-west-2.amazonaws.com/Ray_Serve/serve_architecture.png' width=700/>\n",
    "\n",
    "An Application is a collection of one or more Deployments that are deployed together.\n",
    "\n",
    "### Deployments\n",
    "\n",
    "- `Deployment` is the fundamental developer-facing element of serve.\n",
    "- You send requests to deployments.\n",
    "\n",
    "<img src='https://technical-training-assets.s3.us-west-2.amazonaws.com/Ray_Serve/deployment.png' width=600/>\n",
    "\n",
    "- Each deployment can have multiple replicas. \n",
    "- A replica is implemented as a Ray actor with a queue to process incoming requests.\n",
    "- Each replica can be configured with a set of compute resources. "
   ]
  },
  {
   "cell_type": "markdown",
   "id": "6380b141",
   "metadata": {},
   "source": [
    "### When to use Ray Serve?\n",
    "\n",
    "Ray Serve is designed to be used in the following scenarios:\n",
    "- Build end-to-end ML applications with a flexible and programmable Python API\n",
    "- Flexibly scale up and down your compute resources to meet the demand of your application\n",
    "- Easy to develop on a local machine, and scale to a multi-node GPU cluster\n",
    "\n",
    "#### Key Ray Serve Features\n",
    "Ray Serve provides the following key features and optimizations:\n",
    "- [response streaming](https://docs.ray.io/en/latest/serve/tutorials/streaming.html)\n",
    "- [dynamic request batching](https://docs.ray.io/en/latest/serve/advanced-guides/dyn-req-batch.html)\n",
    "- [multi-node/multi-GPU serving](https://docs.ray.io/en/latest/serve/tutorials/vllm-example.html)\n",
    "- [model multiplexing](https://docs.ray.io/en/latest/serve/model-multiplexing.html)\n",
    "- [fractional compute resource usage](https://docs.ray.io/en/latest/serve/configure-serve-deployment.html)"
   ]
  }
 ],
 "metadata": {
  "kernelspec": {
   "display_name": "Python 3 (ipykernel)",
   "language": "python",
   "name": "python3"
  },
  "language_info": {
   "codemirror_mode": {
    "name": "ipython",
    "version": 3
   },
   "file_extension": ".py",
   "mimetype": "text/x-python",
   "name": "python",
   "nbconvert_exporter": "python",
   "pygments_lexer": "ipython3",
   "version": "3.11.8"
  }
 },
 "nbformat": 4,
 "nbformat_minor": 5
}