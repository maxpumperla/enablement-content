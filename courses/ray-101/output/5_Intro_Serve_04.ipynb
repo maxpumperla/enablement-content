{
 "cells": [
  {
   "cell_type": "markdown",
   "id": "4e170084",
   "metadata": {},
   "source": [
    "## 3. Advanced features of Ray Serve"
   ]
  },
  {
   "cell_type": "markdown",
   "id": "da2b22a2",
   "metadata": {},
   "source": [
    "### Using fractions of a GPU\n",
    "\n",
    "With Ray we can specify fractional compute resources for each deployment's replica. \n",
    "\n",
    "This is useful to help us fully utilize a GPU especially when running small models like our `MNISTClassifier` model.\n",
    "\n",
    "Here is how to specify only 10% of a GPU's compute resources for our `MNISTClassifier` model."
   ]
  },
  {
   "cell_type": "code",
   "execution_count": 9,
   "id": "230f9ff2",
   "metadata": {},
   "outputs": [],
   "source": [
    "mnist_app = OnlineMNISTClassifier.options(\n",
    "    num_replicas=4, # we can scale to up to 10 replicas on a single GPU\n",
    "    ray_actor_options={\"num_gpus\": 0.1}, \n",
    ").bind(local_path=\"/mnt/cluster_storage/model.pt\")"
   ]
  },
  {
   "cell_type": "markdown",
   "id": "b35a8d83",
   "metadata": {},
   "source": [
    "Next we update the running application by running serve.run with the new options."
   ]
  },
  {
   "cell_type": "code",
   "execution_count": 10,
   "id": "9e9ad6fa",
   "metadata": {},
   "outputs": [
    {
     "name": "stderr",
     "output_type": "stream",
     "text": [
      "2024-12-13 08:26:56,510\tINFO handle.py:126 -- Created DeploymentHandle 't03z0nz6' for Deployment(name='OnlineMNISTClassifier', app='mnist_classifier').\n",
      "2024-12-13 08:26:56,511\tINFO handle.py:126 -- Created DeploymentHandle 'nkuhydqb' for Deployment(name='OnlineMNISTClassifier', app='mnist_classifier').\n",
      "2024-12-13 08:27:05,544\tINFO api.py:574 -- Deployed app 'mnist_classifier' successfully.\n"
     ]
    },
    {
     "name": "stderr",
     "output_type": "stream",
     "text": [
      "2024-12-13 08:27:01,026\tINFO pow_2_scheduler.py:260 -- Got updated replicas for Deployment(name='OnlineMNISTClassifier', app='mnist_classifier'): {'3jw5er2a', '33le5oca', 'ldfdsx9y'}.\n",
      "2024-12-13 08:27:04,963\tINFO pow_2_scheduler.py:260 -- Got updated replicas for Deployment(name='OnlineMNISTClassifier', app='mnist_classifier'): {'3jw5er2a', 'yzcovfs1', '33le5oca', 'ldfdsx9y'}.\n",
      "2024-12-13 08:33:39,268\tINFO pow_2_scheduler.py:260 -- Got updated replicas for Deployment(name='OnlineMNISTClassifier', app='mnist_classifier'): set().\n",
      "2024-12-13 08:35:20,218\tINFO pow_2_scheduler.py:260 -- Got updated replicas for Deployment(name='OnlineMNISTClassifier', app='mnist_classifier'): {'rxr0eh2z'}.\n",
      "2024-12-13 08:35:24,606\tINFO pow_2_scheduler.py:260 -- Got updated replicas for Deployment(name='OnlineMNISTClassifier', app='mnist_classifier'): {'8g7ss5ya', 'rxr0eh2z', 'p50j70xb'}.\n",
      "2024-12-13 08:35:27,930\tINFO pow_2_scheduler.py:260 -- Got updated replicas for Deployment(name='OnlineMNISTClassifier', app='mnist_classifier'): {'8g7ss5ya', '3jf5e3d8', 'rxr0eh2z', 'p50j70xb'}.\n",
      "2024-12-13 08:35:28,780\tINFO pow_2_scheduler.py:260 -- Got updated replicas for Deployment(name='OnlineMNISTClassifier', app='mnist_classifier'): {'7vmfe6bq', 'p50j70xb', 'rxr0eh2z', 'pjtb8s60', '4dvcy3de', 'fptnfbbe', '8g7ss5ya', '3jf5e3d8'}.\n",
      "2024-12-13 08:35:28,887\tINFO pow_2_scheduler.py:260 -- Got updated replicas for Deployment(name='OnlineMNISTClassifier', app='mnist_classifier'): {'7vmfe6bq', 'p50j70xb', 'dvp7icd9', 'xoqusa5a', 'pjtb8s60', 'rxr0eh2z', '4dvcy3de', 'fptnfbbe', '8g7ss5ya', '3jf5e3d8'}.\n",
      "2024-12-13 08:36:04,504\tINFO pow_2_scheduler.py:260 -- Got updated replicas for Deployment(name='OnlineMNISTClassifier', app='mnist_classifier'): set().\n",
      "2024-12-13 08:39:56,498\tINFO pow_2_scheduler.py:260 -- Got updated replicas for Deployment(name='OnlineMNISTPreprocessor', app='mnist_preprocessor'): {'5ld5x44p'}.\n",
      "2024-12-13 08:40:37,815\tINFO pow_2_scheduler.py:260 -- Got updated replicas for Deployment(name='OnlineMNISTPreprocessor', app='mnist_preprocessor'): set().\n"
     ]
    }
   ],
   "source": [
    "mnist_deployment_handle = serve.run(mnist_app, name='mnist_classifier', blocking=False)"
   ]
  },
  {
   "cell_type": "markdown",
   "id": "b196a535",
   "metadata": {},
   "source": [
    "We can test the new application by sending a sample request."
   ]
  },
  {
   "cell_type": "code",
   "execution_count": 11,
   "id": "c5aad97c",
   "metadata": {},
   "outputs": [
    {
     "data": {
      "text/plain": [
       "[1, 6]"
      ]
     },
     "execution_count": 11,
     "metadata": {},
     "output_type": "execute_result"
    }
   ],
   "source": [
    "images = np.random.rand(2, 1, 28, 28).tolist()\n",
    "json_request = json.dumps({\"image\": images})\n",
    "response = requests.post(\"http://localhost:8000/\", json=json_request)\n",
    "response.json()[\"predicted_label\"]"
   ]
  },
  {
   "cell_type": "markdown",
   "id": "05041234",
   "metadata": {},
   "source": [
    "### Customizing autoscaling\n",
    "\n",
    "Ray Serve provides a simple way to autoscale the number of replicas in a deployment. It is primarily based on the target number of ongoing requests per replica.\n",
    "\n",
    "i.e. here is how we can set the autoscaling config for our `OnlineMNISTClassifier` deployment."
   ]
  },
  {
   "cell_type": "code",
   "execution_count": 12,
   "id": "e356f749",
   "metadata": {},
   "outputs": [],
   "source": [
    "mnist_app = OnlineMNISTClassifier.options(\n",
    "    ray_actor_options={\"num_gpus\": 0.1}, \n",
    "    autoscaling_config={\n",
    "        \"target_ongoing_requests\": 10,\n",
    "    },\n",
    ").bind(local_path=\"/mnt/cluster_storage/model.pt\")"
   ]
  },
  {
   "cell_type": "markdown",
   "id": "1ae8a244",
   "metadata": {},
   "source": [
    "We can also control more granularly the autoscaling logic by setting:\n",
    "- the upscale and downscale delays\n",
    "- the intervals at which the replica sends metrics reports about the current number of ongoing requests\n",
    "- the look-back period used to evaluate the current number of ongoing requests\n",
    "\n",
    "Here is an example of how to set these options:"
   ]
  },
  {
   "cell_type": "code",
   "execution_count": 13,
   "id": "6e5594d5",
   "metadata": {},
   "outputs": [],
   "source": [
    "mnist_app = OnlineMNISTClassifier.options(\n",
    "    ray_actor_options={\"num_gpus\": 0.1}, \n",
    "    autoscaling_config={\n",
    "        \"target_ongoing_requests\": 10,\n",
    "        \"upscale_delay_s\": 10,\n",
    "        \"downscale_delay_s\": 10,\n",
    "        \"metrics_interval_s\": 10,\n",
    "        \"look_back_period_s\": 10, \n",
    "    },\n",
    ").bind(local_path=\"/mnt/cluster_storage/model.pt\")"
   ]
  },
  {
   "cell_type": "markdown",
   "id": "e8a643b4",
   "metadata": {},
   "source": [
    "We can additionally control the minimum and maximum number of replicas that can be scaled up and down. \n",
    "\n",
    "We can even specify to start scaling up from 0 replicas."
   ]
  },
  {
   "cell_type": "code",
   "execution_count": 14,
   "id": "ebea6c15",
   "metadata": {},
   "outputs": [],
   "source": [
    "mnist_app = OnlineMNISTClassifier.options(\n",
    "    ray_actor_options={\"num_gpus\": 0.1}, \n",
    "    autoscaling_config={\n",
    "        \"target_ongoing_requests\": 10,\n",
    "        \"initial_replicas\": 0, # scale up from 0 replicas\n",
    "        \"min_replicas\": 0,\n",
    "        \"max_replicas\": 10,\n",
    "        # extreme upscale speeds\n",
    "        \"upscale_delay_s\": 0,\n",
    "        \"metrics_interval_s\": 0.1,\n",
    "        \"look_back_period_s\": 0.1,\n",
    "    },\n",
    ").bind(local_path=\"/mnt/cluster_storage/model.pt\")"
   ]
  },
  {
   "cell_type": "markdown",
   "id": "e040d6ac",
   "metadata": {},
   "source": [
    "Let's run the application with the new autoscaling config."
   ]
  },
  {
   "cell_type": "code",
   "execution_count": 15,
   "id": "fbe684a4",
   "metadata": {},
   "outputs": [
    {
     "name": "stderr",
     "output_type": "stream",
     "text": [
      "2024-12-13 08:33:39,101\tINFO handle.py:126 -- Created DeploymentHandle 'g1hdd0kd' for Deployment(name='OnlineMNISTClassifier', app='mnist_classifier').\n",
      "2024-12-13 08:33:39,102\tINFO handle.py:126 -- Created DeploymentHandle 'r42tv4g9' for Deployment(name='OnlineMNISTClassifier', app='mnist_classifier').\n",
      "2024-12-13 08:33:42,117\tINFO api.py:574 -- Deployed app 'mnist_classifier' successfully.\n"
     ]
    }
   ],
   "source": [
    "mnist_deployment_handle = serve.run(mnist_app, name='mnist_classifier', blocking=False)"
   ]
  },
  {
   "cell_type": "markdown",
   "id": "75be6e25",
   "metadata": {},
   "source": [
    "Looking at the Ray Serve dashboard, we can see we are currently at 0 replicas - i.e. no GPU resources are being used.\n",
    "\n",
    "<img src='https://anyscale-public-materials.s3.us-west-2.amazonaws.com/ray-ai-libraries/diagrams/autoscaling_at_0.png' width=700/>"
   ]
  },
  {
   "cell_type": "markdown",
   "id": "761fd6a6",
   "metadata": {},
   "source": [
    "We can send out a larger number of requests to the `OnlineMNISTClassifier` deployment to see the autoscaling in action."
   ]
  },
  {
   "cell_type": "code",
   "execution_count": 16,
   "id": "7a7a834f",
   "metadata": {},
   "outputs": [
    {
     "name": "stderr",
     "output_type": "stream",
     "text": [
      "2024-12-13 08:35:16,122\tINFO handle.py:126 -- Created DeploymentHandle 'o9qyndkq' for Deployment(name='OnlineMNISTClassifier', app='mnist_classifier').\n",
      "2024-12-13 08:35:16,123\tINFO handle.py:126 -- Created DeploymentHandle 't4jr7eto' for Deployment(name='OnlineMNISTClassifier', app='mnist_classifier').\n",
      "2024-12-13 08:35:16,124\tINFO handle.py:126 -- Created DeploymentHandle 'kmmsc84y' for Deployment(name='OnlineMNISTClassifier', app='mnist_classifier').\n",
      "2024-12-13 08:35:16,126\tINFO handle.py:126 -- Created DeploymentHandle 'tsct5mrk' for Deployment(name='OnlineMNISTClassifier', app='mnist_classifier').\n",
      "2024-12-13 08:35:16,127\tINFO handle.py:126 -- Created DeploymentHandle '43ppxrvj' for Deployment(name='OnlineMNISTClassifier', app='mnist_classifier').\n",
      "2024-12-13 08:35:16,130\tINFO handle.py:126 -- Created DeploymentHandle 'i4i1kg29' for Deployment(name='OnlineMNISTClassifier', app='mnist_classifier').\n",
      "2024-12-13 08:35:16,132\tINFO handle.py:126 -- Created DeploymentHandle '4keu50ib' for Deployment(name='OnlineMNISTClassifier', app='mnist_classifier').\n",
      "2024-12-13 08:35:16,133\tINFO handle.py:126 -- Created DeploymentHandle 'c4lx979m' for Deployment(name='OnlineMNISTClassifier', app='mnist_classifier').\n",
      "2024-12-13 08:35:16,135\tINFO handle.py:126 -- Created DeploymentHandle 'mnytevsp' for Deployment(name='OnlineMNISTClassifier', app='mnist_classifier').\n",
      "2024-12-13 08:35:16,136\tINFO handle.py:126 -- Created DeploymentHandle '7a8egk9c' for Deployment(name='OnlineMNISTClassifier', app='mnist_classifier').\n",
      "2024-12-13 08:35:16,138\tINFO handle.py:126 -- Created DeploymentHandle 'gaf509er' for Deployment(name='OnlineMNISTClassifier', app='mnist_classifier').\n",
      "2024-12-13 08:35:16,140\tINFO handle.py:126 -- Created DeploymentHandle '4qwjdyhl' for Deployment(name='OnlineMNISTClassifier', app='mnist_classifier').\n",
      "2024-12-13 08:35:16,141\tINFO handle.py:126 -- Created DeploymentHandle 'forgjbb7' for Deployment(name='OnlineMNISTClassifier', app='mnist_classifier').\n",
      "2024-12-13 08:35:16,143\tINFO handle.py:126 -- Created DeploymentHandle 'o1rs6ke4' for Deployment(name='OnlineMNISTClassifier', app='mnist_classifier').\n",
      "2024-12-13 08:35:16,144\tINFO handle.py:126 -- Created DeploymentHandle '9j7orxhb' for Deployment(name='OnlineMNISTClassifier', app='mnist_classifier').\n",
      "2024-12-13 08:35:16,146\tINFO handle.py:126 -- Created DeploymentHandle 'qo3d18n4' for Deployment(name='OnlineMNISTClassifier', app='mnist_classifier').\n",
      "2024-12-13 08:35:16,147\tINFO handle.py:126 -- Created DeploymentHandle 'w3hz4r5o' for Deployment(name='OnlineMNISTClassifier', app='mnist_classifier').\n",
      "2024-12-13 08:35:16,149\tINFO handle.py:126 -- Created DeploymentHandle 'rg846qqv' for Deployment(name='OnlineMNISTClassifier', app='mnist_classifier').\n",
      "2024-12-13 08:35:16,151\tINFO handle.py:126 -- Created DeploymentHandle 'vbcp62l0' for Deployment(name='OnlineMNISTClassifier', app='mnist_classifier').\n",
      "2024-12-13 08:35:16,152\tINFO handle.py:126 -- Created DeploymentHandle 'zeyl4zj4' for Deployment(name='OnlineMNISTClassifier', app='mnist_classifier').\n",
      "2024-12-13 08:35:16,154\tINFO handle.py:126 -- Created DeploymentHandle 'k2jf3t41' for Deployment(name='OnlineMNISTClassifier', app='mnist_classifier').\n",
      "2024-12-13 08:35:16,155\tINFO handle.py:126 -- Created DeploymentHandle 'ojiw6ruk' for Deployment(name='OnlineMNISTClassifier', app='mnist_classifier').\n",
      "2024-12-13 08:35:16,157\tINFO handle.py:126 -- Created DeploymentHandle 's7g4mnno' for Deployment(name='OnlineMNISTClassifier', app='mnist_classifier').\n",
      "2024-12-13 08:35:16,159\tINFO handle.py:126 -- Created DeploymentHandle 'g6ge143j' for Deployment(name='OnlineMNISTClassifier', app='mnist_classifier').\n",
      "2024-12-13 08:35:16,160\tINFO handle.py:126 -- Created DeploymentHandle 'aycc3jzz' for Deployment(name='OnlineMNISTClassifier', app='mnist_classifier').\n",
      "2024-12-13 08:35:16,162\tINFO handle.py:126 -- Created DeploymentHandle '863eil7v' for Deployment(name='OnlineMNISTClassifier', app='mnist_classifier').\n",
      "2024-12-13 08:35:16,163\tINFO handle.py:126 -- Created DeploymentHandle 'afrtkukv' for Deployment(name='OnlineMNISTClassifier', app='mnist_classifier').\n",
      "2024-12-13 08:35:16,165\tINFO handle.py:126 -- Created DeploymentHandle 'kiwiwx6w' for Deployment(name='OnlineMNISTClassifier', app='mnist_classifier').\n",
      "2024-12-13 08:35:16,166\tINFO handle.py:126 -- Created DeploymentHandle 'dmfb9o8e' for Deployment(name='OnlineMNISTClassifier', app='mnist_classifier').\n",
      "2024-12-13 08:35:16,168\tINFO handle.py:126 -- Created DeploymentHandle '4dx69y7z' for Deployment(name='OnlineMNISTClassifier', app='mnist_classifier').\n",
      "2024-12-13 08:35:16,169\tINFO handle.py:126 -- Created DeploymentHandle 'wa49q72p' for Deployment(name='OnlineMNISTClassifier', app='mnist_classifier').\n",
      "2024-12-13 08:35:16,171\tINFO handle.py:126 -- Created DeploymentHandle 'gqosgo3x' for Deployment(name='OnlineMNISTClassifier', app='mnist_classifier').\n",
      "2024-12-13 08:35:16,172\tINFO handle.py:126 -- Created DeploymentHandle 'mq5m9qbe' for Deployment(name='OnlineMNISTClassifier', app='mnist_classifier').\n",
      "2024-12-13 08:35:16,174\tINFO handle.py:126 -- Created DeploymentHandle 'ztsj0ktj' for Deployment(name='OnlineMNISTClassifier', app='mnist_classifier').\n",
      "2024-12-13 08:35:16,176\tINFO handle.py:126 -- Created DeploymentHandle 'bj3ly8ov' for Deployment(name='OnlineMNISTClassifier', app='mnist_classifier').\n",
      "2024-12-13 08:35:16,177\tINFO handle.py:126 -- Created DeploymentHandle '9kbp397d' for Deployment(name='OnlineMNISTClassifier', app='mnist_classifier').\n",
      "2024-12-13 08:35:16,177\tINFO handle.py:126 -- Created DeploymentHandle 'luycbjig' for Deployment(name='OnlineMNISTClassifier', app='mnist_classifier').\n",
      "2024-12-13 08:35:16,179\tINFO handle.py:126 -- Created DeploymentHandle 'fu88vbzd' for Deployment(name='OnlineMNISTClassifier', app='mnist_classifier').\n",
      "2024-12-13 08:35:16,180\tINFO handle.py:126 -- Created DeploymentHandle 'tro4yp33' for Deployment(name='OnlineMNISTClassifier', app='mnist_classifier').\n",
      "2024-12-13 08:35:16,182\tINFO handle.py:126 -- Created DeploymentHandle '1sy9d18b' for Deployment(name='OnlineMNISTClassifier', app='mnist_classifier').\n",
      "2024-12-13 08:35:16,184\tINFO handle.py:126 -- Created DeploymentHandle 'pih9lj2h' for Deployment(name='OnlineMNISTClassifier', app='mnist_classifier').\n",
      "2024-12-13 08:35:16,185\tINFO handle.py:126 -- Created DeploymentHandle '8bl4grcf' for Deployment(name='OnlineMNISTClassifier', app='mnist_classifier').\n",
      "2024-12-13 08:35:16,188\tINFO handle.py:126 -- Created DeploymentHandle '4jymfgl8' for Deployment(name='OnlineMNISTClassifier', app='mnist_classifier').\n",
      "2024-12-13 08:35:16,189\tINFO handle.py:126 -- Created DeploymentHandle 'mqbbyp92' for Deployment(name='OnlineMNISTClassifier', app='mnist_classifier').\n",
      "2024-12-13 08:35:16,191\tINFO handle.py:126 -- Created DeploymentHandle 'mzk39v26' for Deployment(name='OnlineMNISTClassifier', app='mnist_classifier').\n",
      "2024-12-13 08:35:16,192\tINFO handle.py:126 -- Created DeploymentHandle '56d20oxd' for Deployment(name='OnlineMNISTClassifier', app='mnist_classifier').\n",
      "2024-12-13 08:35:16,193\tINFO handle.py:126 -- Created DeploymentHandle 'lioyj9t2' for Deployment(name='OnlineMNISTClassifier', app='mnist_classifier').\n",
      "2024-12-13 08:35:16,194\tINFO handle.py:126 -- Created DeploymentHandle '0lix4p8u' for Deployment(name='OnlineMNISTClassifier', app='mnist_classifier').\n",
      "2024-12-13 08:35:16,196\tINFO handle.py:126 -- Created DeploymentHandle 'km7jmcal' for Deployment(name='OnlineMNISTClassifier', app='mnist_classifier').\n",
      "2024-12-13 08:35:16,198\tINFO handle.py:126 -- Created DeploymentHandle 'mu928t8b' for Deployment(name='OnlineMNISTClassifier', app='mnist_classifier').\n",
      "2024-12-13 08:35:16,200\tINFO handle.py:126 -- Created DeploymentHandle 'ukk56jrd' for Deployment(name='OnlineMNISTClassifier', app='mnist_classifier').\n",
      "2024-12-13 08:35:16,201\tINFO handle.py:126 -- Created DeploymentHandle 'wfmj1ano' for Deployment(name='OnlineMNISTClassifier', app='mnist_classifier').\n",
      "2024-12-13 08:35:16,203\tINFO handle.py:126 -- Created DeploymentHandle 'mo8cpl2k' for Deployment(name='OnlineMNISTClassifier', app='mnist_classifier').\n",
      "2024-12-13 08:35:16,205\tINFO handle.py:126 -- Created DeploymentHandle 'x3bymtjn' for Deployment(name='OnlineMNISTClassifier', app='mnist_classifier').\n",
      "2024-12-13 08:35:16,207\tINFO handle.py:126 -- Created DeploymentHandle 'ec5048q3' for Deployment(name='OnlineMNISTClassifier', app='mnist_classifier').\n",
      "2024-12-13 08:35:16,210\tINFO handle.py:126 -- Created DeploymentHandle 'hfea8lag' for Deployment(name='OnlineMNISTClassifier', app='mnist_classifier').\n",
      "2024-12-13 08:35:16,211\tINFO handle.py:126 -- Created DeploymentHandle 'vi3u7wlw' for Deployment(name='OnlineMNISTClassifier', app='mnist_classifier').\n",
      "2024-12-13 08:35:16,213\tINFO handle.py:126 -- Created DeploymentHandle 'm2mvtxw2' for Deployment(name='OnlineMNISTClassifier', app='mnist_classifier').\n",
      "2024-12-13 08:35:16,215\tINFO handle.py:126 -- Created DeploymentHandle 'peg6kptb' for Deployment(name='OnlineMNISTClassifier', app='mnist_classifier').\n",
      "2024-12-13 08:35:16,217\tINFO handle.py:126 -- Created DeploymentHandle '43qcvv91' for Deployment(name='OnlineMNISTClassifier', app='mnist_classifier').\n",
      "2024-12-13 08:35:16,218\tINFO handle.py:126 -- Created DeploymentHandle '94uw2160' for Deployment(name='OnlineMNISTClassifier', app='mnist_classifier').\n",
      "2024-12-13 08:35:16,220\tINFO handle.py:126 -- Created DeploymentHandle 'hrr91nul' for Deployment(name='OnlineMNISTClassifier', app='mnist_classifier').\n",
      "2024-12-13 08:35:16,221\tINFO handle.py:126 -- Created DeploymentHandle 'p16c3312' for Deployment(name='OnlineMNISTClassifier', app='mnist_classifier').\n",
      "2024-12-13 08:35:16,224\tINFO handle.py:126 -- Created DeploymentHandle 'a8n0pbvv' for Deployment(name='OnlineMNISTClassifier', app='mnist_classifier').\n",
      "2024-12-13 08:35:16,226\tINFO handle.py:126 -- Created DeploymentHandle 'dakxt7ig' for Deployment(name='OnlineMNISTClassifier', app='mnist_classifier').\n",
      "2024-12-13 08:35:16,227\tINFO handle.py:126 -- Created DeploymentHandle 'untzastd' for Deployment(name='OnlineMNISTClassifier', app='mnist_classifier').\n",
      "2024-12-13 08:35:16,230\tINFO handle.py:126 -- Created DeploymentHandle 'lyml3p0p' for Deployment(name='OnlineMNISTClassifier', app='mnist_classifier').\n",
      "2024-12-13 08:35:16,232\tINFO handle.py:126 -- Created DeploymentHandle 'r3yam311' for Deployment(name='OnlineMNISTClassifier', app='mnist_classifier').\n",
      "2024-12-13 08:35:16,234\tINFO handle.py:126 -- Created DeploymentHandle '73ifaw9t' for Deployment(name='OnlineMNISTClassifier', app='mnist_classifier').\n",
      "2024-12-13 08:35:16,235\tINFO handle.py:126 -- Created DeploymentHandle 'hi2v9p7y' for Deployment(name='OnlineMNISTClassifier', app='mnist_classifier').\n",
      "2024-12-13 08:35:16,236\tINFO handle.py:126 -- Created DeploymentHandle 'onz1py2d' for Deployment(name='OnlineMNISTClassifier', app='mnist_classifier').\n",
      "2024-12-13 08:35:16,238\tINFO handle.py:126 -- Created DeploymentHandle 'fiqshp4f' for Deployment(name='OnlineMNISTClassifier', app='mnist_classifier').\n",
      "2024-12-13 08:35:16,240\tINFO handle.py:126 -- Created DeploymentHandle 'q4qjjrz7' for Deployment(name='OnlineMNISTClassifier', app='mnist_classifier').\n",
      "2024-12-13 08:35:16,242\tINFO handle.py:126 -- Created DeploymentHandle 'wuum6q2j' for Deployment(name='OnlineMNISTClassifier', app='mnist_classifier').\n",
      "2024-12-13 08:35:16,243\tINFO handle.py:126 -- Created DeploymentHandle '5kv2loip' for Deployment(name='OnlineMNISTClassifier', app='mnist_classifier').\n",
      "2024-12-13 08:35:16,246\tINFO handle.py:126 -- Created DeploymentHandle 'gbvrasl0' for Deployment(name='OnlineMNISTClassifier', app='mnist_classifier').\n",
      "2024-12-13 08:35:16,247\tINFO handle.py:126 -- Created DeploymentHandle '8qw8viiq' for Deployment(name='OnlineMNISTClassifier', app='mnist_classifier').\n",
      "2024-12-13 08:35:16,248\tINFO handle.py:126 -- Created DeploymentHandle 'cudtvybh' for Deployment(name='OnlineMNISTClassifier', app='mnist_classifier').\n",
      "2024-12-13 08:35:16,250\tINFO handle.py:126 -- Created DeploymentHandle 'djsxax17' for Deployment(name='OnlineMNISTClassifier', app='mnist_classifier').\n",
      "2024-12-13 08:35:16,252\tINFO handle.py:126 -- Created DeploymentHandle '0mk0c2tc' for Deployment(name='OnlineMNISTClassifier', app='mnist_classifier').\n",
      "2024-12-13 08:35:16,254\tINFO handle.py:126 -- Created DeploymentHandle '602qn7iy' for Deployment(name='OnlineMNISTClassifier', app='mnist_classifier').\n",
      "2024-12-13 08:35:16,255\tINFO handle.py:126 -- Created DeploymentHandle 'wk73qq4z' for Deployment(name='OnlineMNISTClassifier', app='mnist_classifier').\n",
      "2024-12-13 08:35:16,257\tINFO handle.py:126 -- Created DeploymentHandle '20d4a1xw' for Deployment(name='OnlineMNISTClassifier', app='mnist_classifier').\n",
      "2024-12-13 08:35:16,258\tINFO handle.py:126 -- Created DeploymentHandle 'wl5w157g' for Deployment(name='OnlineMNISTClassifier', app='mnist_classifier').\n",
      "2024-12-13 08:35:16,259\tINFO handle.py:126 -- Created DeploymentHandle 'fktbfghq' for Deployment(name='OnlineMNISTClassifier', app='mnist_classifier').\n",
      "2024-12-13 08:35:16,261\tINFO handle.py:126 -- Created DeploymentHandle 'c4awkjvt' for Deployment(name='OnlineMNISTClassifier', app='mnist_classifier').\n",
      "2024-12-13 08:35:16,262\tINFO handle.py:126 -- Created DeploymentHandle 'sohuw3jz' for Deployment(name='OnlineMNISTClassifier', app='mnist_classifier').\n",
      "2024-12-13 08:35:16,263\tINFO handle.py:126 -- Created DeploymentHandle '4lznjzy6' for Deployment(name='OnlineMNISTClassifier', app='mnist_classifier').\n",
      "2024-12-13 08:35:16,265\tINFO handle.py:126 -- Created DeploymentHandle 'y5k7um6y' for Deployment(name='OnlineMNISTClassifier', app='mnist_classifier').\n",
      "2024-12-13 08:35:16,267\tINFO handle.py:126 -- Created DeploymentHandle '9f9a4lm7' for Deployment(name='OnlineMNISTClassifier', app='mnist_classifier').\n",
      "2024-12-13 08:35:16,269\tINFO handle.py:126 -- Created DeploymentHandle '770uxl2c' for Deployment(name='OnlineMNISTClassifier', app='mnist_classifier').\n",
      "2024-12-13 08:35:16,270\tINFO handle.py:126 -- Created DeploymentHandle '5kwz94bm' for Deployment(name='OnlineMNISTClassifier', app='mnist_classifier').\n",
      "2024-12-13 08:35:16,271\tINFO handle.py:126 -- Created DeploymentHandle 'jwk1uhya' for Deployment(name='OnlineMNISTClassifier', app='mnist_classifier').\n",
      "2024-12-13 08:35:16,273\tINFO handle.py:126 -- Created DeploymentHandle '9a8g91w2' for Deployment(name='OnlineMNISTClassifier', app='mnist_classifier').\n",
      "2024-12-13 08:35:16,275\tINFO handle.py:126 -- Created DeploymentHandle 'eo0il11n' for Deployment(name='OnlineMNISTClassifier', app='mnist_classifier').\n",
      "2024-12-13 08:35:16,277\tINFO handle.py:126 -- Created DeploymentHandle '2mzh03wj' for Deployment(name='OnlineMNISTClassifier', app='mnist_classifier').\n",
      "2024-12-13 08:35:16,280\tINFO handle.py:126 -- Created DeploymentHandle 'wh9d8isv' for Deployment(name='OnlineMNISTClassifier', app='mnist_classifier').\n",
      "2024-12-13 08:35:16,282\tINFO handle.py:126 -- Created DeploymentHandle 'byana9mh' for Deployment(name='OnlineMNISTClassifier', app='mnist_classifier').\n",
      "2024-12-13 08:35:16,283\tINFO handle.py:126 -- Created DeploymentHandle 'i4tjjgln' for Deployment(name='OnlineMNISTClassifier', app='mnist_classifier').\n",
      "2024-12-13 08:35:16,285\tINFO handle.py:126 -- Created DeploymentHandle 'j93j2ayj' for Deployment(name='OnlineMNISTClassifier', app='mnist_classifier').\n"
     ]
    },
    {
     "data": {
      "text/plain": [
       "[<ray.serve.handle.DeploymentResponse at 0x72c6e03660d0>,\n",
       " <ray.serve.handle.DeploymentResponse at 0x72c6d8752290>,\n",
       " <ray.serve.handle.DeploymentResponse at 0x72c6d87500d0>,\n",
       " <ray.serve.handle.DeploymentResponse at 0x72c6d8747390>,\n",
       " <ray.serve.handle.DeploymentResponse at 0x72c6e0351e10>,\n",
       " <ray.serve.handle.DeploymentResponse at 0x72c6d87793d0>,\n",
       " <ray.serve.handle.DeploymentResponse at 0x72c6d8779b90>,\n",
       " <ray.serve.handle.DeploymentResponse at 0x72c6d877a010>,\n",
       " <ray.serve.handle.DeploymentResponse at 0x72c6d8752e50>,\n",
       " <ray.serve.handle.DeploymentResponse at 0x72c6d877bc10>,\n",
       " <ray.serve.handle.DeploymentResponse at 0x72c6e01cbd50>,\n",
       " <ray.serve.handle.DeploymentResponse at 0x72c6e035ca50>,\n",
       " <ray.serve.handle.DeploymentResponse at 0x72c6d8785e50>,\n",
       " <ray.serve.handle.DeploymentResponse at 0x72c6d8785fd0>,\n",
       " <ray.serve.handle.DeploymentResponse at 0x72c6d8786a50>,\n",
       " <ray.serve.handle.DeploymentResponse at 0x72c6d8787c90>,\n",
       " <ray.serve.handle.DeploymentResponse at 0x72c6d8794350>,\n",
       " <ray.serve.handle.DeploymentResponse at 0x72c6d8795110>,\n",
       " <ray.serve.handle.DeploymentResponse at 0x72c6e035d5d0>,\n",
       " <ray.serve.handle.DeploymentResponse at 0x72c6d872db50>,\n",
       " <ray.serve.handle.DeploymentResponse at 0x72c6d8796b50>,\n",
       " <ray.serve.handle.DeploymentResponse at 0x72c6d8797150>,\n",
       " <ray.serve.handle.DeploymentResponse at 0x72c6d8797ed0>,\n",
       " <ray.serve.handle.DeploymentResponse at 0x72c6d87a0690>,\n",
       " <ray.serve.handle.DeploymentResponse at 0x72c6d87a14d0>,\n",
       " <ray.serve.handle.DeploymentResponse at 0x72c6d87a1b50>,\n",
       " <ray.serve.handle.DeploymentResponse at 0x72c73032a850>,\n",
       " <ray.serve.handle.DeploymentResponse at 0x72c6d87a1f50>,\n",
       " <ray.serve.handle.DeploymentResponse at 0x72c6e034a510>,\n",
       " <ray.serve.handle.DeploymentResponse at 0x72c6d87a3ed0>,\n",
       " <ray.serve.handle.DeploymentResponse at 0x72c6d87a8690>,\n",
       " <ray.serve.handle.DeploymentResponse at 0x72c6d87a9cd0>,\n",
       " <ray.serve.handle.DeploymentResponse at 0x72c6d87aa4d0>,\n",
       " <ray.serve.handle.DeploymentResponse at 0x72c6d87a2c10>,\n",
       " <ray.serve.handle.DeploymentResponse at 0x72c6d87aad50>,\n",
       " <ray.serve.handle.DeploymentResponse at 0x72c6d87ab690>,\n",
       " <ray.serve.handle.DeploymentResponse at 0x72c6d87a3d50>,\n",
       " <ray.serve.handle.DeploymentResponse at 0x72c6d87ac4d0>,\n",
       " <ray.serve.handle.DeploymentResponse at 0x72c6d87adb90>,\n",
       " <ray.serve.handle.DeploymentResponse at 0x72c6d87ae4d0>,\n",
       " <ray.serve.handle.DeploymentResponse at 0x72c6d87ae710>,\n",
       " <ray.serve.handle.DeploymentResponse at 0x72c6d8757dd0>,\n",
       " <ray.serve.handle.DeploymentResponse at 0x72c6d87c0110>,\n",
       " <ray.serve.handle.DeploymentResponse at 0x72c6d87c1250>,\n",
       " <ray.serve.handle.DeploymentResponse at 0x72c6d87c1110>,\n",
       " <ray.serve.handle.DeploymentResponse at 0x72c6d87c18d0>,\n",
       " <ray.serve.handle.DeploymentResponse at 0x72c6d87c2350>,\n",
       " <ray.serve.handle.DeploymentResponse at 0x72c6d87aa0d0>,\n",
       " <ray.serve.handle.DeploymentResponse at 0x72c6e034b950>,\n",
       " <ray.serve.handle.DeploymentResponse at 0x72c6d87d0690>,\n",
       " <ray.serve.handle.DeploymentResponse at 0x72c6d87d0d90>,\n",
       " <ray.serve.handle.DeploymentResponse at 0x72c6d87d1c50>,\n",
       " <ray.serve.handle.DeploymentResponse at 0x72c6d87d1cd0>,\n",
       " <ray.serve.handle.DeploymentResponse at 0x72c6d87d3190>,\n",
       " <ray.serve.handle.DeploymentResponse at 0x72c6d87d3fd0>,\n",
       " <ray.serve.handle.DeploymentResponse at 0x72c6d87d8250>,\n",
       " <ray.serve.handle.DeploymentResponse at 0x72c6d87d8e90>,\n",
       " <ray.serve.handle.DeploymentResponse at 0x72c6d87d96d0>,\n",
       " <ray.serve.handle.DeploymentResponse at 0x72c6d87da1d0>,\n",
       " <ray.serve.handle.DeploymentResponse at 0x72c6d877b010>,\n",
       " <ray.serve.handle.DeploymentResponse at 0x72c6e0353410>,\n",
       " <ray.serve.handle.DeploymentResponse at 0x72c6d87c3a50>,\n",
       " <ray.serve.handle.DeploymentResponse at 0x72c6d87e4810>,\n",
       " <ray.serve.handle.DeploymentResponse at 0x72c6d87e4f90>,\n",
       " <ray.serve.handle.DeploymentResponse at 0x72c6d87e62d0>,\n",
       " <ray.serve.handle.DeploymentResponse at 0x72c6d87e64d0>,\n",
       " <ray.serve.handle.DeploymentResponse at 0x72c72000ddd0>,\n",
       " <ray.serve.handle.DeploymentResponse at 0x72c6d85fc9d0>,\n",
       " <ray.serve.handle.DeploymentResponse at 0x72c6d85fcf90>,\n",
       " <ray.serve.handle.DeploymentResponse at 0x72c6d85fd550>,\n",
       " <ray.serve.handle.DeploymentResponse at 0x72c6d85fe590>,\n",
       " <ray.serve.handle.DeploymentResponse at 0x72c6d85fd3d0>,\n",
       " <ray.serve.handle.DeploymentResponse at 0x72c6d85ff250>,\n",
       " <ray.serve.handle.DeploymentResponse at 0x72c6d85ff3d0>,\n",
       " <ray.serve.handle.DeploymentResponse at 0x72c6d8608750>,\n",
       " <ray.serve.handle.DeploymentResponse at 0x72c6d8609050>,\n",
       " <ray.serve.handle.DeploymentResponse at 0x72c6d87a96d0>,\n",
       " <ray.serve.handle.DeploymentResponse at 0x72c6d877a6d0>,\n",
       " <ray.serve.handle.DeploymentResponse at 0x72c6d860b6d0>,\n",
       " <ray.serve.handle.DeploymentResponse at 0x72c6d860b7d0>,\n",
       " <ray.serve.handle.DeploymentResponse at 0x72c6d8610490>,\n",
       " <ray.serve.handle.DeploymentResponse at 0x72c6d8610a50>,\n",
       " <ray.serve.handle.DeploymentResponse at 0x72c6d8611310>,\n",
       " <ray.serve.handle.DeploymentResponse at 0x72c6d8611ad0>,\n",
       " <ray.serve.handle.DeploymentResponse at 0x72c6d8612050>,\n",
       " <ray.serve.handle.DeploymentResponse at 0x72c6d8611b90>,\n",
       " <ray.serve.handle.DeploymentResponse at 0x72c6d8613690>,\n",
       " <ray.serve.handle.DeploymentResponse at 0x72c6d8620a90>,\n",
       " <ray.serve.handle.DeploymentResponse at 0x72c6d8620e10>,\n",
       " <ray.serve.handle.DeploymentResponse at 0x72c6d86218d0>,\n",
       " <ray.serve.handle.DeploymentResponse at 0x72c6d8621b90>,\n",
       " <ray.serve.handle.DeploymentResponse at 0x72c6d8622ad0>,\n",
       " <ray.serve.handle.DeploymentResponse at 0x72c6d8623590>,\n",
       " <ray.serve.handle.DeploymentResponse at 0x72c6d86281d0>,\n",
       " <ray.serve.handle.DeploymentResponse at 0x72c6d8628710>,\n",
       " <ray.serve.handle.DeploymentResponse at 0x72c6d862a1d0>,\n",
       " <ray.serve.handle.DeploymentResponse at 0x72c6d862ac50>,\n",
       " <ray.serve.handle.DeploymentResponse at 0x72c6d862b790>,\n",
       " <ray.serve.handle.DeploymentResponse at 0x72c6d862b7d0>,\n",
       " <ray.serve.handle.DeploymentResponse at 0x72c6d862c690>]"
      ]
     },
     "execution_count": 16,
     "metadata": {},
     "output_type": "execute_result"
    },
    {
     "name": "stderr",
     "output_type": "stream",
     "text": [
      "2024-12-13 08:35:21,559\tWARNING pow_2_scheduler.py:501 -- Failed to get queue length from Replica(id='rxr0eh2z', deployment='OnlineMNISTClassifier', app='mnist_classifier') within 0.1s. If this happens repeatedly it's likely caused by high network latency in the cluster. You can configure the deadline using the `RAY_SERVE_QUEUE_LENGTH_RESPONSE_DEADLINE_S` environment variable.\n",
      "2024-12-13 08:35:21,560\tWARNING pow_2_scheduler.py:501 -- Failed to get queue length from Replica(id='rxr0eh2z', deployment='OnlineMNISTClassifier', app='mnist_classifier') within 0.1s. If this happens repeatedly it's likely caused by high network latency in the cluster. You can configure the deadline using the `RAY_SERVE_QUEUE_LENGTH_RESPONSE_DEADLINE_S` environment variable.\n",
      "2024-12-13 08:35:21,890\tWARNING pow_2_scheduler.py:501 -- Failed to get queue length from Replica(id='rxr0eh2z', deployment='OnlineMNISTClassifier', app='mnist_classifier') within 0.1s. If this happens repeatedly it's likely caused by high network latency in the cluster. You can configure the deadline using the `RAY_SERVE_QUEUE_LENGTH_RESPONSE_DEADLINE_S` environment variable.\n",
      "2024-12-13 08:35:21,892\tWARNING pow_2_scheduler.py:501 -- Failed to get queue length from Replica(id='rxr0eh2z', deployment='OnlineMNISTClassifier', app='mnist_classifier') within 0.1s. If this happens repeatedly it's likely caused by high network latency in the cluster. You can configure the deadline using the `RAY_SERVE_QUEUE_LENGTH_RESPONSE_DEADLINE_S` environment variable.\n",
      "2024-12-13 08:35:22,156\tWARNING pow_2_scheduler.py:501 -- Failed to get queue length from Replica(id='rxr0eh2z', deployment='OnlineMNISTClassifier', app='mnist_classifier') within 0.1s. If this happens repeatedly it's likely caused by high network latency in the cluster. You can configure the deadline using the `RAY_SERVE_QUEUE_LENGTH_RESPONSE_DEADLINE_S` environment variable.\n",
      "2024-12-13 08:35:22,157\tWARNING pow_2_scheduler.py:501 -- Failed to get queue length from Replica(id='rxr0eh2z', deployment='OnlineMNISTClassifier', app='mnist_classifier') within 0.1s. If this happens repeatedly it's likely caused by high network latency in the cluster. You can configure the deadline using the `RAY_SERVE_QUEUE_LENGTH_RESPONSE_DEADLINE_S` environment variable.\n",
      "2024-12-13 08:35:22,359\tWARNING pow_2_scheduler.py:501 -- Failed to get queue length from Replica(id='rxr0eh2z', deployment='OnlineMNISTClassifier', app='mnist_classifier') within 0.2s. If this happens repeatedly it's likely caused by high network latency in the cluster. You can configure the deadline using the `RAY_SERVE_QUEUE_LENGTH_RESPONSE_DEADLINE_S` environment variable.\n",
      "2024-12-13 08:35:22,360\tWARNING pow_2_scheduler.py:501 -- Failed to get queue length from Replica(id='rxr0eh2z', deployment='OnlineMNISTClassifier', app='mnist_classifier') within 0.2s. If this happens repeatedly it's likely caused by high network latency in the cluster. You can configure the deadline using the `RAY_SERVE_QUEUE_LENGTH_RESPONSE_DEADLINE_S` environment variable.\n"
     ]
    }
   ],
   "source": [
    "batch = {\"image\": np.random.rand(10, 1, 28, 28)}\n",
    "[\n",
    "    mnist_deployment_handle.predict.remote(batch)\n",
    "    for _ in range(100)\n",
    "]"
   ]
  },
  {
   "cell_type": "markdown",
   "id": "91a4e5e9",
   "metadata": {},
   "source": [
    "Looking at the Ray Serve dashboard, we can see that the number of replicas has scaled up to 10 as expected.\n",
    "\n",
    "<img src='https://anyscale-public-materials.s3.us-west-2.amazonaws.com/ray-ai-libraries/diagrams/autoscaling_at_10.png' width=700/>"
   ]
  },
  {
   "cell_type": "markdown",
   "id": "c52225df",
   "metadata": {},
   "source": [
    "Let's shutdown the service for now."
   ]
  },
  {
   "cell_type": "code",
   "execution_count": 17,
   "id": "0d53e06b",
   "metadata": {},
   "outputs": [],
   "source": [
    "serve.shutdown()"
   ]
  },
  {
   "cell_type": "markdown",
   "id": "2e2d1c58",
   "metadata": {},
   "source": [
    "### Composing Deployments\n",
    "\n",
    "Ray Serve allows us to compose Deployments together to build more complex applications.\n",
    "\n",
    "Lets compose our `OnlineMNISTClassifier` with an `OnlineMNISTPreprocessor` deployment that performs the necessary transformations on the input data.\n"
   ]
  },
  {
   "cell_type": "code",
   "execution_count": 18,
   "id": "67670984",
   "metadata": {},
   "outputs": [
    {
     "name": "stderr",
     "output_type": "stream",
     "text": [
      "2024-12-13 08:38:36,797\tWARNING api.py:346 -- The default value for `max_ongoing_requests` has changed from 100 to 5 in Ray 2.32.0.\n",
      "2024-12-13 08:38:36,797\tWARNING api.py:397 -- The default value for `max_ongoing_requests` has changed from 100 to 5 in Ray 2.32.0.\n"
     ]
    }
   ],
   "source": [
    "from torchvision import transforms\n",
    "\n",
    "\n",
    "@serve.deployment\n",
    "class OnlineMNISTPreprocessor:\n",
    "    def __init__(self):\n",
    "        self.transform = transforms.Compose([\n",
    "            transforms.ToTensor(),\n",
    "            transforms.Normalize((0.5,), (0.5,))\n",
    "        ])\n",
    "        \n",
    "    async def run(self, batch: dict[str, Any]) -> dict[str, Any]:\n",
    "        images = batch[\"image\"]\n",
    "        images = [self.transform(np.array(image, dtype=np.uint8)).cpu().numpy() for image in images]\n",
    "        return {\"image\": images}\n",
    "\n",
    "preprocessor_app = OnlineMNISTPreprocessor.bind()"
   ]
  },
  {
   "cell_type": "code",
   "execution_count": 19,
   "id": "8b0dc24f",
   "metadata": {},
   "outputs": [
    {
     "name": "stderr",
     "output_type": "stream",
     "text": [
      "2024-12-13 08:38:44,236\tINFO handle.py:126 -- Created DeploymentHandle '8px5rnva' for Deployment(name='OnlineMNISTPreprocessor', app='mnist_preprocessor').\n",
      "2024-12-13 08:38:44,237\tINFO handle.py:126 -- Created DeploymentHandle 'l4gmboko' for Deployment(name='OnlineMNISTPreprocessor', app='mnist_preprocessor').\n",
      "2024-12-13 08:38:49,254\tINFO handle.py:126 -- Created DeploymentHandle 'gf1a4vjq' for Deployment(name='OnlineMNISTPreprocessor', app='mnist_preprocessor').\n",
      "2024-12-13 08:38:49,255\tINFO api.py:574 -- Deployed app 'mnist_preprocessor' successfully.\n"
     ]
    }
   ],
   "source": [
    "preprocessor_handle = serve.run(preprocessor_app, name='mnist_preprocessor', blocking=False, route_prefix=\"/preprocess\")"
   ]
  },
  {
   "cell_type": "markdown",
   "id": "92daf899",
   "metadata": {},
   "source": [
    "Let's load an image and pass it to the `OnlineMNISTPreprocessor`"
   ]
  },
  {
   "cell_type": "code",
   "execution_count": 20,
   "id": "441a8762",
   "metadata": {},
   "outputs": [
    {
     "name": "stderr",
     "output_type": "stream",
     "text": [
      "2024-12-13 08:39:23,784\tINFO streaming_executor.py:108 -- Starting execution of Dataset. Full logs are in /tmp/ray/session_2024-12-13_08-07-01_151483_2430/logs/ray-data\n",
      "2024-12-13 08:39:23,785\tINFO streaming_executor.py:109 -- Execution plan of Dataset: InputDataBuffer[Input] -> TaskPoolMapOperator[ExpandPaths] -> TaskPoolMapOperator[ReadFiles] -> LimitOperator[limit=10]\n"
     ]
    },
    {
     "data": {
      "application/vnd.jupyter.widget-view+json": {
       "model_id": "03c9a18054ef422094517b401e8a431c",
       "version_major": 2,
       "version_minor": 0
      },
      "text/plain": [
       "- ExpandPaths 1: 0 bundle [00:00, ? bundle/s]"
      ]
     },
     "metadata": {},
     "output_type": "display_data"
    },
    {
     "data": {
      "application/vnd.jupyter.widget-view+json": {
       "model_id": "2944020331594577909f9e7b33042ab4",
       "version_major": 2,
       "version_minor": 0
      },
      "text/plain": [
       "- ReadFiles 2: 0 bundle [00:00, ? bundle/s]"
      ]
     },
     "metadata": {},
     "output_type": "display_data"
    },
    {
     "data": {
      "application/vnd.jupyter.widget-view+json": {
       "model_id": "2deffdd695634713a03cfa9f74b8c676",
       "version_major": 2,
       "version_minor": 0
      },
      "text/plain": [
       "- limit=10 3: 0 bundle [00:00, ? bundle/s]"
      ]
     },
     "metadata": {},
     "output_type": "display_data"
    },
    {
     "data": {
      "application/vnd.jupyter.widget-view+json": {
       "model_id": "6121fc146c3d4f798de2af378bc6f181",
       "version_major": 2,
       "version_minor": 0
      },
      "text/plain": [
       "Running 0: 0 bundle [00:00, ? bundle/s]"
      ]
     },
     "metadata": {},
     "output_type": "display_data"
    }
   ],
   "source": [
    "import ray\n",
    "\n",
    "ds = ray.data.read_images(\"s3://anyscale-public-materials/ray-ai-libraries/mnist/50_per_index/\", include_paths=True)\n",
    "image_batch = ds.take_batch(10)"
   ]
  },
  {
   "cell_type": "code",
   "execution_count": 21,
   "id": "1289797c",
   "metadata": {},
   "outputs": [
    {
     "data": {
      "image/png": "[encoded data removed]",
      "text/plain": [
       "<Figure size 640x480 with 1 Axes>"
      ]
     },
     "metadata": {},
     "output_type": "display_data"
    }
   ],
   "source": [
    "# plot the first image using matplotlib\n",
    "from matplotlib import pyplot as plt\n",
    "\n",
    "\n",
    "plt.imshow(image_batch[\"image\"][0], cmap=\"gray\")\n",
    "plt.show()"
   ]
  },
  {
   "cell_type": "code",
   "execution_count": 22,
   "id": "94df4e63",
   "metadata": {},
   "outputs": [
    {
     "name": "stderr",
     "output_type": "stream",
     "text": [
      "2024-12-13 08:39:56,494\tINFO handle.py:126 -- Created DeploymentHandle 'oy7ram11' for Deployment(name='OnlineMNISTPreprocessor', app='mnist_preprocessor').\n"
     ]
    }
   ],
   "source": [
    "normalized_batch = await preprocessor_handle.run.remote(image_batch)\n",
    "\n",
    "for image in normalized_batch[\"image\"]:\n",
    "    assert image.shape == (1, 28, 28) # channel, height, width\n",
    "    assert image.min() >= -1 and image.max() <= 1 # normalized to [-1, 1]"
   ]
  },
  {
   "cell_type": "markdown",
   "id": "da2848fc",
   "metadata": {},
   "source": [
    "We will proceed to shutdown the preprocessor application to prove it will be automatically recreated later.\n"
   ]
  },
  {
   "cell_type": "code",
   "execution_count": 23,
   "id": "d0ac5957",
   "metadata": {},
   "outputs": [],
   "source": [
    "serve.shutdown()"
   ]
  },
  {
   "cell_type": "markdown",
   "id": "b0e44763",
   "metadata": {},
   "source": [
    "Let's now build an application that composes the `OnlineMNISTPreprocessor` and `OnlineMNISTClassifier`"
   ]
  },
  {
   "cell_type": "code",
   "execution_count": 24,
   "id": "88340028",
   "metadata": {},
   "outputs": [
    {
     "name": "stderr",
     "output_type": "stream",
     "text": [
      "2024-12-13 08:42:47,216\tWARNING api.py:346 -- The default value for `max_ongoing_requests` has changed from 100 to 5 in Ray 2.32.0.\n",
      "2024-12-13 08:42:47,217\tWARNING api.py:397 -- The default value for `max_ongoing_requests` has changed from 100 to 5 in Ray 2.32.0.\n"
     ]
    }
   ],
   "source": [
    "@serve.deployment\n",
    "class ImageServiceIngress:\n",
    "    def __init__(self, preprocessor: OnlineMNISTPreprocessor, model: OnlineMNISTClassifier):\n",
    "        self.preprocessor = preprocessor\n",
    "        self.model = model\n",
    "\n",
    "    async def __call__(self, request: Request):\n",
    "        batch = json.loads(await request.json())\n",
    "        response = await self.preprocessor.run.remote(batch)\n",
    "        return await self.model.predict.remote(response)"
   ]
  },
  {
   "cell_type": "code",
   "execution_count": 25,
   "id": "affcac11",
   "metadata": {},
   "outputs": [
    {
     "name": "stderr",
     "output_type": "stream",
     "text": [
      "2024-12-13 08:44:19,957\tINFO handle.py:126 -- Created DeploymentHandle 'fsqpub6j' for Deployment(name='OnlineMNISTPreprocessor', app='image_classifier').\n",
      "2024-12-13 08:44:19,963\tINFO handle.py:126 -- Created DeploymentHandle 'o631o8sp' for Deployment(name='OnlineMNISTClassifier', app='image_classifier').\n",
      "2024-12-13 08:44:19,964\tINFO handle.py:126 -- Created DeploymentHandle 's082atuf' for Deployment(name='OnlineMNISTPreprocessor', app='image_classifier').\n",
      "2024-12-13 08:44:19,964\tINFO handle.py:126 -- Created DeploymentHandle 'l8s57gz6' for Deployment(name='OnlineMNISTClassifier', app='image_classifier').\n",
      "2024-12-13 08:44:19,971\tINFO handle.py:126 -- Created DeploymentHandle '3mpn24fn' for Deployment(name='ImageServiceIngress', app='image_classifier').\n",
      "2024-12-13 08:44:19,972\tINFO handle.py:126 -- Created DeploymentHandle 'lwk6vdl4' for Deployment(name='OnlineMNISTPreprocessor', app='image_classifier').\n",
      "2024-12-13 08:44:19,972\tINFO handle.py:126 -- Created DeploymentHandle 'hsxt2a9i' for Deployment(name='OnlineMNISTClassifier', app='image_classifier').\n",
      "2024-12-13 08:44:19,973\tINFO handle.py:126 -- Created DeploymentHandle 'lrxdx3jo' for Deployment(name='ImageServiceIngress', app='image_classifier').\n",
      "2024-12-13 08:44:25,003\tINFO handle.py:126 -- Created DeploymentHandle 'kdnf0qjt' for Deployment(name='ImageServiceIngress', app='image_classifier').\n",
      "2024-12-13 08:44:25,004\tINFO api.py:574 -- Deployed app 'image_classifier' successfully.\n"
     ]
    }
   ],
   "source": [
    "image_classifier_ingress = ImageServiceIngress.bind(\n",
    "    preprocessor=OnlineMNISTPreprocessor.bind(),\n",
    "    model=OnlineMNISTClassifier.options(\n",
    "        num_replicas=1,\n",
    "        ray_actor_options={\"num_gpus\": 0.1},\n",
    "    ).bind(local_path=\"/mnt/cluster_storage/model.pt\"),\n",
    ")\n",
    "\n",
    "handle = serve.run(image_classifier_ingress, name='image_classifier', blocking=False)"
   ]
  },
  {
   "cell_type": "markdown",
   "id": "aa81a51f",
   "metadata": {},
   "source": [
    "Let's test the application by sending a sample HTTP request to our ingress endpoint.\n"
   ]
  },
  {
   "cell_type": "code",
   "execution_count": 26,
   "id": "6d084ee7",
   "metadata": {},
   "outputs": [
    {
     "data": {
      "text/plain": [
       "[0, 0, 0, 0, 0, 0, 0, 0, 0, 0]"
      ]
     },
     "execution_count": 26,
     "metadata": {},
     "output_type": "execute_result"
    }
   ],
   "source": [
    "json_request = json.dumps({\"image\": image_batch[\"image\"].tolist()}) \n",
    "response = requests.post(\"http://localhost:8000/\", json=json_request)\n",
    "response.json()[\"predicted_label\"]"
   ]
  },
  {
   "cell_type": "markdown",
   "id": "1fbe8773",
   "metadata": {},
   "source": [
    "### Integrating with FastAPI\n",
    "\n",
    "Ray Serve can be integrated with FastAPI to provide:\n",
    "- HTTP routing\n",
    "- Pydantic model validation\n",
    "- OpenAPI documentation\n",
    "\n",
    "To integrate a Deployment with FastAPI, we can use the `@serve.ingress` decorator to designate a FastAPI app as the entrypoint for HTTP requests to our Serve application."
   ]
  },
  {
   "cell_type": "code",
   "execution_count": 27,
   "id": "5d163431",
   "metadata": {},
   "outputs": [
    {
     "name": "stderr",
     "output_type": "stream",
     "text": [
      "2024-12-13 08:48:29,697\tWARNING api.py:346 -- The default value for `max_ongoing_requests` has changed from 100 to 5 in Ray 2.32.0.\n",
      "2024-12-13 08:48:29,698\tWARNING api.py:397 -- The default value for `max_ongoing_requests` has changed from 100 to 5 in Ray 2.32.0.\n"
     ]
    }
   ],
   "source": [
    "from fastapi import FastAPI\n",
    "\n",
    "\n",
    "app = FastAPI()\n",
    "\n",
    "@serve.deployment\n",
    "@serve.ingress(app)\n",
    "class ImageServiceIngress:\n",
    "    def __init__(self, preprocessor: OnlineMNISTPreprocessor, model: OnlineMNISTClassifier):\n",
    "        self.preprocessor = preprocessor\n",
    "        self.model = model\n",
    "    \n",
    "    @app.post(\"/predict\")\n",
    "    async def predict(self, request: Request):\n",
    "        batch = json.loads(await request.json())\n",
    "        response = await self.preprocessor.run.remote(batch)\n",
    "        out = await self.model.predict.remote(response)\n",
    "        return {\"predicted_label\": out[\"predicted_label\"].tolist()}"
   ]
  },
  {
   "cell_type": "markdown",
   "id": "a3a31b87",
   "metadata": {},
   "source": [
    "We now can build the application and run it."
   ]
  },
  {
   "cell_type": "code",
   "execution_count": 28,
   "id": "0371807e",
   "metadata": {},
   "outputs": [
    {
     "name": "stderr",
     "output_type": "stream",
     "text": [
      "2024-12-13 08:49:02,196\tINFO handle.py:126 -- Created DeploymentHandle 'zs9xlv6l' for Deployment(name='OnlineMNISTPreprocessor', app='image_classifier').\n",
      "2024-12-13 08:49:02,201\tINFO handle.py:126 -- Created DeploymentHandle 'e6czhw0i' for Deployment(name='OnlineMNISTClassifier', app='image_classifier').\n",
      "2024-12-13 08:49:02,201\tINFO handle.py:126 -- Created DeploymentHandle 's26zdw7w' for Deployment(name='OnlineMNISTPreprocessor', app='image_classifier').\n",
      "2024-12-13 08:49:02,202\tINFO handle.py:126 -- Created DeploymentHandle '73tfa712' for Deployment(name='OnlineMNISTClassifier', app='image_classifier').\n",
      "2024-12-13 08:49:02,212\tINFO handle.py:126 -- Created DeploymentHandle '8ywfb0i5' for Deployment(name='ImageServiceIngress', app='image_classifier').\n",
      "2024-12-13 08:49:02,212\tINFO handle.py:126 -- Created DeploymentHandle '2fvhvuyy' for Deployment(name='OnlineMNISTPreprocessor', app='image_classifier').\n",
      "2024-12-13 08:49:02,213\tINFO handle.py:126 -- Created DeploymentHandle '500czr1l' for Deployment(name='OnlineMNISTClassifier', app='image_classifier').\n",
      "2024-12-13 08:49:02,213\tINFO handle.py:126 -- Created DeploymentHandle '6vbdxtpb' for Deployment(name='ImageServiceIngress', app='image_classifier').\n",
      "2024-12-13 08:49:07,243\tINFO api.py:574 -- Deployed app 'image_classifier' successfully.\n"
     ]
    }
   ],
   "source": [
    "image_classifier_ingress = ImageServiceIngress.bind(\n",
    "    preprocessor=OnlineMNISTPreprocessor.bind(),\n",
    "    model=OnlineMNISTClassifier.options(\n",
    "        num_replicas=1,\n",
    "        ray_actor_options={\"num_gpus\": 0.1},\n",
    "    ).bind(local_path=\"/mnt/cluster_storage/model.pt\"),\n",
    ")\n",
    "\n",
    "handle = serve.run(image_classifier_ingress, name='image_classifier', blocking=False)"
   ]
  },
  {
   "cell_type": "markdown",
   "id": "012894c6",
   "metadata": {},
   "source": [
    "After running the application, we can get test it as an HTTP endpoint programmatically."
   ]
  },
  {
   "cell_type": "code",
   "execution_count": 29,
   "id": "2e217336",
   "metadata": {},
   "outputs": [
    {
     "data": {
      "text/plain": [
       "[0, 0, 0, 0, 0, 0, 0, 0, 0, 0]"
      ]
     },
     "execution_count": 29,
     "metadata": {},
     "output_type": "execute_result"
    }
   ],
   "source": [
    "json_request = json.dumps({\"image\": image_batch[\"image\"].tolist()}) \n",
    "response = requests.post(\"http://localhost:8000/predict\", json=json_request)\n",
    "response.json()[\"predicted_label\"]"
   ]
  },
  {
   "cell_type": "markdown",
   "id": "287ff14a",
   "metadata": {},
   "source": [
    "We can also visit the auto-generated FastAPI docs at http://localhost:8000/docs to get an interactive UI to test our endpoint."
   ]
  }
 ],
 "metadata": {
  "kernelspec": {
   "display_name": "Python 3 (ipykernel)",
   "language": "python",
   "name": "python3"
  },
  "language_info": {
   "codemirror_mode": {
    "name": "ipython",
    "version": 3
   },
   "file_extension": ".py",
   "mimetype": "text/x-python",
   "name": "python",
   "nbconvert_exporter": "python",
   "pygments_lexer": "ipython3",
   "version": "3.11.8"
  }
 },
 "nbformat": 4,
 "nbformat_minor": 5
}