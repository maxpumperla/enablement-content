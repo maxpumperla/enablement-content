{
 "cells": [
  {
   "cell_type": "markdown",
   "metadata": {},
   "source": [
    "## 8. Upcoming Features in Ray Data\n",
    "\n",
    "Here are some relevant upcoming features in Ray Data:\n",
    "\n",
    "For structured data:\n",
    "- improved `groupby` and `map_groups` performance\n",
    "- using parquet metadata for computing statistics like `count`\n",
    "- enabling predicate pushdown for parquet files when calling `filter`\n",
    "- supporting `join` and `merge` operations\n",
    "- optimizing performance of the `Preprocessor` API for distributed feature engineering\n",
    "- running spark on Ray more seamlessly\n",
    "\n",
    "\n",
    "For all data types:\n",
    "- data checkpointing for fault tolerance\n",
    "- optimizing data connectors\n",
    "- concurrent execution of multiple datasets"
   ]
  }
 ],
 "metadata": {
  "kernelspec": {
   "display_name": "Xing-ray-jupyter-3.11",
   "language": "python",
   "name": "xing-ray-jupyter"
  },
  "language_info": {
   "codemirror_mode": {
    "name": "ipython",
    "version": 3
   },
   "file_extension": ".py",
   "mimetype": "text/x-python",
   "name": "python",
   "nbconvert_exporter": "python",
   "pygments_lexer": "ipython3",
   "version": "3.11.13"
  }
 },
 "nbformat": 4,
 "nbformat_minor": 4
}