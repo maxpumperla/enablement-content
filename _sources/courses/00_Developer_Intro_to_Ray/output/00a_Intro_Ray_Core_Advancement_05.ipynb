{
 "cells": [
  {
   "cell_type": "markdown",
   "id": "00383d23",
   "metadata": {},
   "source": [
    "## 4. Task Runtime Environments\n",
    "\n",
    "Runtime environments can be used on top of the prepared environment from the Ray Cluster to customize the execution of tasks.\n",
    "\n",
    "When setting up a worker process to run a task, Ray will first prepare the environment for the task.\n",
    "\n",
    "This includes things like:\n",
    "* installing dependencies\n",
    "* setting environment variables\n",
    "\n",
    "For example, we can set an environment variable:"
   ]
  },
  {
   "cell_type": "code",
   "execution_count": null,
   "id": "35d6e83b",
   "metadata": {},
   "outputs": [],
   "source": [
    "@ray.remote(runtime_env={\"env_vars\": {\"my_custom_env\": \"prod\"}})\n",
    "def f():\n",
    "    env = os.environ[\"my_custom_env\"]\n",
    "    return f\"My custom env is {env}\""
   ]
  },
  {
   "cell_type": "code",
   "execution_count": null,
   "id": "0cf3ecad-0484-4345-b581-e96d522deb24",
   "metadata": {},
   "outputs": [],
   "source": [
    "ray.get(f.remote())"
   ]
  },
  {
   "cell_type": "markdown",
   "id": "ce1364e2-436e-4663-a5be-cc218839258c",
   "metadata": {},
   "source": [
    "### 4.1. Note about pip dependencies"
   ]
  },
  {
   "cell_type": "markdown",
   "id": "038497c8",
   "metadata": {},
   "source": [
    "pip dependencies in task runtime environments don't come for free. They add to the startup time of the worker process.\n",
    "\n",
    "If you find yourself needing to install the same dependencies across many tasks, consider baking them into the image you use to start your Ray cluster."
   ]
  }
 ],
 "metadata": {
  "kernelspec": {
   "display_name": "Xing-ray-jupyter-3.11",
   "language": "python",
   "name": "xing-ray-jupyter"
  },
  "language_info": {
   "codemirror_mode": {
    "name": "ipython",
    "version": 3
   },
   "file_extension": ".py",
   "mimetype": "text/x-python",
   "name": "python",
   "nbconvert_exporter": "python",
   "pygments_lexer": "ipython3",
   "version": "3.11.13"
  }
 },
 "nbformat": 4,
 "nbformat_minor": 5
}