{
 "cells": [
  {
   "cell_type": "markdown",
   "id": "682e224e-1bb9-470c-b363-386ede0785a4",
   "metadata": {},
   "source": [
    "# Intro to Ray Serve\n",
    "\n",
    "This notebook will introduce you to Ray Serve, a framework for building and deploying scalable ML applications.\n",
    "\n",
    "<div class=\"alert alert-block alert-info\">\n",
    "    \n",
    "<b>Here is the roadmap for this notebook:</b>\n",
    "\n",
    "<ul>\n",
    "    <li><b>Part 0:</b> Introduction</li>\n",
    "    <li><b>Part 1:</b> Overview of Ray Serve</li>\n",
    "    <li><b>Part 2:</b> Implement a Classifier service</li>\n",
    "    <li><b>Part 3:</b> Advanced features of Ray Serve</li>\n",
    "    <li><b>Part 4:</b> Ray Serve in Production</li>\n",
    "</ul>\n",
    "</div>\n"
   ]
  },
  {
   "cell_type": "markdown",
   "id": "7250cc03-e52c-4e30-a262-8d8e0a5a0837",
   "metadata": {},
   "source": [
    "## 1. Overview of Ray Serve\n",
    "\n",
    "Serve is a framework for serving ML applications. \n",
    "\n",
    "Here is a high-level overview of the architecture of a Ray Serve Application.\n",
    "\n",
    "<img src='https://technical-training-assets.s3.us-west-2.amazonaws.com/Ray_Serve/serve_architecture.png' width=700/>\n",
    "\n",
    "An Application is a collection of one or more Deployments that are deployed together.\n",
    "\n",
    "### Deployments\n",
    "\n",
    "- `Deployment` is the fundamental developer-facing element of serve.\n",
    "- You send requests to deployments.\n",
    "\n",
    "<img src='https://technical-training-assets.s3.us-west-2.amazonaws.com/Ray_Serve/deployment.png' width=600/>\n",
    "\n",
    "- Each deployment can have multiple replicas. \n",
    "- A replica is implemented as a Ray actor with a queue to process incoming requests.\n",
    "- Each replica can be configured with a set of compute resources. "
   ]
  },
  {
   "cell_type": "markdown",
   "id": "6380b141",
   "metadata": {},
   "source": [
    "### When to use Ray Serve?\n",
    "\n",
    "Ray Serve is designed to be used in the following scenarios:\n",
    "- Build end-to-end ML applications with a flexible and programmable Python API\n",
    "- Flexibly scale up and down your compute resources to meet the demand of your application\n",
    "- Easy to develop on a local machine, and scale to a multi-node GPU cluster\n",
    "\n",
    "#### Key Ray Serve Features\n",
    "Ray Serve provides the following key features and optimizations:\n",
    "- [response streaming](https://docs.ray.io/en/latest/serve/tutorials/streaming.html)\n",
    "- [dynamic request batching](https://docs.ray.io/en/latest/serve/advanced-guides/dyn-req-batch.html)\n",
    "- [multi-node/multi-GPU serving](https://docs.ray.io/en/latest/serve/tutorials/vllm-example.html)\n",
    "- [model multiplexing](https://docs.ray.io/en/latest/serve/model-multiplexing.html)\n",
    "- [fractional compute resource usage](https://docs.ray.io/en/latest/serve/configure-serve-deployment.html)"
   ]
  },
  {
   "cell_type": "markdown",
   "id": "a43da1a6",
   "metadata": {},
   "source": [
    "## 2. Implement an Classifier service\n",
    "\n",
    "Let’s jump right in and get a simple ML service up and running on Ray Serve. \n",
    "\n",
    "Recall the `MNISTClassifier` we built to perform batch inference on the `MNIST` dataset."
   ]
  },
  {
   "cell_type": "code",
   "execution_count": 1,
   "id": "14fb17a6-a71c-4a11-8ea8-b1b350a5fa1c",
   "metadata": {
    "tags": []
   },
   "outputs": [],
   "source": [
    "import numpy as np\n",
    "import torch\n",
    "\n",
    "\n",
    "class OfflineMNISTClassifier:\n",
    "    def __init__(self, local_path: str):\n",
    "        self.model = torch.jit.load(local_path)\n",
    "        self.model.to(\"cuda\")\n",
    "        self.model.eval()\n",
    "\n",
    "    def __call__(self, batch: dict[str, np.ndarray]) -> dict[str, np.ndarray]:\n",
    "        return self.predict(batch)\n",
    "    \n",
    "    def predict(self, batch: dict[str, np.ndarray]) -> dict[str, np.ndarray]:\n",
    "        images = torch.tensor(batch[\"image\"]).float().to(\"cuda\")\n",
    "\n",
    "        with torch.no_grad():\n",
    "            logits = self.model(images).cpu().numpy()\n",
    "\n",
    "        batch[\"predicted_label\"] = np.argmax(logits, axis=1)\n",
    "        return batch"
   ]
  },
  {
   "cell_type": "code",
   "execution_count": 2,
   "id": "48d148b8",
   "metadata": {},
   "outputs": [
    {
     "name": "stdout",
     "output_type": "stream",
     "text": [
      "download: s3://anyscale-public-materials/ray-ai-libraries/mnist/model/model.pt to ../../../mnt/cluster_storage/model.pt\n"
     ]
    }
   ],
   "source": [
    "# We download the model from s3 to the EFS storage\n",
    "!aws s3 cp s3://anyscale-public-materials/ray-ai-libraries/mnist/model/model.pt /mnt/cluster_storage/model.pt"
   ]
  },
  {
   "cell_type": "markdown",
   "id": "e1a79961",
   "metadata": {},
   "source": [
    "Here is how we can use the `OfflineMNISTClassifier` to perform batch inference on a dataset of random images."
   ]
  },
  {
   "cell_type": "code",
   "execution_count": 3,
   "id": "41b16400",
   "metadata": {},
   "outputs": [
    {
     "name": "stderr",
     "output_type": "stream",
     "text": [
      "2024-12-13 08:07:46,919\tINFO worker.py:1596 -- Connecting to existing Ray cluster at address: 10.0.7.17:6379...\n",
      "2024-12-13 08:07:46,925\tINFO worker.py:1772 -- Connected to Ray cluster. View the dashboard at \u001b[1m\u001b[32mhttps://session-wun39fg7yb3g9682a8fejskwz3.i.anyscaleuserdata.com \u001b[39m\u001b[22m\n",
      "2024-12-13 08:07:47,081\tINFO packaging.py:358 -- Pushing file package 'gcs://_ray_pkg_2c93dc3dcf185c9c264569cb6910da7968e97c04.zip' (63.75MiB) to Ray cluster...\n",
      "2024-12-13 08:07:47,789\tINFO packaging.py:371 -- Successfully pushed file package 'gcs://_ray_pkg_2c93dc3dcf185c9c264569cb6910da7968e97c04.zip'.\n",
      "2024-12-13 08:07:49,557\tINFO streaming_executor.py:108 -- Starting execution of Dataset. Full logs are in /tmp/ray/session_2024-12-13_08-07-01_151483_2430/logs/ray-data\n",
      "2024-12-13 08:07:49,558\tINFO streaming_executor.py:109 -- Execution plan of Dataset: InputDataBuffer[Input] -> ActorPoolMapOperator[MapBatches(OfflineMNISTClassifier)] -> LimitOperator[limit=10]\n"
     ]
    },
    {
     "data": {
      "application/vnd.jupyter.widget-view+json": {
       "model_id": "8a3af3b732284449b3c954b46ad8ff76",
       "version_major": 2,
       "version_minor": 0
      },
      "text/plain": [
       "- MapBatches(OfflineMNISTClassifier) 1: 0 bundle [00:00, ? bundle/s]"
      ]
     },
     "metadata": {},
     "output_type": "display_data"
    },
    {
     "data": {
      "application/vnd.jupyter.widget-view+json": {
       "model_id": "18d92d81b774430fa1975b4f54ab6f22",
       "version_major": 2,
       "version_minor": 0
      },
      "text/plain": [
       "- limit=10 2: 0 bundle [00:00, ? bundle/s]"
      ]
     },
     "metadata": {},
     "output_type": "display_data"
    },
    {
     "data": {
      "application/vnd.jupyter.widget-view+json": {
       "model_id": "411126f0b77f4180ad1dd6185dfb2a18",
       "version_major": 2,
       "version_minor": 0
      },
      "text/plain": [
       "Running 0: 0 bundle [00:00, ? bundle/s]"
      ]
     },
     "metadata": {},
     "output_type": "display_data"
    },
    {
     "data": {
      "text/plain": [
       "array([6, 1, 6, 6, 1, 1, 1, 6, 6, 1])"
      ]
     },
     "execution_count": 3,
     "metadata": {},
     "output_type": "execute_result"
    },
    {
     "name": "stdout",
     "output_type": "stream",
     "text": [
      "\u001b[36m(autoscaler +1m10s)\u001b[0m Tip: use `ray status` to view detailed cluster status. To disable these messages, set RAY_SCHEDULER_EVENTS=0.\n"
     ]
    },
    {
     "name": "stderr",
     "output_type": "stream",
     "text": [
      "\u001b[36m(ServeReplica:mnist_classifier:OnlineMNISTClassifier pid=4242)\u001b[0m INFO 2024-12-13 08:09:45,181 mnist_classifier_OnlineMNISTClassifier igfqf50m adbb3ada-000d-4fd7-9c4b-beeac31c59e4 replica.py:408 - PREDICT OK 98.8ms\n",
      "\u001b[36m(ServeReplica:mnist_classifier:OnlineMNISTClassifier pid=4242)\u001b[0m ERROR 2024-12-13 08:13:24,247 mnist_classifier_OnlineMNISTClassifier igfqf50m 86bc4797-76d5-41f4-becf-f1e4e8c60f5f / replica.py:394 - Request failed:\n",
      "\u001b[36m(ServeReplica:mnist_classifier:OnlineMNISTClassifier pid=4242)\u001b[0m \u001b[36mray::ServeReplica:mnist_classifier:OnlineMNISTClassifier.handle_request_with_rejection()\u001b[39m (pid=4242, ip=10.0.7.17)\n",
      "\u001b[36m(ServeReplica:mnist_classifier:OnlineMNISTClassifier pid=4242)\u001b[0m   File \"/home/ray/anaconda3/lib/python3.11/site-packages/ray/serve/_private/utils.py\", line 168, in wrap_to_ray_error\n",
      "\u001b[36m(ServeReplica:mnist_classifier:OnlineMNISTClassifier pid=4242)\u001b[0m     raise exception\n",
      "\u001b[36m(ServeReplica:mnist_classifier:OnlineMNISTClassifier pid=4242)\u001b[0m   File \"/home/ray/anaconda3/lib/python3.11/site-packages/ray/serve/_private/replica.py\", line 1192, in call_user_method\n",
      "\u001b[36m(ServeReplica:mnist_classifier:OnlineMNISTClassifier pid=4242)\u001b[0m     await self._call_func_or_gen(\n",
      "\u001b[36m(ServeReplica:mnist_classifier:OnlineMNISTClassifier pid=4242)\u001b[0m   File \"/home/ray/anaconda3/lib/python3.11/site-packages/ray/serve/_private/replica.py\", line 916, in _call_func_or_gen\n",
      "\u001b[36m(ServeReplica:mnist_classifier:OnlineMNISTClassifier pid=4242)\u001b[0m     result = await result\n",
      "\u001b[36m(ServeReplica:mnist_classifier:OnlineMNISTClassifier pid=4242)\u001b[0m              ^^^^^^^^^^^^\n",
      "\u001b[36m(ServeReplica:mnist_classifier:OnlineMNISTClassifier pid=4242)\u001b[0m   File \"/tmp/ipykernel_3618/1676735073.py\", line 16, in __call__\n",
      "\u001b[36m(ServeReplica:mnist_classifier:OnlineMNISTClassifier pid=4242)\u001b[0m   File \"/home/ray/anaconda3/lib/python3.11/site-packages/starlette/requests.py\", line 252, in json\n",
      "\u001b[36m(ServeReplica:mnist_classifier:OnlineMNISTClassifier pid=4242)\u001b[0m     self._json = json.loads(body)\n",
      "\u001b[36m(ServeReplica:mnist_classifier:OnlineMNISTClassifier pid=4242)\u001b[0m                  ^^^^^^^^^^^^^^^^\n",
      "\u001b[36m(ServeReplica:mnist_classifier:OnlineMNISTClassifier pid=4242)\u001b[0m   File \"/home/ray/anaconda3/lib/python3.11/json/__init__.py\", line 346, in loads\n",
      "\u001b[36m(ServeReplica:mnist_classifier:OnlineMNISTClassifier pid=4242)\u001b[0m     return _default_decoder.decode(s)\n",
      "\u001b[36m(ServeReplica:mnist_classifier:OnlineMNISTClassifier pid=4242)\u001b[0m            ^^^^^^^^^^^^^^^^^^^^^^^^^^\n",
      "\u001b[36m(ServeReplica:mnist_classifier:OnlineMNISTClassifier pid=4242)\u001b[0m   File \"/home/ray/anaconda3/lib/python3.11/json/decoder.py\", line 337, in decode\n",
      "\u001b[36m(ServeReplica:mnist_classifier:OnlineMNISTClassifier pid=4242)\u001b[0m     obj, end = self.raw_decode(s, idx=_w(s, 0).end())\n",
      "\u001b[36m(ServeReplica:mnist_classifier:OnlineMNISTClassifier pid=4242)\u001b[0m                ^^^^^^^^^^^^^^^^^^^^^^^^^^^^^^^^^^^^^^\n",
      "\u001b[36m(ServeReplica:mnist_classifier:OnlineMNISTClassifier pid=4242)\u001b[0m   File \"/home/ray/anaconda3/lib/python3.11/json/decoder.py\", line 355, in raw_decode\n",
      "\u001b[36m(ServeReplica:mnist_classifier:OnlineMNISTClassifier pid=4242)\u001b[0m     raise JSONDecodeError(\"Expecting value\", s, err.value) from None\n",
      "\u001b[36m(ServeReplica:mnist_classifier:OnlineMNISTClassifier pid=4242)\u001b[0m json.decoder.JSONDecodeError: Expecting value: line 1 column 1 (char 0)\n",
      "\u001b[36m(ServeReplica:mnist_classifier:OnlineMNISTClassifier pid=4242)\u001b[0m INFO 2024-12-13 08:13:24,247 mnist_classifier_OnlineMNISTClassifier igfqf50m 86bc4797-76d5-41f4-becf-f1e4e8c60f5f / replica.py:408 - __CALL__ ERROR 9.2ms\n",
      "\u001b[36m(ServeController pid=4122)\u001b[0m INFO 2024-12-13 08:26:56,522 controller 4122 deployment_state.py:1598 - Deploying new version of Deployment(name='OnlineMNISTClassifier', app='mnist_classifier') (initial target replicas: 4).\n",
      "\u001b[36m(ServeController pid=4122)\u001b[0m INFO 2024-12-13 08:26:56,626 controller 4122 deployment_state.py:1844 - Adding 3 replicas to Deployment(name='OnlineMNISTClassifier', app='mnist_classifier').\n",
      "\u001b[36m(ServeController pid=4122)\u001b[0m INFO 2024-12-13 08:27:01,018 controller 4122 deployment_state.py:1721 - Stopping 1 replicas of Deployment(name='OnlineMNISTClassifier', app='mnist_classifier') with outdated versions.\n",
      "\u001b[36m(ServeController pid=4122)\u001b[0m INFO 2024-12-13 08:27:01,019 controller 4122 deployment_state.py:1844 - Adding 1 replica to Deployment(name='OnlineMNISTClassifier', app='mnist_classifier').\n",
      "\u001b[36m(ProxyActor pid=4048, ip=10.0.34.228)\u001b[0m INFO 2024-12-13 08:27:02,071 proxy 10.0.34.228 proxy.py:1225 - Proxy starting on node 110bfa514ef99a26c475fa71f98a338b54b953a6d6fe53937cde202f (HTTP port: 8000).\n",
      "\u001b[36m(ServeController pid=4122)\u001b[0m INFO 2024-12-13 08:27:03,098 controller 4122 deployment_state.py:2182 - Replica(id='igfqf50m', deployment='OnlineMNISTClassifier', app='mnist_classifier') is stopped.\n",
      "\u001b[36m(ServeReplica:mnist_classifier:OnlineMNISTClassifier pid=4064, ip=10.0.34.228)\u001b[0m INFO 2024-12-13 08:27:23,538 mnist_classifier_OnlineMNISTClassifier yzcovfs1 5f06772e-3258-4bd1-9d3a-68e42b76145e / replica.py:408 - __CALL__ OK 379.1ms\n",
      "\u001b[36m(ServeController pid=4122)\u001b[0m INFO 2024-12-13 08:33:39,159 controller 4122 deployment_state.py:1598 - Deploying new version of Deployment(name='OnlineMNISTClassifier', app='mnist_classifier') (initial target replicas: 0).\n",
      "\u001b[36m(ServeController pid=4122)\u001b[0m INFO 2024-12-13 08:33:39,263 controller 4122 deployment_state.py:1860 - Removing 4 replicas from Deployment(name='OnlineMNISTClassifier', app='mnist_classifier').\n",
      "\u001b[36m(ServeController pid=4122)\u001b[0m INFO 2024-12-13 08:33:39,266 controller 4122 proxy_state.py:493 - Draining proxy on node '110bfa514ef99a26c475fa71f98a338b54b953a6d6fe53937cde202f'.\n",
      "\u001b[36m(ServeController pid=4122)\u001b[0m INFO 2024-12-13 08:33:41,338 controller 4122 deployment_state.py:2182 - Replica(id='3jw5er2a', deployment='OnlineMNISTClassifier', app='mnist_classifier') is stopped.\n",
      "\u001b[36m(ServeController pid=4122)\u001b[0m INFO 2024-12-13 08:33:41,339 controller 4122 deployment_state.py:2182 - Replica(id='33le5oca', deployment='OnlineMNISTClassifier', app='mnist_classifier') is stopped.\n",
      "\u001b[36m(ServeController pid=4122)\u001b[0m INFO 2024-12-13 08:33:41,340 controller 4122 deployment_state.py:2182 - Replica(id='ldfdsx9y', deployment='OnlineMNISTClassifier', app='mnist_classifier') is stopped.\n",
      "\u001b[36m(ServeController pid=4122)\u001b[0m INFO 2024-12-13 08:33:41,340 controller 4122 deployment_state.py:2182 - Replica(id='yzcovfs1', deployment='OnlineMNISTClassifier', app='mnist_classifier') is stopped.\n",
      "\u001b[36m(ServeController pid=4122)\u001b[0m INFO 2024-12-13 08:34:10,319 controller 4122 proxy_state.py:758 - Removing drained proxy on node '110bfa514ef99a26c475fa71f98a338b54b953a6d6fe53937cde202f'.\n",
      "\u001b[36m(ServeController pid=4122)\u001b[0m INFO 2024-12-13 08:35:16,157 controller 4122 deployment_state.py:1647 - Upscaling Deployment(name='OnlineMNISTClassifier', app='mnist_classifier') from 0 to 1 replicas. Current ongoing requests: 18.00, current running replicas: 0.\n",
      "\u001b[36m(ServeController pid=4122)\u001b[0m INFO 2024-12-13 08:35:16,157 controller 4122 deployment_state.py:1844 - Adding 1 replica to Deployment(name='OnlineMNISTClassifier', app='mnist_classifier').\n",
      "\u001b[36m(ServeController pid=4122)\u001b[0m INFO 2024-12-13 08:35:20,314 controller 4122 deployment_state.py:1647 - Upscaling Deployment(name='OnlineMNISTClassifier', app='mnist_classifier') from 1 to 10 replicas. Current ongoing requests: 100.00, current running replicas: 1.\n",
      "\u001b[36m(ServeController pid=4122)\u001b[0m INFO 2024-12-13 08:35:20,315 controller 4122 deployment_state.py:1844 - Adding 9 replicas to Deployment(name='OnlineMNISTClassifier', app='mnist_classifier').\n",
      "\u001b[36m(ServeReplica:mnist_classifier:OnlineMNISTClassifier pid=14028)\u001b[0m INFO 2024-12-13 08:35:20,987 mnist_classifier_OnlineMNISTClassifier rxr0eh2z 8b33e11c-afbd-4d26-8e63-f9c3ea2b2b80 replica.py:408 - PREDICT OK 746.2ms\n",
      "\u001b[36m(ServeReplica:mnist_classifier:OnlineMNISTClassifier pid=14028)\u001b[0m INFO 2024-12-13 08:35:20,994 mnist_classifier_OnlineMNISTClassifier rxr0eh2z 198f7fc4-247e-4770-ae60-f00b0eebe46a replica.py:408 - PREDICT OK 750.5ms\n",
      "\u001b[36m(ServeReplica:mnist_classifier:OnlineMNISTClassifier pid=14028)\u001b[0m INFO 2024-12-13 08:35:20,997 mnist_classifier_OnlineMNISTClassifier rxr0eh2z 13d771ba-91bb-4834-88eb-7d43a29eb930 replica.py:408 - PREDICT OK 749.4ms\n",
      "\u001b[36m(ServeReplica:mnist_classifier:OnlineMNISTClassifier pid=14028)\u001b[0m INFO 2024-12-13 08:35:20,998 mnist_classifier_OnlineMNISTClassifier rxr0eh2z f42481cf-6ecf-4580-8e38-19afc8d10cb0 replica.py:408 - PREDICT OK 750.5ms\n",
      "\u001b[36m(ServeReplica:mnist_classifier:OnlineMNISTClassifier pid=14028)\u001b[0m INFO 2024-12-13 08:35:20,998 mnist_classifier_OnlineMNISTClassifier rxr0eh2z 849b9cea-ea37-4fb4-a6be-d8fad4f81cbc replica.py:408 - PREDICT OK 750.6ms\n",
      "\u001b[36m(ServeReplica:mnist_classifier:OnlineMNISTClassifier pid=14028)\u001b[0m INFO 2024-12-13 08:35:21,464 mnist_classifier_OnlineMNISTClassifier rxr0eh2z 9d24a656-893a-42f8-a9df-a89d0e67250e replica.py:408 - PREDICT OK 51.6ms\n",
      "\u001b[36m(ServeReplica:mnist_classifier:OnlineMNISTClassifier pid=14028)\u001b[0m INFO 2024-12-13 08:35:21,468 mnist_classifier_OnlineMNISTClassifier rxr0eh2z 397b0ed4-51ca-4bd9-96c1-82bea6c3b3f6 replica.py:408 - PREDICT OK 44.1ms\n",
      "\u001b[36m(ServeReplica:mnist_classifier:OnlineMNISTClassifier pid=14028)\u001b[0m INFO 2024-12-13 08:35:21,527 mnist_classifier_OnlineMNISTClassifier rxr0eh2z fe7247a0-0a61-41d7-b75c-0b744f0af96b replica.py:408 - PREDICT OK 101.7ms\n",
      "\u001b[36m(ServeReplica:mnist_classifier:OnlineMNISTClassifier pid=14028)\u001b[0m INFO 2024-12-13 08:35:21,537 mnist_classifier_OnlineMNISTClassifier rxr0eh2z 99096134-2baf-4273-989c-9855722d0246 replica.py:408 - PREDICT OK 106.4ms\n",
      "\u001b[36m(ServeReplica:mnist_classifier:OnlineMNISTClassifier pid=14028)\u001b[0m INFO 2024-12-13 08:35:21,538 mnist_classifier_OnlineMNISTClassifier rxr0eh2z 5b73562d-a289-4e5c-9f00-2bb58e1d94b0 replica.py:408 - PREDICT OK 106.9ms\n",
      "\u001b[36m(ServeReplica:mnist_classifier:OnlineMNISTClassifier pid=14028)\u001b[0m INFO 2024-12-13 08:35:21,549 mnist_classifier_OnlineMNISTClassifier rxr0eh2z f8858038-f04a-48ad-b215-163c2eb7200d replica.py:408 - PREDICT OK 80.4ms\n",
      "\u001b[36m(ServeReplica:mnist_classifier:OnlineMNISTClassifier pid=14028)\u001b[0m INFO 2024-12-13 08:35:21,561 mnist_classifier_OnlineMNISTClassifier rxr0eh2z 66c9e87d-2335-4657-971a-f2b28825c927 replica.py:408 - PREDICT OK 88.9ms\n",
      "\u001b[36m(ServeReplica:mnist_classifier:OnlineMNISTClassifier pid=14028)\u001b[0m INFO 2024-12-13 08:35:21,586 mnist_classifier_OnlineMNISTClassifier rxr0eh2z d2e33b6d-b3e1-47cc-8219-b3ad4dc44bd8 replica.py:408 - PREDICT OK 48.9ms\n",
      "\u001b[36m(ServeReplica:mnist_classifier:OnlineMNISTClassifier pid=14028)\u001b[0m INFO 2024-12-13 08:35:21,587 mnist_classifier_OnlineMNISTClassifier rxr0eh2z f83f7753-72a4-4cd4-b5b3-e3760faf5e33 replica.py:408 - PREDICT OK 49.1ms\n",
      "\u001b[36m(ServeReplica:mnist_classifier:OnlineMNISTClassifier pid=14028)\u001b[0m INFO 2024-12-13 08:35:21,662 mnist_classifier_OnlineMNISTClassifier rxr0eh2z ac402fae-a35d-451a-b722-0185fe491b93 replica.py:408 - PREDICT OK 114.3ms\n",
      "\u001b[36m(ServeReplica:mnist_classifier:OnlineMNISTClassifier pid=14028)\u001b[0m INFO 2024-12-13 08:35:21,664 mnist_classifier_OnlineMNISTClassifier rxr0eh2z f8dc8415-d165-4e83-9171-a01b15a5b5be replica.py:408 - PREDICT OK 114.6ms\n",
      "\u001b[36m(ServeReplica:mnist_classifier:OnlineMNISTClassifier pid=14028)\u001b[0m INFO 2024-12-13 08:35:21,666 mnist_classifier_OnlineMNISTClassifier rxr0eh2z 17afcb4f-cf44-4ce7-9d9e-9ef4b27f9eef replica.py:408 - PREDICT OK 103.2ms\n",
      "\u001b[36m(ServeReplica:mnist_classifier:OnlineMNISTClassifier pid=14028)\u001b[0m INFO 2024-12-13 08:35:21,676 mnist_classifier_OnlineMNISTClassifier rxr0eh2z 33aa7c7b-3126-412b-bc7f-106c7187fb31 replica.py:408 - PREDICT OK 89.1ms\n",
      "\u001b[36m(ServeReplica:mnist_classifier:OnlineMNISTClassifier pid=14028)\u001b[0m INFO 2024-12-13 08:35:21,677 mnist_classifier_OnlineMNISTClassifier rxr0eh2z d0ca98cf-9e5f-4adf-aa82-2face0e9f79a replica.py:408 - PREDICT OK 86.4ms\n",
      "\u001b[36m(ServeReplica:mnist_classifier:OnlineMNISTClassifier pid=14028)\u001b[0m INFO 2024-12-13 08:35:21,776 mnist_classifier_OnlineMNISTClassifier rxr0eh2z a9f8f400-125f-47bc-b189-f373ed73d831 replica.py:408 - PREDICT OK 14.4ms\n",
      "\u001b[36m(ServeReplica:mnist_classifier:OnlineMNISTClassifier pid=14028)\u001b[0m INFO 2024-12-13 08:35:21,796 mnist_classifier_OnlineMNISTClassifier rxr0eh2z 75bb405a-3222-4563-96a7-da854dfc7ea0 replica.py:408 - PREDICT OK 20.6ms\n",
      "\u001b[36m(ServeReplica:mnist_classifier:OnlineMNISTClassifier pid=14028)\u001b[0m INFO 2024-12-13 08:35:21,832 mnist_classifier_OnlineMNISTClassifier rxr0eh2z 8c0b2615-012a-4afb-b657-14e9eff572db replica.py:408 - PREDICT OK 55.3ms\n",
      "\u001b[36m(ServeReplica:mnist_classifier:OnlineMNISTClassifier pid=14028)\u001b[0m INFO 2024-12-13 08:35:21,833 mnist_classifier_OnlineMNISTClassifier rxr0eh2z fde32f32-2169-46b2-8d7a-358d6c65843b replica.py:408 - PREDICT OK 48.7ms\n",
      "\u001b[36m(ServeReplica:mnist_classifier:OnlineMNISTClassifier pid=14028)\u001b[0m INFO 2024-12-13 08:35:21,834 mnist_classifier_OnlineMNISTClassifier rxr0eh2z c367b64e-6306-4ac3-86a9-1aa6adb1f432 replica.py:408 - PREDICT OK 47.9ms\n",
      "\u001b[36m(ServeReplica:mnist_classifier:OnlineMNISTClassifier pid=14028)\u001b[0m INFO 2024-12-13 08:35:21,839 mnist_classifier_OnlineMNISTClassifier rxr0eh2z 055231b5-0a5e-4cf9-9857-a7ddb68cd245 replica.py:408 - PREDICT OK 53.1ms\n",
      "\u001b[36m(ServeReplica:mnist_classifier:OnlineMNISTClassifier pid=14028)\u001b[0m INFO 2024-12-13 08:35:21,868 mnist_classifier_OnlineMNISTClassifier rxr0eh2z fb055019-bfe0-4a95-9712-ad817c34f956 replica.py:408 - PREDICT OK 61.5ms\n",
      "\u001b[36m(ServeReplica:mnist_classifier:OnlineMNISTClassifier pid=14028)\u001b[0m INFO 2024-12-13 08:35:21,927 mnist_classifier_OnlineMNISTClassifier rxr0eh2z e08658d7-e26a-461a-b898-b4998163f409 replica.py:408 - PREDICT OK 93.9ms\n",
      "\u001b[36m(ServeReplica:mnist_classifier:OnlineMNISTClassifier pid=14028)\u001b[0m INFO 2024-12-13 08:35:21,929 mnist_classifier_OnlineMNISTClassifier rxr0eh2z 7601c764-bd44-4190-bec1-e315715a219b replica.py:408 - PREDICT OK 89.0ms\n",
      "\u001b[36m(ServeReplica:mnist_classifier:OnlineMNISTClassifier pid=14028)\u001b[0m INFO 2024-12-13 08:35:21,930 mnist_classifier_OnlineMNISTClassifier rxr0eh2z 3ca864dc-9a5e-4386-ba35-abfae7c26043 replica.py:408 - PREDICT OK 89.9ms\n",
      "\u001b[36m(ServeReplica:mnist_classifier:OnlineMNISTClassifier pid=14028)\u001b[0m INFO 2024-12-13 08:35:21,930 mnist_classifier_OnlineMNISTClassifier rxr0eh2z 764a73de-61d2-4ffc-a7d2-032912f30ff5 replica.py:408 - PREDICT OK 90.1ms\n",
      "\u001b[36m(ServeReplica:mnist_classifier:OnlineMNISTClassifier pid=14028)\u001b[0m INFO 2024-12-13 08:35:21,932 mnist_classifier_OnlineMNISTClassifier rxr0eh2z 9b641f18-15f8-4e90-ae7e-cf3965934494 replica.py:408 - PREDICT OK 53.4ms\n",
      "\u001b[36m(ServeReplica:mnist_classifier:OnlineMNISTClassifier pid=14028)\u001b[0m INFO 2024-12-13 08:35:21,940 mnist_classifier_OnlineMNISTClassifier rxr0eh2z 68b06455-09cc-4ecc-abfa-980e3078fcc8 replica.py:408 - PREDICT OK 11.7ms\n",
      "\u001b[36m(ServeReplica:mnist_classifier:OnlineMNISTClassifier pid=14028)\u001b[0m INFO 2024-12-13 08:35:21,948 mnist_classifier_OnlineMNISTClassifier rxr0eh2z 8c11bec2-af41-4a9a-84cf-db8d5c128784 replica.py:408 - PREDICT OK 12.6ms\n",
      "\u001b[36m(ServeReplica:mnist_classifier:OnlineMNISTClassifier pid=14028)\u001b[0m INFO 2024-12-13 08:35:21,973 mnist_classifier_OnlineMNISTClassifier rxr0eh2z 4420a646-b4c0-411e-9be1-5d733a6b1b53 replica.py:408 - PREDICT OK 35.4ms\n",
      "\u001b[36m(ServeReplica:mnist_classifier:OnlineMNISTClassifier pid=14028)\u001b[0m INFO 2024-12-13 08:35:21,980 mnist_classifier_OnlineMNISTClassifier rxr0eh2z b07d9302-0b54-4a32-a59b-81c68bd7c359 replica.py:408 - PREDICT OK 37.4ms\n",
      "\u001b[36m(ServeReplica:mnist_classifier:OnlineMNISTClassifier pid=14028)\u001b[0m INFO 2024-12-13 08:35:21,992 mnist_classifier_OnlineMNISTClassifier rxr0eh2z d6ccf670-36db-40f4-b9b0-e91d0228fc62 replica.py:408 - PREDICT OK 46.9ms\n",
      "\u001b[36m(ServeReplica:mnist_classifier:OnlineMNISTClassifier pid=14028)\u001b[0m INFO 2024-12-13 08:35:22,034 mnist_classifier_OnlineMNISTClassifier rxr0eh2z c3d55581-95d0-42d8-a35a-a21b928d6dcd replica.py:408 - PREDICT OK 80.7ms\n",
      "\u001b[36m(ServeReplica:mnist_classifier:OnlineMNISTClassifier pid=14028)\u001b[0m INFO 2024-12-13 08:35:22,049 mnist_classifier_OnlineMNISTClassifier rxr0eh2z aa3d9e41-5387-4ce9-8210-2487ba0e9ded replica.py:408 - PREDICT OK 93.3ms\n",
      "\u001b[36m(ServeReplica:mnist_classifier:OnlineMNISTClassifier pid=14028)\u001b[0m INFO 2024-12-13 08:35:22,052 mnist_classifier_OnlineMNISTClassifier rxr0eh2z 5f823b37-9dff-459f-abf0-b92f33f4e6e1 replica.py:408 - PREDICT OK 78.3ms\n",
      "\u001b[36m(ServeReplica:mnist_classifier:OnlineMNISTClassifier pid=14028)\u001b[0m INFO 2024-12-13 08:35:22,054 mnist_classifier_OnlineMNISTClassifier rxr0eh2z dd35223a-303a-40ed-ae40-79af2936d153 replica.py:408 - PREDICT OK 63.8ms\n",
      "\u001b[36m(ServeReplica:mnist_classifier:OnlineMNISTClassifier pid=14028)\u001b[0m INFO 2024-12-13 08:35:22,055 mnist_classifier_OnlineMNISTClassifier rxr0eh2z 54bf6b8c-bcd3-4b35-bc60-b648b2388eb5 replica.py:408 - PREDICT OK 61.4ms\n",
      "\u001b[36m(ServeReplica:mnist_classifier:OnlineMNISTClassifier pid=14028)\u001b[0m INFO 2024-12-13 08:35:22,086 mnist_classifier_OnlineMNISTClassifier rxr0eh2z f11b7533-7ae3-4493-9384-90e6a0e7590b replica.py:408 - PREDICT OK 27.3ms\n",
      "\u001b[36m(ServeReplica:mnist_classifier:OnlineMNISTClassifier pid=14028)\u001b[0m INFO 2024-12-13 08:35:22,321 mnist_classifier_OnlineMNISTClassifier rxr0eh2z 9bde4ea1-af4c-42dc-aa54-58429ed8feed replica.py:408 - PREDICT OK 260.5ms\n",
      "\u001b[36m(ServeReplica:mnist_classifier:OnlineMNISTClassifier pid=14028)\u001b[0m INFO 2024-12-13 08:35:22,324 mnist_classifier_OnlineMNISTClassifier rxr0eh2z 9e31af96-5f0f-472e-b3df-7d259a3f1724 replica.py:408 - PREDICT OK 263.6ms\n",
      "\u001b[36m(ServeReplica:mnist_classifier:OnlineMNISTClassifier pid=14028)\u001b[0m INFO 2024-12-13 08:35:22,325 mnist_classifier_OnlineMNISTClassifier rxr0eh2z cb701050-3b0f-42a7-b47d-f8636cd2b1e8 replica.py:408 - PREDICT OK 264.5ms\n",
      "\u001b[36m(ServeReplica:mnist_classifier:OnlineMNISTClassifier pid=14028)\u001b[0m INFO 2024-12-13 08:35:22,326 mnist_classifier_OnlineMNISTClassifier rxr0eh2z 739dd5bd-193e-4b91-a3b1-38c5823e9680 replica.py:408 - PREDICT OK 265.3ms\n",
      "\u001b[36m(ServeReplica:mnist_classifier:OnlineMNISTClassifier pid=14028)\u001b[0m INFO 2024-12-13 08:35:22,337 mnist_classifier_OnlineMNISTClassifier rxr0eh2z 9a869580-9787-41d6-a250-0fc50e2851a6 replica.py:408 - PREDICT OK 245.6ms\n",
      "\u001b[36m(ServeReplica:mnist_classifier:OnlineMNISTClassifier pid=14028)\u001b[0m INFO 2024-12-13 08:35:22,347 mnist_classifier_OnlineMNISTClassifier rxr0eh2z f18636e7-39bb-4621-b55e-acb2e84a7555 replica.py:408 - PREDICT OK 25.2ms\n",
      "\u001b[36m(ServeReplica:mnist_classifier:OnlineMNISTClassifier pid=14028)\u001b[0m INFO 2024-12-13 08:35:22,376 mnist_classifier_OnlineMNISTClassifier rxr0eh2z 8bd01702-5adf-4734-8357-de964fa0ffbe replica.py:408 - PREDICT OK 51.3ms\n",
      "\u001b[36m(ServeReplica:mnist_classifier:OnlineMNISTClassifier pid=14028)\u001b[0m INFO 2024-12-13 08:35:22,378 mnist_classifier_OnlineMNISTClassifier rxr0eh2z cd49ca4c-dc01-485e-bcaf-0301e3293111 replica.py:408 - PREDICT OK 46.5ms\n",
      "\u001b[36m(ServeReplica:mnist_classifier:OnlineMNISTClassifier pid=14028)\u001b[0m INFO 2024-12-13 08:35:22,379 mnist_classifier_OnlineMNISTClassifier rxr0eh2z 020ac7b0-0990-406a-bd0d-3558a5df2255 replica.py:408 - PREDICT OK 47.1ms\n",
      "\u001b[36m(ServeReplica:mnist_classifier:OnlineMNISTClassifier pid=14028)\u001b[0m INFO 2024-12-13 08:35:22,394 mnist_classifier_OnlineMNISTClassifier rxr0eh2z 5c7fcedd-ac23-4ab9-84fb-b80c307061e9 replica.py:408 - PREDICT OK 49.9ms\n",
      "\u001b[36m(ServeReplica:mnist_classifier:OnlineMNISTClassifier pid=14028)\u001b[0m INFO 2024-12-13 08:35:22,397 mnist_classifier_OnlineMNISTClassifier rxr0eh2z 2b08a381-ffa9-4615-8cfe-797418e78a2b replica.py:408 - PREDICT OK 48.2ms\n",
      "\u001b[36m(ServeReplica:mnist_classifier:OnlineMNISTClassifier pid=14028)\u001b[0m INFO 2024-12-13 08:35:22,457 mnist_classifier_OnlineMNISTClassifier rxr0eh2z f9b3dde0-b043-4734-a7c6-29eea496239a replica.py:408 - PREDICT OK 24.4ms\n",
      "\u001b[36m(ServeReplica:mnist_classifier:OnlineMNISTClassifier pid=14028)\u001b[0m INFO 2024-12-13 08:35:22,502 mnist_classifier_OnlineMNISTClassifier rxr0eh2z 2a46beee-d290-4067-a4ac-15fac5d69999 replica.py:408 - PREDICT OK 62.9ms\n",
      "\u001b[36m(ServeReplica:mnist_classifier:OnlineMNISTClassifier pid=14028)\u001b[0m INFO 2024-12-13 08:35:22,503 mnist_classifier_OnlineMNISTClassifier rxr0eh2z cbf2b558-e41e-44e9-9289-208603160954 replica.py:408 - PREDICT OK 63.0ms\n",
      "\u001b[36m(ServeReplica:mnist_classifier:OnlineMNISTClassifier pid=14028)\u001b[0m INFO 2024-12-13 08:35:22,503 mnist_classifier_OnlineMNISTClassifier rxr0eh2z 9c554fe2-a79f-4632-9413-7ca41aa026c0 replica.py:408 - PREDICT OK 60.6ms\n",
      "\u001b[36m(ServeReplica:mnist_classifier:OnlineMNISTClassifier pid=14028)\u001b[0m INFO 2024-12-13 08:35:22,503 mnist_classifier_OnlineMNISTClassifier rxr0eh2z da39b197-9eff-4606-94a8-1bf0aa266dc7 replica.py:408 - PREDICT OK 60.7ms\n",
      "\u001b[36m(ServeReplica:mnist_classifier:OnlineMNISTClassifier pid=14028)\u001b[0m INFO 2024-12-13 08:35:22,512 mnist_classifier_OnlineMNISTClassifier rxr0eh2z 347958d7-a496-4f36-847f-cc11291bc063 replica.py:408 - PREDICT OK 54.1ms\n",
      "\u001b[36m(ServeReplica:mnist_classifier:OnlineMNISTClassifier pid=14028)\u001b[0m INFO 2024-12-13 08:35:22,575 mnist_classifier_OnlineMNISTClassifier rxr0eh2z 01b009dc-a480-4bcf-9bf6-aca98bc59bde replica.py:408 - PREDICT OK 70.6ms\n",
      "\u001b[36m(ServeReplica:mnist_classifier:OnlineMNISTClassifier pid=14028)\u001b[0m INFO 2024-12-13 08:35:22,576 mnist_classifier_OnlineMNISTClassifier rxr0eh2z b23546e7-11ee-44c4-95e7-eac679b97284 replica.py:408 - PREDICT OK 72.1ms\n",
      "\u001b[36m(ServeReplica:mnist_classifier:OnlineMNISTClassifier pid=14028)\u001b[0m INFO 2024-12-13 08:35:22,577 mnist_classifier_OnlineMNISTClassifier rxr0eh2z d07dcb75-ce74-4d13-a46f-7276ec5900aa replica.py:408 - PREDICT OK 72.5ms\n",
      "\u001b[36m(ServeReplica:mnist_classifier:OnlineMNISTClassifier pid=14028)\u001b[0m INFO 2024-12-13 08:35:22,577 mnist_classifier_OnlineMNISTClassifier rxr0eh2z 311c7985-7d33-41b2-8635-efd92019ac98 replica.py:408 - PREDICT OK 72.6ms\n",
      "\u001b[36m(ServeReplica:mnist_classifier:OnlineMNISTClassifier pid=14028)\u001b[0m INFO 2024-12-13 08:35:22,586 mnist_classifier_OnlineMNISTClassifier rxr0eh2z 8b4e7ef3-3736-44d6-b342-6b2803ee9d75 replica.py:408 - PREDICT OK 73.6ms\n",
      "\u001b[36m(ServeReplica:mnist_classifier:OnlineMNISTClassifier pid=14028)\u001b[0m INFO 2024-12-13 08:35:22,720 mnist_classifier_OnlineMNISTClassifier rxr0eh2z 76c218b5-550a-4e32-8398-e27fcdb7d764 replica.py:408 - PREDICT OK 96.4ms\n",
      "\u001b[36m(ServeReplica:mnist_classifier:OnlineMNISTClassifier pid=14028)\u001b[0m INFO 2024-12-13 08:35:22,720 mnist_classifier_OnlineMNISTClassifier rxr0eh2z 99f1fb9c-9a4d-45b6-8a6d-51b2c8f91245 replica.py:408 - PREDICT OK 96.8ms\n",
      "\u001b[36m(ServeReplica:mnist_classifier:OnlineMNISTClassifier pid=14028)\u001b[0m INFO 2024-12-13 08:35:22,721 mnist_classifier_OnlineMNISTClassifier rxr0eh2z 086e2fd8-1dbf-40ef-b592-88d9b7d41436 replica.py:408 - PREDICT OK 95.1ms\n",
      "\u001b[36m(ServeReplica:mnist_classifier:OnlineMNISTClassifier pid=14028)\u001b[0m INFO 2024-12-13 08:35:22,721 mnist_classifier_OnlineMNISTClassifier rxr0eh2z ad88d3a8-b1c8-4121-8c75-cfa8e309885c replica.py:408 - PREDICT OK 94.1ms\n",
      "\u001b[36m(ServeReplica:mnist_classifier:OnlineMNISTClassifier pid=14028)\u001b[0m INFO 2024-12-13 08:35:22,721 mnist_classifier_OnlineMNISTClassifier rxr0eh2z 22bce676-b5f8-4927-879b-3dfe801dfe28 replica.py:408 - PREDICT OK 90.7ms\n",
      "\u001b[36m(ServeReplica:mnist_classifier:OnlineMNISTClassifier pid=14028)\u001b[0m INFO 2024-12-13 08:35:22,807 mnist_classifier_OnlineMNISTClassifier rxr0eh2z 9247b29a-8d92-4986-938c-fee45cdf37c1 replica.py:408 - PREDICT OK 17.0ms\n",
      "\u001b[36m(ServeReplica:mnist_classifier:OnlineMNISTClassifier pid=14028)\u001b[0m INFO 2024-12-13 08:35:22,856 mnist_classifier_OnlineMNISTClassifier rxr0eh2z 3fb0fa8e-9f2b-49bb-9adc-88d8c6b13f68 replica.py:408 - PREDICT OK 65.0ms\n",
      "\u001b[36m(ServeReplica:mnist_classifier:OnlineMNISTClassifier pid=14028)\u001b[0m INFO 2024-12-13 08:35:22,857 mnist_classifier_OnlineMNISTClassifier rxr0eh2z 44d5cfea-5890-4b8e-8d31-ae096d2fa1e3 replica.py:408 - PREDICT OK 64.1ms\n",
      "\u001b[36m(ServeReplica:mnist_classifier:OnlineMNISTClassifier pid=14028)\u001b[0m INFO 2024-12-13 08:35:22,857 mnist_classifier_OnlineMNISTClassifier rxr0eh2z 66b9454d-a122-412f-aeaf-1ae76a31bb0f replica.py:408 - PREDICT OK 61.0ms\n",
      "\u001b[36m(ServeReplica:mnist_classifier:OnlineMNISTClassifier pid=14028)\u001b[0m INFO 2024-12-13 08:35:22,867 mnist_classifier_OnlineMNISTClassifier rxr0eh2z 9c3bf661-61e3-4ca8-bb04-01de007bcb5a replica.py:408 - PREDICT OK 68.7ms\n",
      "\u001b[36m(ServeReplica:mnist_classifier:OnlineMNISTClassifier pid=14028)\u001b[0m INFO 2024-12-13 08:35:22,867 mnist_classifier_OnlineMNISTClassifier rxr0eh2z 758dbc7b-1850-417c-88a3-8cbc22bad0c3 replica.py:408 - PREDICT OK 57.7ms\n",
      "\u001b[36m(ServeReplica:mnist_classifier:OnlineMNISTClassifier pid=14028)\u001b[0m INFO 2024-12-13 08:35:22,896 mnist_classifier_OnlineMNISTClassifier rxr0eh2z 03f1c229-d93a-43f7-b07d-5cf8d8e738bc replica.py:408 - PREDICT OK 36.7ms\n",
      "\u001b[36m(ServeReplica:mnist_classifier:OnlineMNISTClassifier pid=14028)\u001b[0m INFO 2024-12-13 08:35:22,897 mnist_classifier_OnlineMNISTClassifier rxr0eh2z 12bc031f-a420-4a7f-9114-046540e0f6ed replica.py:408 - PREDICT OK 37.3ms\n",
      "\u001b[36m(ServeReplica:mnist_classifier:OnlineMNISTClassifier pid=14028)\u001b[0m INFO 2024-12-13 08:35:22,897 mnist_classifier_OnlineMNISTClassifier rxr0eh2z 88c883f3-438f-427a-aefd-68b49d84aa7c replica.py:408 - PREDICT OK 37.5ms\n",
      "\u001b[36m(ServeReplica:mnist_classifier:OnlineMNISTClassifier pid=14028)\u001b[0m INFO 2024-12-13 08:35:22,904 mnist_classifier_OnlineMNISTClassifier rxr0eh2z 5dc65486-f1d6-4b62-8044-c22e14d7f178 replica.py:408 - PREDICT OK 30.8ms\n",
      "\u001b[36m(ServeReplica:mnist_classifier:OnlineMNISTClassifier pid=14028)\u001b[0m INFO 2024-12-13 08:35:22,905 mnist_classifier_OnlineMNISTClassifier rxr0eh2z 9adb067c-19fb-4366-891b-adf3767bae2b replica.py:408 - PREDICT OK 31.4ms\n",
      "\u001b[36m(ServeReplica:mnist_classifier:OnlineMNISTClassifier pid=14028)\u001b[0m INFO 2024-12-13 08:35:23,014 mnist_classifier_OnlineMNISTClassifier rxr0eh2z b096c122-0158-4dae-9ec4-08f3147421e1 replica.py:408 - PREDICT OK 45.7ms\n",
      "\u001b[36m(ServeReplica:mnist_classifier:OnlineMNISTClassifier pid=14028)\u001b[0m INFO 2024-12-13 08:35:23,043 mnist_classifier_OnlineMNISTClassifier rxr0eh2z 025e9e5f-906a-402e-84df-2b4a31ae4b84 replica.py:408 - PREDICT OK 72.4ms\n",
      "\u001b[36m(ServeReplica:mnist_classifier:OnlineMNISTClassifier pid=14028)\u001b[0m INFO 2024-12-13 08:35:23,253 mnist_classifier_OnlineMNISTClassifier rxr0eh2z e2525dbf-5f2b-4287-8fde-d6838e5f4905 replica.py:408 - PREDICT OK 277.5ms\n",
      "\u001b[36m(ServeReplica:mnist_classifier:OnlineMNISTClassifier pid=14028)\u001b[0m INFO 2024-12-13 08:35:23,257 mnist_classifier_OnlineMNISTClassifier rxr0eh2z 1659b973-f911-44d3-9721-c7abd15477ea replica.py:408 - PREDICT OK 279.3ms\n",
      "\u001b[36m(ServeReplica:mnist_classifier:OnlineMNISTClassifier pid=14028)\u001b[0m INFO 2024-12-13 08:35:23,257 mnist_classifier_OnlineMNISTClassifier rxr0eh2z 00dd0fdd-41e6-4281-b54e-c3b84b20eb8d replica.py:408 - PREDICT OK 279.3ms\n",
      "\u001b[36m(ServeReplica:mnist_classifier:OnlineMNISTClassifier pid=14028)\u001b[0m INFO 2024-12-13 08:35:23,258 mnist_classifier_OnlineMNISTClassifier rxr0eh2z 935c8d4c-a94b-405a-a123-24cafd504339 replica.py:408 - PREDICT OK 243.2ms\n",
      "\u001b[36m(ServeReplica:mnist_classifier:OnlineMNISTClassifier pid=14028)\u001b[0m INFO 2024-12-13 08:35:23,302 mnist_classifier_OnlineMNISTClassifier rxr0eh2z 1f9acacf-14c4-4f9f-a25a-7a101e46b308 replica.py:408 - PREDICT OK 29.3ms\n",
      "\u001b[36m(ServeReplica:mnist_classifier:OnlineMNISTClassifier pid=14028)\u001b[0m INFO 2024-12-13 08:35:23,328 mnist_classifier_OnlineMNISTClassifier rxr0eh2z 263125dd-10da-4c6b-87bb-1913973233a1 replica.py:408 - PREDICT OK 53.6ms\n",
      "\u001b[36m(ServeReplica:mnist_classifier:OnlineMNISTClassifier pid=14028)\u001b[0m INFO 2024-12-13 08:35:23,328 mnist_classifier_OnlineMNISTClassifier rxr0eh2z 8587431f-2d1a-46f6-ae9e-de479ba5fb98 replica.py:408 - PREDICT OK 49.2ms\n",
      "\u001b[36m(ServeReplica:mnist_classifier:OnlineMNISTClassifier pid=14028)\u001b[0m INFO 2024-12-13 08:35:23,330 mnist_classifier_OnlineMNISTClassifier rxr0eh2z 30dce11b-7cc4-4d25-a82a-e991d61aaddd replica.py:408 - PREDICT OK 50.1ms\n",
      "\u001b[36m(ServeReplica:mnist_classifier:OnlineMNISTClassifier pid=14028)\u001b[0m INFO 2024-12-13 08:35:23,332 mnist_classifier_OnlineMNISTClassifier rxr0eh2z da61e14d-a924-4d6f-8763-90397ae89134 replica.py:408 - PREDICT OK 49.3ms\n",
      "\u001b[36m(ServeReplica:mnist_classifier:OnlineMNISTClassifier pid=14028)\u001b[0m INFO 2024-12-13 08:35:23,332 mnist_classifier_OnlineMNISTClassifier rxr0eh2z 7049697b-1d60-489b-9b9b-e2ae43467f43 replica.py:408 - PREDICT OK 29.4ms\n",
      "\u001b[36m(ServeReplica:mnist_classifier:OnlineMNISTClassifier pid=14028)\u001b[0m INFO 2024-12-13 08:35:23,415 mnist_classifier_OnlineMNISTClassifier rxr0eh2z 9eefff86-84e2-4351-9181-4b79a58705f2 replica.py:408 - PREDICT OK 46.0ms\n",
      "\u001b[36m(ServeReplica:mnist_classifier:OnlineMNISTClassifier pid=14028)\u001b[0m INFO 2024-12-13 08:35:23,417 mnist_classifier_OnlineMNISTClassifier rxr0eh2z bf2ffed4-6223-4fd9-ae8e-11135d3d7b44 replica.py:408 - PREDICT OK 46.6ms\n",
      "\u001b[36m(ServeReplica:mnist_classifier:OnlineMNISTClassifier pid=14028)\u001b[0m INFO 2024-12-13 08:35:23,418 mnist_classifier_OnlineMNISTClassifier rxr0eh2z 4310a785-62ed-47c9-bc7a-09666db07f8d replica.py:408 - PREDICT OK 47.2ms\n",
      "\u001b[36m(ServeReplica:mnist_classifier:OnlineMNISTClassifier pid=14028)\u001b[0m INFO 2024-12-13 08:35:23,420 mnist_classifier_OnlineMNISTClassifier rxr0eh2z d8f077cc-ce15-47cf-b36d-61e43170ae7b replica.py:408 - PREDICT OK 46.6ms\n",
      "\u001b[36m(ServeReplica:mnist_classifier:OnlineMNISTClassifier pid=14028)\u001b[0m INFO 2024-12-13 08:35:23,420 mnist_classifier_OnlineMNISTClassifier rxr0eh2z 3fef23f7-7ed4-4a30-b588-e7ced403d88d replica.py:408 - PREDICT OK 46.7ms\n",
      "\u001b[36m(ServeReplica:mnist_classifier:OnlineMNISTClassifier pid=14028)\u001b[0m INFO 2024-12-13 08:35:23,454 mnist_classifier_OnlineMNISTClassifier rxr0eh2z 49b36a80-952b-4893-b914-36b5ff9e5797 replica.py:408 - PREDICT OK 9.8ms\n",
      "\u001b[36m(ServeReplica:mnist_classifier:OnlineMNISTClassifier pid=14028)\u001b[0m INFO 2024-12-13 08:35:23,468 mnist_classifier_OnlineMNISTClassifier rxr0eh2z 86c97f57-05e9-41f1-8743-40eee0ad1582 replica.py:408 - PREDICT OK 22.7ms\n",
      "\u001b[36m(ServeReplica:mnist_classifier:OnlineMNISTClassifier pid=14028)\u001b[0m INFO 2024-12-13 08:35:23,469 mnist_classifier_OnlineMNISTClassifier rxr0eh2z 107fe15a-7b5d-41a5-bb22-35d7619a7371 replica.py:408 - PREDICT OK 23.3ms\n",
      "\u001b[36m(ProxyActor pid=4934, ip=10.0.34.228)\u001b[0m INFO 2024-12-13 08:35:25,816 proxy 10.0.34.228 proxy.py:1225 - Proxy starting on node 110bfa514ef99a26c475fa71f98a338b54b953a6d6fe53937cde202f (HTTP port: 8000).\n",
      "\u001b[36m(ServeController pid=4122)\u001b[0m INFO 2024-12-13 08:36:04,494 controller 4122 deployment_state.py:1860 - Removing 10 replicas from Deployment(name='OnlineMNISTClassifier', app='mnist_classifier').\n",
      "\u001b[36m(ServeController pid=4122)\u001b[0m INFO 2024-12-13 08:36:06,562 controller 4122 deployment_state.py:2182 - Replica(id='rxr0eh2z', deployment='OnlineMNISTClassifier', app='mnist_classifier') is stopped.\n",
      "\u001b[36m(ServeController pid=4122)\u001b[0m INFO 2024-12-13 08:36:06,562 controller 4122 deployment_state.py:2182 - Replica(id='p50j70xb', deployment='OnlineMNISTClassifier', app='mnist_classifier') is stopped.\n",
      "\u001b[36m(ServeController pid=4122)\u001b[0m INFO 2024-12-13 08:36:06,563 controller 4122 deployment_state.py:2182 - Replica(id='8g7ss5ya', deployment='OnlineMNISTClassifier', app='mnist_classifier') is stopped.\n",
      "\u001b[36m(ServeController pid=4122)\u001b[0m INFO 2024-12-13 08:36:06,564 controller 4122 deployment_state.py:2182 - Replica(id='3jf5e3d8', deployment='OnlineMNISTClassifier', app='mnist_classifier') is stopped.\n",
      "\u001b[36m(ServeController pid=4122)\u001b[0m INFO 2024-12-13 08:36:06,564 controller 4122 deployment_state.py:2182 - Replica(id='4dvcy3de', deployment='OnlineMNISTClassifier', app='mnist_classifier') is stopped.\n",
      "\u001b[36m(ServeController pid=4122)\u001b[0m INFO 2024-12-13 08:36:06,565 controller 4122 deployment_state.py:2182 - Replica(id='fptnfbbe', deployment='OnlineMNISTClassifier', app='mnist_classifier') is stopped.\n",
      "\u001b[36m(ServeController pid=4122)\u001b[0m INFO 2024-12-13 08:36:06,566 controller 4122 deployment_state.py:2182 - Replica(id='pjtb8s60', deployment='OnlineMNISTClassifier', app='mnist_classifier') is stopped.\n",
      "\u001b[36m(ServeController pid=4122)\u001b[0m INFO 2024-12-13 08:36:06,567 controller 4122 deployment_state.py:2182 - Replica(id='7vmfe6bq', deployment='OnlineMNISTClassifier', app='mnist_classifier') is stopped.\n",
      "\u001b[36m(ServeController pid=4122)\u001b[0m INFO 2024-12-13 08:36:06,568 controller 4122 deployment_state.py:2182 - Replica(id='dvp7icd9', deployment='OnlineMNISTClassifier', app='mnist_classifier') is stopped.\n",
      "\u001b[36m(ServeController pid=4122)\u001b[0m INFO 2024-12-13 08:36:06,569 controller 4122 deployment_state.py:2182 - Replica(id='xoqusa5a', deployment='OnlineMNISTClassifier', app='mnist_classifier') is stopped.\n",
      "\u001b[36m(ServeController pid=15676)\u001b[0m INFO 2024-12-13 08:38:44,264 controller 15676 deployment_state.py:1598 - Deploying new version of Deployment(name='OnlineMNISTPreprocessor', app='mnist_preprocessor') (initial target replicas: 1).\n",
      "\u001b[36m(ProxyActor pid=15740)\u001b[0m INFO 2024-12-13 08:38:44,212 proxy 10.0.7.17 proxy.py:1225 - Proxy starting on node e741c55434a3ea7340f7710115b0bf60b65a7e5ca47446a7590b3497 (HTTP port: 8000).\n",
      "\u001b[36m(ServeController pid=15676)\u001b[0m INFO 2024-12-13 08:38:44,367 controller 15676 deployment_state.py:1844 - Adding 1 replica to Deployment(name='OnlineMNISTPreprocessor', app='mnist_preprocessor').\n",
      "\u001b[36m(ProxyActor pid=5313, ip=10.0.34.228)\u001b[0m INFO 2024-12-13 08:38:51,099 proxy 10.0.34.228 proxy.py:1225 - Proxy starting on node 110bfa514ef99a26c475fa71f98a338b54b953a6d6fe53937cde202f (HTTP port: 8000).\n",
      "\u001b[36m(ServeReplica:mnist_preprocessor:OnlineMNISTPreprocessor pid=5257, ip=10.0.34.228)\u001b[0m INFO 2024-12-13 08:39:56,518 mnist_preprocessor_OnlineMNISTPreprocessor 5ld5x44p d9cbb09e-46b6-4cf2-89e8-36192f5759d4 replica.py:408 - RUN OK 6.9ms\n",
      "\u001b[36m(ServeController pid=15676)\u001b[0m INFO 2024-12-13 08:40:37,811 controller 15676 deployment_state.py:1860 - Removing 1 replica from Deployment(name='OnlineMNISTPreprocessor', app='mnist_preprocessor').\n",
      "\u001b[36m(ServeController pid=15676)\u001b[0m INFO 2024-12-13 08:40:39,836 controller 15676 deployment_state.py:2182 - Replica(id='5ld5x44p', deployment='OnlineMNISTPreprocessor', app='mnist_preprocessor') is stopped.\n",
      "\u001b[36m(ServeController pid=17833)\u001b[0m INFO 2024-12-13 08:44:20,006 controller 17833 deployment_state.py:1598 - Deploying new version of Deployment(name='OnlineMNISTPreprocessor', app='image_classifier') (initial target replicas: 1).\n",
      "\u001b[36m(ServeController pid=17833)\u001b[0m INFO 2024-12-13 08:44:20,007 controller 17833 deployment_state.py:1598 - Deploying new version of Deployment(name='OnlineMNISTClassifier', app='image_classifier') (initial target replicas: 1).\n",
      "\u001b[36m(ServeController pid=17833)\u001b[0m INFO 2024-12-13 08:44:20,009 controller 17833 deployment_state.py:1598 - Deploying new version of Deployment(name='ImageServiceIngress', app='image_classifier') (initial target replicas: 1).\n",
      "\u001b[36m(ProxyActor pid=17893)\u001b[0m INFO 2024-12-13 08:44:19,933 proxy 10.0.7.17 proxy.py:1225 - Proxy starting on node e741c55434a3ea7340f7710115b0bf60b65a7e5ca47446a7590b3497 (HTTP port: 8000).\n",
      "\u001b[36m(ServeController pid=17833)\u001b[0m INFO 2024-12-13 08:44:20,112 controller 17833 deployment_state.py:1844 - Adding 1 replica to Deployment(name='OnlineMNISTPreprocessor', app='image_classifier').\n",
      "\u001b[36m(ServeController pid=17833)\u001b[0m INFO 2024-12-13 08:44:20,115 controller 17833 deployment_state.py:1844 - Adding 1 replica to Deployment(name='OnlineMNISTClassifier', app='image_classifier').\n",
      "\u001b[36m(ServeController pid=17833)\u001b[0m INFO 2024-12-13 08:44:20,117 controller 17833 deployment_state.py:1844 - Adding 1 replica to Deployment(name='ImageServiceIngress', app='image_classifier').\n",
      "\u001b[36m(ProxyActor pid=6017, ip=10.0.34.228)\u001b[0m INFO 2024-12-13 08:44:25,614 proxy 10.0.34.228 proxy.py:1225 - Proxy starting on node 110bfa514ef99a26c475fa71f98a338b54b953a6d6fe53937cde202f (HTTP port: 8000).\n",
      "\u001b[36m(ServeReplica:image_classifier:OnlineMNISTClassifier pid=5869, ip=10.0.34.228)\u001b[0m /tmp/ipykernel_3618/1676735073.py:21: UserWarning: Creating a tensor from a list of numpy.ndarrays is extremely slow. Please consider converting the list to a single numpy.ndarray with numpy.array() before converting to a tensor. (Triggered internally at ../torch/csrc/utils/tensor_new.cpp:278.)\n",
      "\u001b[36m(ServeReplica:image_classifier:OnlineMNISTPreprocessor pid=5870, ip=10.0.34.228)\u001b[0m INFO 2024-12-13 08:44:44,195 image_classifier_OnlineMNISTPreprocessor zv52t6ra 866c4570-07d3-4318-bd64-6cc30cc272da / replica.py:408 - RUN OK 4.4ms\n",
      "\u001b[36m(ServeReplica:image_classifier:ImageServiceIngress pid=5871, ip=10.0.34.228)\u001b[0m INFO 2024-12-13 08:44:44,602 image_classifier_ImageServiceIngress j6wko98k 866c4570-07d3-4318-bd64-6cc30cc272da / replica.py:408 - __CALL__ OK 445.0ms\n",
      "\u001b[36m(ServeReplica:image_classifier:OnlineMNISTClassifier pid=5869, ip=10.0.34.228)\u001b[0m INFO 2024-12-13 08:44:44,596 image_classifier_OnlineMNISTClassifier dig5lvz8 866c4570-07d3-4318-bd64-6cc30cc272da / replica.py:408 - PREDICT OK 384.2ms\n",
      "\u001b[36m(ServeController pid=17833)\u001b[0m INFO 2024-12-13 08:49:02,270 controller 17833 deployment_state.py:1598 - Deploying new version of Deployment(name='OnlineMNISTPreprocessor', app='image_classifier') (initial target replicas: 1).\n",
      "\u001b[36m(ServeController pid=17833)\u001b[0m INFO 2024-12-13 08:49:02,271 controller 17833 deployment_state.py:1598 - Deploying new version of Deployment(name='OnlineMNISTClassifier', app='image_classifier') (initial target replicas: 1).\n",
      "\u001b[36m(ServeController pid=17833)\u001b[0m INFO 2024-12-13 08:49:02,272 controller 17833 deployment_state.py:1598 - Deploying new version of Deployment(name='ImageServiceIngress', app='image_classifier') (initial target replicas: 1).\n",
      "\u001b[36m(ServeController pid=17833)\u001b[0m INFO 2024-12-13 08:49:02,376 controller 17833 deployment_state.py:1721 - Stopping 1 replicas of Deployment(name='OnlineMNISTPreprocessor', app='image_classifier') with outdated versions.\n",
      "\u001b[36m(ServeController pid=17833)\u001b[0m INFO 2024-12-13 08:49:02,376 controller 17833 deployment_state.py:1844 - Adding 1 replica to Deployment(name='OnlineMNISTPreprocessor', app='image_classifier').\n",
      "\u001b[36m(ServeController pid=17833)\u001b[0m INFO 2024-12-13 08:49:02,379 controller 17833 deployment_state.py:1721 - Stopping 1 replicas of Deployment(name='OnlineMNISTClassifier', app='image_classifier') with outdated versions.\n",
      "\u001b[36m(ServeController pid=17833)\u001b[0m INFO 2024-12-13 08:49:02,379 controller 17833 deployment_state.py:1844 - Adding 1 replica to Deployment(name='OnlineMNISTClassifier', app='image_classifier').\n",
      "\u001b[36m(ServeController pid=17833)\u001b[0m INFO 2024-12-13 08:49:02,382 controller 17833 deployment_state.py:1721 - Stopping 1 replicas of Deployment(name='ImageServiceIngress', app='image_classifier') with outdated versions.\n",
      "\u001b[36m(ServeController pid=17833)\u001b[0m INFO 2024-12-13 08:49:02,382 controller 17833 deployment_state.py:1844 - Adding 1 replica to Deployment(name='ImageServiceIngress', app='image_classifier').\n",
      "\u001b[36m(ServeController pid=17833)\u001b[0m INFO 2024-12-13 08:49:02,450 controller 17833 proxy_state.py:493 - Draining proxy on node '110bfa514ef99a26c475fa71f98a338b54b953a6d6fe53937cde202f'.\n",
      "\u001b[36m(ServeController pid=17833)\u001b[0m INFO 2024-12-13 08:49:04,427 controller 17833 deployment_state.py:2182 - Replica(id='zv52t6ra', deployment='OnlineMNISTPreprocessor', app='image_classifier') is stopped.\n",
      "\u001b[36m(ServeController pid=17833)\u001b[0m INFO 2024-12-13 08:49:04,428 controller 17833 deployment_state.py:2182 - Replica(id='dig5lvz8', deployment='OnlineMNISTClassifier', app='image_classifier') is stopped.\n",
      "\u001b[36m(ServeController pid=17833)\u001b[0m INFO 2024-12-13 08:49:04,429 controller 17833 deployment_state.py:2182 - Replica(id='j6wko98k', deployment='ImageServiceIngress', app='image_classifier') is stopped.\n",
      "\u001b[36m(ServeController pid=17833)\u001b[0m INFO 2024-12-13 08:49:05,984 controller 17833 proxy_state.py:500 - No longer draining proxy on node '110bfa514ef99a26c475fa71f98a338b54b953a6d6fe53937cde202f'.\n",
      "\u001b[36m(ServeReplica:image_classifier:OnlineMNISTClassifier pid=6453, ip=10.0.34.228)\u001b[0m /tmp/ipykernel_3618/1676735073.py:21: UserWarning: Creating a tensor from a list of numpy.ndarrays is extremely slow. Please consider converting the list to a single numpy.ndarray with numpy.array() before converting to a tensor. (Triggered internally at ../torch/csrc/utils/tensor_new.cpp:278.)\n",
      "\u001b[36m(ServeReplica:image_classifier:OnlineMNISTPreprocessor pid=6454, ip=10.0.34.228)\u001b[0m INFO 2024-12-13 08:49:39,493 image_classifier_OnlineMNISTPreprocessor srogyxhv 74129d89-41b9-4fdd-b69a-bafb1bc917b1 /predict replica.py:408 - RUN OK 4.4ms\n",
      "\u001b[36m(ServeReplica:image_classifier:ImageServiceIngress pid=6455, ip=10.0.34.228)\u001b[0m INFO 2024-12-13 08:49:39,893 image_classifier_ImageServiceIngress 5m61i465 74129d89-41b9-4fdd-b69a-bafb1bc917b1 /predict replica.py:408 - __CALL__ OK 441.2ms\n",
      "\u001b[36m(ServeReplica:image_classifier:OnlineMNISTClassifier pid=6453, ip=10.0.34.228)\u001b[0m INFO 2024-12-13 08:49:39,892 image_classifier_OnlineMNISTClassifier 02evdjqs 74129d89-41b9-4fdd-b69a-bafb1bc917b1 /predict replica.py:408 - PREDICT OK 380.8ms\n",
      "\u001b[36m(ServeController pid=17833)\u001b[0m INFO 2024-12-13 09:00:19,142 controller 17833 deployment_state.py:1860 - Removing 1 replica from Deployment(name='OnlineMNISTPreprocessor', app='image_classifier').\n",
      "\u001b[36m(ServeController pid=17833)\u001b[0m INFO 2024-12-13 09:00:19,142 controller 17833 deployment_state.py:1860 - Removing 1 replica from Deployment(name='OnlineMNISTClassifier', app='image_classifier').\n",
      "\u001b[36m(ServeController pid=17833)\u001b[0m INFO 2024-12-13 09:00:19,142 controller 17833 deployment_state.py:1860 - Removing 1 replica from Deployment(name='ImageServiceIngress', app='image_classifier').\n",
      "\u001b[36m(ServeController pid=17833)\u001b[0m INFO 2024-12-13 09:00:21,180 controller 17833 deployment_state.py:2182 - Replica(id='srogyxhv', deployment='OnlineMNISTPreprocessor', app='image_classifier') is stopped.\n",
      "\u001b[36m(ServeController pid=17833)\u001b[0m INFO 2024-12-13 09:00:21,181 controller 17833 deployment_state.py:2182 - Replica(id='02evdjqs', deployment='OnlineMNISTClassifier', app='image_classifier') is stopped.\n",
      "\u001b[36m(ServeController pid=17833)\u001b[0m INFO 2024-12-13 09:00:21,182 controller 17833 deployment_state.py:2182 - Replica(id='5m61i465', deployment='ImageServiceIngress', app='image_classifier') is stopped.\n"
     ]
    }
   ],
   "source": [
    "import ray\n",
    "\n",
    "# Create a dataset of random images\n",
    "ds = ray.data.from_items([{\"image\": np.random.rand(1, 28, 28)} for _ in range(100)])\n",
    "\n",
    "# Map the OfflineMNISTClassifier to the dataset\n",
    "ds = ds.map_batches(\n",
    "    OfflineMNISTClassifier,\n",
    "    fn_constructor_kwargs={\"local_path\": \"/mnt/cluster_storage/model.pt\"},\n",
    "    concurrency=1,\n",
    "    num_gpus=1,\n",
    "    batch_size=10\n",
    ")\n",
    "\n",
    "# Take a look at the first 10 predictions\n",
    "ds.take_batch(10)[\"predicted_label\"]"
   ]
  },
  {
   "cell_type": "markdown",
   "id": "fbb1a687",
   "metadata": {},
   "source": [
    "Now, if want to migrate to an online inference setting, we can transform this into a Ray Serve Deployment by applying the `@serve.deployment` decorator \n"
   ]
  },
  {
   "cell_type": "code",
   "execution_count": 4,
   "id": "c68888dd",
   "metadata": {},
   "outputs": [
    {
     "name": "stderr",
     "output_type": "stream",
     "text": [
      "2024-12-13 08:07:58,171\tWARNING api.py:346 -- The default value for `max_ongoing_requests` has changed from 100 to 5 in Ray 2.32.0.\n",
      "2024-12-13 08:07:58,172\tWARNING api.py:397 -- The default value for `max_ongoing_requests` has changed from 100 to 5 in Ray 2.32.0.\n"
     ]
    }
   ],
   "source": [
    "from typing import Any\n",
    "from ray import serve\n",
    "from starlette.requests import Request\n",
    "import json\n",
    "\n",
    "\n",
    "\n",
    "@serve.deployment() # this is the decorator to add\n",
    "class OnlineMNISTClassifier:\n",
    "    def __init__(self, local_path: str):\n",
    "        self.model = torch.jit.load(local_path)\n",
    "        self.model.to(\"cuda\")\n",
    "        self.model.eval()\n",
    "\n",
    "    async def __call__(self, request: Request) -> dict[str, Any]: # __call__ now takes a Starlette Request object\n",
    "        batch = json.loads(await request.json()) # we will need to parse the JSON body of the request\n",
    "        return await self.predict(batch)\n",
    "    \n",
    "    async def predict(self, batch: dict[str, np.ndarray]) -> dict[str, np.ndarray]:\n",
    "        # same code as OfflineMNISTClassifier.predict except we added async to the method\n",
    "        images = torch.tensor(batch[\"image\"]).float().to(\"cuda\")\n",
    "\n",
    "        with torch.no_grad():\n",
    "            logits = self.model(images).cpu().numpy()\n",
    "\n",
    "        batch[\"predicted_label\"] = np.argmax(logits, axis=1)\n",
    "        return batch"
   ]
  },
  {
   "cell_type": "markdown",
   "id": "2cf85ff1",
   "metadata": {},
   "source": [
    "We can now instantiate the `OnlineMNISTClassifier` as a Ray Serve Application using `.bind`."
   ]
  },
  {
   "cell_type": "code",
   "execution_count": 5,
   "id": "df46ddd7",
   "metadata": {},
   "outputs": [],
   "source": [
    "mnist_deployment = OnlineMNISTClassifier.options(\n",
    "    num_replicas=1,\n",
    "    ray_actor_options={\"num_gpus\": 1},\n",
    ")\n",
    "\n",
    "mnist_app = mnist_deployment.bind(local_path=\"/mnt/cluster_storage/model.pt\")"
   ]
  },
  {
   "cell_type": "markdown",
   "id": "098e8ac4",
   "metadata": {},
   "source": [
    "<div class=\"alert alert-block alert-warning\">\n",
    "\n",
    "**Note:** `.bind` is a method that takes in the arguments to pass to the Deployment constructor.\n",
    "\n",
    "</div>\n"
   ]
  },
  {
   "cell_type": "markdown",
   "id": "e3e70529",
   "metadata": {},
   "source": [
    "We can then run the application "
   ]
  },
  {
   "cell_type": "code",
   "execution_count": 6,
   "id": "e96056cd",
   "metadata": {},
   "outputs": [
    {
     "name": "stderr",
     "output_type": "stream",
     "text": [
      "2024-12-13 08:08:11,879\tINFO handle.py:126 -- Created DeploymentHandle 'i6mh0ukx' for Deployment(name='OnlineMNISTClassifier', app='mnist_classifier').\n",
      "2024-12-13 08:08:11,880\tINFO handle.py:126 -- Created DeploymentHandle '9cukvklw' for Deployment(name='OnlineMNISTClassifier', app='mnist_classifier').\n",
      "2024-12-13 08:08:16,901\tINFO handle.py:126 -- Created DeploymentHandle 'nbalzf4x' for Deployment(name='OnlineMNISTClassifier', app='mnist_classifier').\n",
      "2024-12-13 08:08:16,902\tINFO api.py:574 -- Deployed app 'mnist_classifier' successfully.\n"
     ]
    },
    {
     "name": "stderr",
     "output_type": "stream",
     "text": [
      "\u001b[36m(ProxyActor pid=4182)\u001b[0m INFO 2024-12-13 08:08:11,838 proxy 10.0.7.17 proxy.py:1225 - Proxy starting on node e741c55434a3ea7340f7710115b0bf60b65a7e5ca47446a7590b3497 (HTTP port: 8000).\n",
      "\u001b[36m(ServeController pid=4122)\u001b[0m INFO 2024-12-13 08:08:11,946 controller 4122 deployment_state.py:1598 - Deploying new version of Deployment(name='OnlineMNISTClassifier', app='mnist_classifier') (initial target replicas: 1).\n",
      "\u001b[36m(ServeController pid=4122)\u001b[0m INFO 2024-12-13 08:08:12,049 controller 4122 deployment_state.py:1844 - Adding 1 replica to Deployment(name='OnlineMNISTClassifier', app='mnist_classifier').\n",
      "\u001b[36m(ServeReplica:mnist_classifier:OnlineMNISTClassifier pid=4242)\u001b[0m INFO 2024-12-13 08:08:21,242 mnist_classifier_OnlineMNISTClassifier igfqf50m ec22c448-6399-4720-8a80-07fe34ab2c9a / replica.py:408 - __CALL__ OK 505.0ms\n"
     ]
    }
   ],
   "source": [
    "mnist_deployment_handle = serve.run(mnist_app, name='mnist_classifier', blocking=False)"
   ]
  },
  {
   "cell_type": "markdown",
   "id": "5f4a0cdb-822a-4439-aeab-9916dd8d059c",
   "metadata": {},
   "source": [
    "We can test it as an HTTP endpoint"
   ]
  },
  {
   "cell_type": "code",
   "execution_count": 7,
   "id": "1c0a80e9-c26f-48d2-8985-ef4eab4dc580",
   "metadata": {
    "tags": []
   },
   "outputs": [
    {
     "data": {
      "text/plain": [
       "[6, 6]"
      ]
     },
     "execution_count": 7,
     "metadata": {},
     "output_type": "execute_result"
    }
   ],
   "source": [
    "import json\n",
    "import requests\n",
    "\n",
    "\n",
    "images = np.random.rand(2, 1, 28, 28).tolist()\n",
    "json_request = json.dumps({\"image\": images})\n",
    "response = requests.post(\"http://localhost:8000/\", json=json_request)\n",
    "response.json()[\"predicted_label\"]"
   ]
  },
  {
   "cell_type": "markdown",
   "id": "7cd2cb01",
   "metadata": {},
   "source": [
    "We can also test it as a gRPC endpoint"
   ]
  },
  {
   "cell_type": "code",
   "execution_count": 8,
   "id": "342928ea",
   "metadata": {},
   "outputs": [
    {
     "name": "stderr",
     "output_type": "stream",
     "text": [
      "2024-12-13 08:09:45,066\tINFO handle.py:126 -- Created DeploymentHandle '84zvztwn' for Deployment(name='OnlineMNISTClassifier', app='mnist_classifier').\n",
      "2024-12-13 08:09:45,077\tINFO pow_2_scheduler.py:260 -- Got updated replicas for Deployment(name='OnlineMNISTClassifier', app='mnist_classifier'): {'igfqf50m'}.\n"
     ]
    },
    {
     "data": {
      "text/plain": [
       "array([1, 6, 1, 6, 1, 1, 1, 1, 1, 6])"
      ]
     },
     "execution_count": 8,
     "metadata": {},
     "output_type": "execute_result"
    }
   ],
   "source": [
    "batch = {\"image\": np.random.rand(10, 1, 28, 28)}\n",
    "response = await mnist_deployment_handle.predict.remote(batch)\n",
    "response[\"predicted_label\"]"
   ]
  },
  {
   "cell_type": "markdown",
   "id": "4e170084",
   "metadata": {},
   "source": [
    "## 3. Advanced features of Ray Serve"
   ]
  },
  {
   "cell_type": "markdown",
   "id": "da2b22a2",
   "metadata": {},
   "source": [
    "### Using fractions of a GPU\n",
    "\n",
    "With Ray we can specify fractional compute resources for each deployment's replica. \n",
    "\n",
    "This is useful to help us fully utilize a GPU especially when running small models like our `MNISTClassifier` model.\n",
    "\n",
    "Here is how to specify only 10% of a GPU's compute resources for our `MNISTClassifier` model."
   ]
  },
  {
   "cell_type": "code",
   "execution_count": 9,
   "id": "230f9ff2",
   "metadata": {},
   "outputs": [],
   "source": [
    "mnist_app = OnlineMNISTClassifier.options(\n",
    "    num_replicas=4, # we can scale to up to 10 replicas on a single GPU\n",
    "    ray_actor_options={\"num_gpus\": 0.1}, \n",
    ").bind(local_path=\"/mnt/cluster_storage/model.pt\")"
   ]
  },
  {
   "cell_type": "markdown",
   "id": "b35a8d83",
   "metadata": {},
   "source": [
    "Next we update the running application by running serve.run with the new options."
   ]
  },
  {
   "cell_type": "code",
   "execution_count": 10,
   "id": "9e9ad6fa",
   "metadata": {},
   "outputs": [
    {
     "name": "stderr",
     "output_type": "stream",
     "text": [
      "2024-12-13 08:26:56,510\tINFO handle.py:126 -- Created DeploymentHandle 't03z0nz6' for Deployment(name='OnlineMNISTClassifier', app='mnist_classifier').\n",
      "2024-12-13 08:26:56,511\tINFO handle.py:126 -- Created DeploymentHandle 'nkuhydqb' for Deployment(name='OnlineMNISTClassifier', app='mnist_classifier').\n",
      "2024-12-13 08:27:05,544\tINFO api.py:574 -- Deployed app 'mnist_classifier' successfully.\n"
     ]
    },
    {
     "name": "stderr",
     "output_type": "stream",
     "text": [
      "2024-12-13 08:27:01,026\tINFO pow_2_scheduler.py:260 -- Got updated replicas for Deployment(name='OnlineMNISTClassifier', app='mnist_classifier'): {'3jw5er2a', '33le5oca', 'ldfdsx9y'}.\n",
      "2024-12-13 08:27:04,963\tINFO pow_2_scheduler.py:260 -- Got updated replicas for Deployment(name='OnlineMNISTClassifier', app='mnist_classifier'): {'3jw5er2a', 'yzcovfs1', '33le5oca', 'ldfdsx9y'}.\n",
      "2024-12-13 08:33:39,268\tINFO pow_2_scheduler.py:260 -- Got updated replicas for Deployment(name='OnlineMNISTClassifier', app='mnist_classifier'): set().\n",
      "2024-12-13 08:35:20,218\tINFO pow_2_scheduler.py:260 -- Got updated replicas for Deployment(name='OnlineMNISTClassifier', app='mnist_classifier'): {'rxr0eh2z'}.\n",
      "2024-12-13 08:35:24,606\tINFO pow_2_scheduler.py:260 -- Got updated replicas for Deployment(name='OnlineMNISTClassifier', app='mnist_classifier'): {'8g7ss5ya', 'rxr0eh2z', 'p50j70xb'}.\n",
      "2024-12-13 08:35:27,930\tINFO pow_2_scheduler.py:260 -- Got updated replicas for Deployment(name='OnlineMNISTClassifier', app='mnist_classifier'): {'8g7ss5ya', '3jf5e3d8', 'rxr0eh2z', 'p50j70xb'}.\n",
      "2024-12-13 08:35:28,780\tINFO pow_2_scheduler.py:260 -- Got updated replicas for Deployment(name='OnlineMNISTClassifier', app='mnist_classifier'): {'7vmfe6bq', 'p50j70xb', 'rxr0eh2z', 'pjtb8s60', '4dvcy3de', 'fptnfbbe', '8g7ss5ya', '3jf5e3d8'}.\n",
      "2024-12-13 08:35:28,887\tINFO pow_2_scheduler.py:260 -- Got updated replicas for Deployment(name='OnlineMNISTClassifier', app='mnist_classifier'): {'7vmfe6bq', 'p50j70xb', 'dvp7icd9', 'xoqusa5a', 'pjtb8s60', 'rxr0eh2z', '4dvcy3de', 'fptnfbbe', '8g7ss5ya', '3jf5e3d8'}.\n",
      "2024-12-13 08:36:04,504\tINFO pow_2_scheduler.py:260 -- Got updated replicas for Deployment(name='OnlineMNISTClassifier', app='mnist_classifier'): set().\n",
      "2024-12-13 08:39:56,498\tINFO pow_2_scheduler.py:260 -- Got updated replicas for Deployment(name='OnlineMNISTPreprocessor', app='mnist_preprocessor'): {'5ld5x44p'}.\n",
      "2024-12-13 08:40:37,815\tINFO pow_2_scheduler.py:260 -- Got updated replicas for Deployment(name='OnlineMNISTPreprocessor', app='mnist_preprocessor'): set().\n"
     ]
    }
   ],
   "source": [
    "mnist_deployment_handle = serve.run(mnist_app, name='mnist_classifier', blocking=False)"
   ]
  },
  {
   "cell_type": "markdown",
   "id": "b196a535",
   "metadata": {},
   "source": [
    "We can test the new application by sending a sample request."
   ]
  },
  {
   "cell_type": "code",
   "execution_count": 11,
   "id": "c5aad97c",
   "metadata": {},
   "outputs": [
    {
     "data": {
      "text/plain": [
       "[1, 6]"
      ]
     },
     "execution_count": 11,
     "metadata": {},
     "output_type": "execute_result"
    }
   ],
   "source": [
    "images = np.random.rand(2, 1, 28, 28).tolist()\n",
    "json_request = json.dumps({\"image\": images})\n",
    "response = requests.post(\"http://localhost:8000/\", json=json_request)\n",
    "response.json()[\"predicted_label\"]"
   ]
  },
  {
   "cell_type": "markdown",
   "id": "05041234",
   "metadata": {},
   "source": [
    "### Customizing autoscaling\n",
    "\n",
    "Ray Serve provides a simple way to autoscale the number of replicas in a deployment. It is primarily based on the target number of ongoing requests per replica.\n",
    "\n",
    "i.e. here is how we can set the autoscaling config for our `OnlineMNISTClassifier` deployment."
   ]
  },
  {
   "cell_type": "code",
   "execution_count": 12,
   "id": "e356f749",
   "metadata": {},
   "outputs": [],
   "source": [
    "mnist_app = OnlineMNISTClassifier.options(\n",
    "    ray_actor_options={\"num_gpus\": 0.1}, \n",
    "    autoscaling_config={\n",
    "        \"target_ongoing_requests\": 10,\n",
    "    },\n",
    ").bind(local_path=\"/mnt/cluster_storage/model.pt\")"
   ]
  },
  {
   "cell_type": "markdown",
   "id": "1ae8a244",
   "metadata": {},
   "source": [
    "We can also control more granularly the autoscaling logic by setting:\n",
    "- the upscale and downscale delays\n",
    "- the intervals at which the replica sends metrics reports about the current number of ongoing requests\n",
    "- the look-back period used to evaluate the current number of ongoing requests\n",
    "\n",
    "Here is an example of how to set these options:"
   ]
  },
  {
   "cell_type": "code",
   "execution_count": 13,
   "id": "6e5594d5",
   "metadata": {},
   "outputs": [],
   "source": [
    "mnist_app = OnlineMNISTClassifier.options(\n",
    "    ray_actor_options={\"num_gpus\": 0.1}, \n",
    "    autoscaling_config={\n",
    "        \"target_ongoing_requests\": 10,\n",
    "        \"upscale_delay_s\": 10,\n",
    "        \"downscale_delay_s\": 10,\n",
    "        \"metrics_interval_s\": 10,\n",
    "        \"look_back_period_s\": 10, \n",
    "    },\n",
    ").bind(local_path=\"/mnt/cluster_storage/model.pt\")"
   ]
  },
  {
   "cell_type": "markdown",
   "id": "e8a643b4",
   "metadata": {},
   "source": [
    "We can additionally control the minimum and maximum number of replicas that can be scaled up and down. \n",
    "\n",
    "We can even specify to start scaling up from 0 replicas."
   ]
  },
  {
   "cell_type": "code",
   "execution_count": 14,
   "id": "ebea6c15",
   "metadata": {},
   "outputs": [],
   "source": [
    "mnist_app = OnlineMNISTClassifier.options(\n",
    "    ray_actor_options={\"num_gpus\": 0.1}, \n",
    "    autoscaling_config={\n",
    "        \"target_ongoing_requests\": 10,\n",
    "        \"initial_replicas\": 0, # scale up from 0 replicas\n",
    "        \"min_replicas\": 0,\n",
    "        \"max_replicas\": 10,\n",
    "        # extreme upscale speeds\n",
    "        \"upscale_delay_s\": 0,\n",
    "        \"metrics_interval_s\": 0.1,\n",
    "        \"look_back_period_s\": 0.1,\n",
    "    },\n",
    ").bind(local_path=\"/mnt/cluster_storage/model.pt\")"
   ]
  },
  {
   "cell_type": "markdown",
   "id": "e040d6ac",
   "metadata": {},
   "source": [
    "Let's run the application with the new autoscaling config."
   ]
  },
  {
   "cell_type": "code",
   "execution_count": 15,
   "id": "fbe684a4",
   "metadata": {},
   "outputs": [
    {
     "name": "stderr",
     "output_type": "stream",
     "text": [
      "2024-12-13 08:33:39,101\tINFO handle.py:126 -- Created DeploymentHandle 'g1hdd0kd' for Deployment(name='OnlineMNISTClassifier', app='mnist_classifier').\n",
      "2024-12-13 08:33:39,102\tINFO handle.py:126 -- Created DeploymentHandle 'r42tv4g9' for Deployment(name='OnlineMNISTClassifier', app='mnist_classifier').\n",
      "2024-12-13 08:33:42,117\tINFO api.py:574 -- Deployed app 'mnist_classifier' successfully.\n"
     ]
    }
   ],
   "source": [
    "mnist_deployment_handle = serve.run(mnist_app, name='mnist_classifier', blocking=False)"
   ]
  },
  {
   "cell_type": "markdown",
   "id": "75be6e25",
   "metadata": {},
   "source": [
    "Looking at the Ray Serve dashboard, we can see we are currently at 0 replicas - i.e. no GPU resources are being used.\n",
    "\n",
    "<img src='https://anyscale-public-materials.s3.us-west-2.amazonaws.com/ray-ai-libraries/diagrams/autoscaling_at_0.png' width=700/>"
   ]
  },
  {
   "cell_type": "markdown",
   "id": "761fd6a6",
   "metadata": {},
   "source": [
    "We can send out a larger number of requests to the `OnlineMNISTClassifier` deployment to see the autoscaling in action."
   ]
  },
  {
   "cell_type": "code",
   "execution_count": 16,
   "id": "7a7a834f",
   "metadata": {},
   "outputs": [
    {
     "name": "stderr",
     "output_type": "stream",
     "text": [
      "2024-12-13 08:35:16,122\tINFO handle.py:126 -- Created DeploymentHandle 'o9qyndkq' for Deployment(name='OnlineMNISTClassifier', app='mnist_classifier').\n",
      "2024-12-13 08:35:16,123\tINFO handle.py:126 -- Created DeploymentHandle 't4jr7eto' for Deployment(name='OnlineMNISTClassifier', app='mnist_classifier').\n",
      "2024-12-13 08:35:16,124\tINFO handle.py:126 -- Created DeploymentHandle 'kmmsc84y' for Deployment(name='OnlineMNISTClassifier', app='mnist_classifier').\n",
      "2024-12-13 08:35:16,126\tINFO handle.py:126 -- Created DeploymentHandle 'tsct5mrk' for Deployment(name='OnlineMNISTClassifier', app='mnist_classifier').\n",
      "2024-12-13 08:35:16,127\tINFO handle.py:126 -- Created DeploymentHandle '43ppxrvj' for Deployment(name='OnlineMNISTClassifier', app='mnist_classifier').\n",
      "2024-12-13 08:35:16,130\tINFO handle.py:126 -- Created DeploymentHandle 'i4i1kg29' for Deployment(name='OnlineMNISTClassifier', app='mnist_classifier').\n",
      "2024-12-13 08:35:16,132\tINFO handle.py:126 -- Created DeploymentHandle '4keu50ib' for Deployment(name='OnlineMNISTClassifier', app='mnist_classifier').\n",
      "2024-12-13 08:35:16,133\tINFO handle.py:126 -- Created DeploymentHandle 'c4lx979m' for Deployment(name='OnlineMNISTClassifier', app='mnist_classifier').\n",
      "2024-12-13 08:35:16,135\tINFO handle.py:126 -- Created DeploymentHandle 'mnytevsp' for Deployment(name='OnlineMNISTClassifier', app='mnist_classifier').\n",
      "2024-12-13 08:35:16,136\tINFO handle.py:126 -- Created DeploymentHandle '7a8egk9c' for Deployment(name='OnlineMNISTClassifier', app='mnist_classifier').\n",
      "2024-12-13 08:35:16,138\tINFO handle.py:126 -- Created DeploymentHandle 'gaf509er' for Deployment(name='OnlineMNISTClassifier', app='mnist_classifier').\n",
      "2024-12-13 08:35:16,140\tINFO handle.py:126 -- Created DeploymentHandle '4qwjdyhl' for Deployment(name='OnlineMNISTClassifier', app='mnist_classifier').\n",
      "2024-12-13 08:35:16,141\tINFO handle.py:126 -- Created DeploymentHandle 'forgjbb7' for Deployment(name='OnlineMNISTClassifier', app='mnist_classifier').\n",
      "2024-12-13 08:35:16,143\tINFO handle.py:126 -- Created DeploymentHandle 'o1rs6ke4' for Deployment(name='OnlineMNISTClassifier', app='mnist_classifier').\n",
      "2024-12-13 08:35:16,144\tINFO handle.py:126 -- Created DeploymentHandle '9j7orxhb' for Deployment(name='OnlineMNISTClassifier', app='mnist_classifier').\n",
      "2024-12-13 08:35:16,146\tINFO handle.py:126 -- Created DeploymentHandle 'qo3d18n4' for Deployment(name='OnlineMNISTClassifier', app='mnist_classifier').\n",
      "2024-12-13 08:35:16,147\tINFO handle.py:126 -- Created DeploymentHandle 'w3hz4r5o' for Deployment(name='OnlineMNISTClassifier', app='mnist_classifier').\n",
      "2024-12-13 08:35:16,149\tINFO handle.py:126 -- Created DeploymentHandle 'rg846qqv' for Deployment(name='OnlineMNISTClassifier', app='mnist_classifier').\n",
      "2024-12-13 08:35:16,151\tINFO handle.py:126 -- Created DeploymentHandle 'vbcp62l0' for Deployment(name='OnlineMNISTClassifier', app='mnist_classifier').\n",
      "2024-12-13 08:35:16,152\tINFO handle.py:126 -- Created DeploymentHandle 'zeyl4zj4' for Deployment(name='OnlineMNISTClassifier', app='mnist_classifier').\n",
      "2024-12-13 08:35:16,154\tINFO handle.py:126 -- Created DeploymentHandle 'k2jf3t41' for Deployment(name='OnlineMNISTClassifier', app='mnist_classifier').\n",
      "2024-12-13 08:35:16,155\tINFO handle.py:126 -- Created DeploymentHandle 'ojiw6ruk' for Deployment(name='OnlineMNISTClassifier', app='mnist_classifier').\n",
      "2024-12-13 08:35:16,157\tINFO handle.py:126 -- Created DeploymentHandle 's7g4mnno' for Deployment(name='OnlineMNISTClassifier', app='mnist_classifier').\n",
      "2024-12-13 08:35:16,159\tINFO handle.py:126 -- Created DeploymentHandle 'g6ge143j' for Deployment(name='OnlineMNISTClassifier', app='mnist_classifier').\n",
      "2024-12-13 08:35:16,160\tINFO handle.py:126 -- Created DeploymentHandle 'aycc3jzz' for Deployment(name='OnlineMNISTClassifier', app='mnist_classifier').\n",
      "2024-12-13 08:35:16,162\tINFO handle.py:126 -- Created DeploymentHandle '863eil7v' for Deployment(name='OnlineMNISTClassifier', app='mnist_classifier').\n",
      "2024-12-13 08:35:16,163\tINFO handle.py:126 -- Created DeploymentHandle 'afrtkukv' for Deployment(name='OnlineMNISTClassifier', app='mnist_classifier').\n",
      "2024-12-13 08:35:16,165\tINFO handle.py:126 -- Created DeploymentHandle 'kiwiwx6w' for Deployment(name='OnlineMNISTClassifier', app='mnist_classifier').\n",
      "2024-12-13 08:35:16,166\tINFO handle.py:126 -- Created DeploymentHandle 'dmfb9o8e' for Deployment(name='OnlineMNISTClassifier', app='mnist_classifier').\n",
      "2024-12-13 08:35:16,168\tINFO handle.py:126 -- Created DeploymentHandle '4dx69y7z' for Deployment(name='OnlineMNISTClassifier', app='mnist_classifier').\n",
      "2024-12-13 08:35:16,169\tINFO handle.py:126 -- Created DeploymentHandle 'wa49q72p' for Deployment(name='OnlineMNISTClassifier', app='mnist_classifier').\n",
      "2024-12-13 08:35:16,171\tINFO handle.py:126 -- Created DeploymentHandle 'gqosgo3x' for Deployment(name='OnlineMNISTClassifier', app='mnist_classifier').\n",
      "2024-12-13 08:35:16,172\tINFO handle.py:126 -- Created DeploymentHandle 'mq5m9qbe' for Deployment(name='OnlineMNISTClassifier', app='mnist_classifier').\n",
      "2024-12-13 08:35:16,174\tINFO handle.py:126 -- Created DeploymentHandle 'ztsj0ktj' for Deployment(name='OnlineMNISTClassifier', app='mnist_classifier').\n",
      "2024-12-13 08:35:16,176\tINFO handle.py:126 -- Created DeploymentHandle 'bj3ly8ov' for Deployment(name='OnlineMNISTClassifier', app='mnist_classifier').\n",
      "2024-12-13 08:35:16,177\tINFO handle.py:126 -- Created DeploymentHandle '9kbp397d' for Deployment(name='OnlineMNISTClassifier', app='mnist_classifier').\n",
      "2024-12-13 08:35:16,177\tINFO handle.py:126 -- Created DeploymentHandle 'luycbjig' for Deployment(name='OnlineMNISTClassifier', app='mnist_classifier').\n",
      "2024-12-13 08:35:16,179\tINFO handle.py:126 -- Created DeploymentHandle 'fu88vbzd' for Deployment(name='OnlineMNISTClassifier', app='mnist_classifier').\n",
      "2024-12-13 08:35:16,180\tINFO handle.py:126 -- Created DeploymentHandle 'tro4yp33' for Deployment(name='OnlineMNISTClassifier', app='mnist_classifier').\n",
      "2024-12-13 08:35:16,182\tINFO handle.py:126 -- Created DeploymentHandle '1sy9d18b' for Deployment(name='OnlineMNISTClassifier', app='mnist_classifier').\n",
      "2024-12-13 08:35:16,184\tINFO handle.py:126 -- Created DeploymentHandle 'pih9lj2h' for Deployment(name='OnlineMNISTClassifier', app='mnist_classifier').\n",
      "2024-12-13 08:35:16,185\tINFO handle.py:126 -- Created DeploymentHandle '8bl4grcf' for Deployment(name='OnlineMNISTClassifier', app='mnist_classifier').\n",
      "2024-12-13 08:35:16,188\tINFO handle.py:126 -- Created DeploymentHandle '4jymfgl8' for Deployment(name='OnlineMNISTClassifier', app='mnist_classifier').\n",
      "2024-12-13 08:35:16,189\tINFO handle.py:126 -- Created DeploymentHandle 'mqbbyp92' for Deployment(name='OnlineMNISTClassifier', app='mnist_classifier').\n",
      "2024-12-13 08:35:16,191\tINFO handle.py:126 -- Created DeploymentHandle 'mzk39v26' for Deployment(name='OnlineMNISTClassifier', app='mnist_classifier').\n",
      "2024-12-13 08:35:16,192\tINFO handle.py:126 -- Created DeploymentHandle '56d20oxd' for Deployment(name='OnlineMNISTClassifier', app='mnist_classifier').\n",
      "2024-12-13 08:35:16,193\tINFO handle.py:126 -- Created DeploymentHandle 'lioyj9t2' for Deployment(name='OnlineMNISTClassifier', app='mnist_classifier').\n",
      "2024-12-13 08:35:16,194\tINFO handle.py:126 -- Created DeploymentHandle '0lix4p8u' for Deployment(name='OnlineMNISTClassifier', app='mnist_classifier').\n",
      "2024-12-13 08:35:16,196\tINFO handle.py:126 -- Created DeploymentHandle 'km7jmcal' for Deployment(name='OnlineMNISTClassifier', app='mnist_classifier').\n",
      "2024-12-13 08:35:16,198\tINFO handle.py:126 -- Created DeploymentHandle 'mu928t8b' for Deployment(name='OnlineMNISTClassifier', app='mnist_classifier').\n",
      "2024-12-13 08:35:16,200\tINFO handle.py:126 -- Created DeploymentHandle 'ukk56jrd' for Deployment(name='OnlineMNISTClassifier', app='mnist_classifier').\n",
      "2024-12-13 08:35:16,201\tINFO handle.py:126 -- Created DeploymentHandle 'wfmj1ano' for Deployment(name='OnlineMNISTClassifier', app='mnist_classifier').\n",
      "2024-12-13 08:35:16,203\tINFO handle.py:126 -- Created DeploymentHandle 'mo8cpl2k' for Deployment(name='OnlineMNISTClassifier', app='mnist_classifier').\n",
      "2024-12-13 08:35:16,205\tINFO handle.py:126 -- Created DeploymentHandle 'x3bymtjn' for Deployment(name='OnlineMNISTClassifier', app='mnist_classifier').\n",
      "2024-12-13 08:35:16,207\tINFO handle.py:126 -- Created DeploymentHandle 'ec5048q3' for Deployment(name='OnlineMNISTClassifier', app='mnist_classifier').\n",
      "2024-12-13 08:35:16,210\tINFO handle.py:126 -- Created DeploymentHandle 'hfea8lag' for Deployment(name='OnlineMNISTClassifier', app='mnist_classifier').\n",
      "2024-12-13 08:35:16,211\tINFO handle.py:126 -- Created DeploymentHandle 'vi3u7wlw' for Deployment(name='OnlineMNISTClassifier', app='mnist_classifier').\n",
      "2024-12-13 08:35:16,213\tINFO handle.py:126 -- Created DeploymentHandle 'm2mvtxw2' for Deployment(name='OnlineMNISTClassifier', app='mnist_classifier').\n",
      "2024-12-13 08:35:16,215\tINFO handle.py:126 -- Created DeploymentHandle 'peg6kptb' for Deployment(name='OnlineMNISTClassifier', app='mnist_classifier').\n",
      "2024-12-13 08:35:16,217\tINFO handle.py:126 -- Created DeploymentHandle '43qcvv91' for Deployment(name='OnlineMNISTClassifier', app='mnist_classifier').\n",
      "2024-12-13 08:35:16,218\tINFO handle.py:126 -- Created DeploymentHandle '94uw2160' for Deployment(name='OnlineMNISTClassifier', app='mnist_classifier').\n",
      "2024-12-13 08:35:16,220\tINFO handle.py:126 -- Created DeploymentHandle 'hrr91nul' for Deployment(name='OnlineMNISTClassifier', app='mnist_classifier').\n",
      "2024-12-13 08:35:16,221\tINFO handle.py:126 -- Created DeploymentHandle 'p16c3312' for Deployment(name='OnlineMNISTClassifier', app='mnist_classifier').\n",
      "2024-12-13 08:35:16,224\tINFO handle.py:126 -- Created DeploymentHandle 'a8n0pbvv' for Deployment(name='OnlineMNISTClassifier', app='mnist_classifier').\n",
      "2024-12-13 08:35:16,226\tINFO handle.py:126 -- Created DeploymentHandle 'dakxt7ig' for Deployment(name='OnlineMNISTClassifier', app='mnist_classifier').\n",
      "2024-12-13 08:35:16,227\tINFO handle.py:126 -- Created DeploymentHandle 'untzastd' for Deployment(name='OnlineMNISTClassifier', app='mnist_classifier').\n",
      "2024-12-13 08:35:16,230\tINFO handle.py:126 -- Created DeploymentHandle 'lyml3p0p' for Deployment(name='OnlineMNISTClassifier', app='mnist_classifier').\n",
      "2024-12-13 08:35:16,232\tINFO handle.py:126 -- Created DeploymentHandle 'r3yam311' for Deployment(name='OnlineMNISTClassifier', app='mnist_classifier').\n",
      "2024-12-13 08:35:16,234\tINFO handle.py:126 -- Created DeploymentHandle '73ifaw9t' for Deployment(name='OnlineMNISTClassifier', app='mnist_classifier').\n",
      "2024-12-13 08:35:16,235\tINFO handle.py:126 -- Created DeploymentHandle 'hi2v9p7y' for Deployment(name='OnlineMNISTClassifier', app='mnist_classifier').\n",
      "2024-12-13 08:35:16,236\tINFO handle.py:126 -- Created DeploymentHandle 'onz1py2d' for Deployment(name='OnlineMNISTClassifier', app='mnist_classifier').\n",
      "2024-12-13 08:35:16,238\tINFO handle.py:126 -- Created DeploymentHandle 'fiqshp4f' for Deployment(name='OnlineMNISTClassifier', app='mnist_classifier').\n",
      "2024-12-13 08:35:16,240\tINFO handle.py:126 -- Created DeploymentHandle 'q4qjjrz7' for Deployment(name='OnlineMNISTClassifier', app='mnist_classifier').\n",
      "2024-12-13 08:35:16,242\tINFO handle.py:126 -- Created DeploymentHandle 'wuum6q2j' for Deployment(name='OnlineMNISTClassifier', app='mnist_classifier').\n",
      "2024-12-13 08:35:16,243\tINFO handle.py:126 -- Created DeploymentHandle '5kv2loip' for Deployment(name='OnlineMNISTClassifier', app='mnist_classifier').\n",
      "2024-12-13 08:35:16,246\tINFO handle.py:126 -- Created DeploymentHandle 'gbvrasl0' for Deployment(name='OnlineMNISTClassifier', app='mnist_classifier').\n",
      "2024-12-13 08:35:16,247\tINFO handle.py:126 -- Created DeploymentHandle '8qw8viiq' for Deployment(name='OnlineMNISTClassifier', app='mnist_classifier').\n",
      "2024-12-13 08:35:16,248\tINFO handle.py:126 -- Created DeploymentHandle 'cudtvybh' for Deployment(name='OnlineMNISTClassifier', app='mnist_classifier').\n",
      "2024-12-13 08:35:16,250\tINFO handle.py:126 -- Created DeploymentHandle 'djsxax17' for Deployment(name='OnlineMNISTClassifier', app='mnist_classifier').\n",
      "2024-12-13 08:35:16,252\tINFO handle.py:126 -- Created DeploymentHandle '0mk0c2tc' for Deployment(name='OnlineMNISTClassifier', app='mnist_classifier').\n",
      "2024-12-13 08:35:16,254\tINFO handle.py:126 -- Created DeploymentHandle '602qn7iy' for Deployment(name='OnlineMNISTClassifier', app='mnist_classifier').\n",
      "2024-12-13 08:35:16,255\tINFO handle.py:126 -- Created DeploymentHandle 'wk73qq4z' for Deployment(name='OnlineMNISTClassifier', app='mnist_classifier').\n",
      "2024-12-13 08:35:16,257\tINFO handle.py:126 -- Created DeploymentHandle '20d4a1xw' for Deployment(name='OnlineMNISTClassifier', app='mnist_classifier').\n",
      "2024-12-13 08:35:16,258\tINFO handle.py:126 -- Created DeploymentHandle 'wl5w157g' for Deployment(name='OnlineMNISTClassifier', app='mnist_classifier').\n",
      "2024-12-13 08:35:16,259\tINFO handle.py:126 -- Created DeploymentHandle 'fktbfghq' for Deployment(name='OnlineMNISTClassifier', app='mnist_classifier').\n",
      "2024-12-13 08:35:16,261\tINFO handle.py:126 -- Created DeploymentHandle 'c4awkjvt' for Deployment(name='OnlineMNISTClassifier', app='mnist_classifier').\n",
      "2024-12-13 08:35:16,262\tINFO handle.py:126 -- Created DeploymentHandle 'sohuw3jz' for Deployment(name='OnlineMNISTClassifier', app='mnist_classifier').\n",
      "2024-12-13 08:35:16,263\tINFO handle.py:126 -- Created DeploymentHandle '4lznjzy6' for Deployment(name='OnlineMNISTClassifier', app='mnist_classifier').\n",
      "2024-12-13 08:35:16,265\tINFO handle.py:126 -- Created DeploymentHandle 'y5k7um6y' for Deployment(name='OnlineMNISTClassifier', app='mnist_classifier').\n",
      "2024-12-13 08:35:16,267\tINFO handle.py:126 -- Created DeploymentHandle '9f9a4lm7' for Deployment(name='OnlineMNISTClassifier', app='mnist_classifier').\n",
      "2024-12-13 08:35:16,269\tINFO handle.py:126 -- Created DeploymentHandle '770uxl2c' for Deployment(name='OnlineMNISTClassifier', app='mnist_classifier').\n",
      "2024-12-13 08:35:16,270\tINFO handle.py:126 -- Created DeploymentHandle '5kwz94bm' for Deployment(name='OnlineMNISTClassifier', app='mnist_classifier').\n",
      "2024-12-13 08:35:16,271\tINFO handle.py:126 -- Created DeploymentHandle 'jwk1uhya' for Deployment(name='OnlineMNISTClassifier', app='mnist_classifier').\n",
      "2024-12-13 08:35:16,273\tINFO handle.py:126 -- Created DeploymentHandle '9a8g91w2' for Deployment(name='OnlineMNISTClassifier', app='mnist_classifier').\n",
      "2024-12-13 08:35:16,275\tINFO handle.py:126 -- Created DeploymentHandle 'eo0il11n' for Deployment(name='OnlineMNISTClassifier', app='mnist_classifier').\n",
      "2024-12-13 08:35:16,277\tINFO handle.py:126 -- Created DeploymentHandle '2mzh03wj' for Deployment(name='OnlineMNISTClassifier', app='mnist_classifier').\n",
      "2024-12-13 08:35:16,280\tINFO handle.py:126 -- Created DeploymentHandle 'wh9d8isv' for Deployment(name='OnlineMNISTClassifier', app='mnist_classifier').\n",
      "2024-12-13 08:35:16,282\tINFO handle.py:126 -- Created DeploymentHandle 'byana9mh' for Deployment(name='OnlineMNISTClassifier', app='mnist_classifier').\n",
      "2024-12-13 08:35:16,283\tINFO handle.py:126 -- Created DeploymentHandle 'i4tjjgln' for Deployment(name='OnlineMNISTClassifier', app='mnist_classifier').\n",
      "2024-12-13 08:35:16,285\tINFO handle.py:126 -- Created DeploymentHandle 'j93j2ayj' for Deployment(name='OnlineMNISTClassifier', app='mnist_classifier').\n"
     ]
    },
    {
     "data": {
      "text/plain": [
       "[<ray.serve.handle.DeploymentResponse at 0x72c6e03660d0>,\n",
       " <ray.serve.handle.DeploymentResponse at 0x72c6d8752290>,\n",
       " <ray.serve.handle.DeploymentResponse at 0x72c6d87500d0>,\n",
       " <ray.serve.handle.DeploymentResponse at 0x72c6d8747390>,\n",
       " <ray.serve.handle.DeploymentResponse at 0x72c6e0351e10>,\n",
       " <ray.serve.handle.DeploymentResponse at 0x72c6d87793d0>,\n",
       " <ray.serve.handle.DeploymentResponse at 0x72c6d8779b90>,\n",
       " <ray.serve.handle.DeploymentResponse at 0x72c6d877a010>,\n",
       " <ray.serve.handle.DeploymentResponse at 0x72c6d8752e50>,\n",
       " <ray.serve.handle.DeploymentResponse at 0x72c6d877bc10>,\n",
       " <ray.serve.handle.DeploymentResponse at 0x72c6e01cbd50>,\n",
       " <ray.serve.handle.DeploymentResponse at 0x72c6e035ca50>,\n",
       " <ray.serve.handle.DeploymentResponse at 0x72c6d8785e50>,\n",
       " <ray.serve.handle.DeploymentResponse at 0x72c6d8785fd0>,\n",
       " <ray.serve.handle.DeploymentResponse at 0x72c6d8786a50>,\n",
       " <ray.serve.handle.DeploymentResponse at 0x72c6d8787c90>,\n",
       " <ray.serve.handle.DeploymentResponse at 0x72c6d8794350>,\n",
       " <ray.serve.handle.DeploymentResponse at 0x72c6d8795110>,\n",
       " <ray.serve.handle.DeploymentResponse at 0x72c6e035d5d0>,\n",
       " <ray.serve.handle.DeploymentResponse at 0x72c6d872db50>,\n",
       " <ray.serve.handle.DeploymentResponse at 0x72c6d8796b50>,\n",
       " <ray.serve.handle.DeploymentResponse at 0x72c6d8797150>,\n",
       " <ray.serve.handle.DeploymentResponse at 0x72c6d8797ed0>,\n",
       " <ray.serve.handle.DeploymentResponse at 0x72c6d87a0690>,\n",
       " <ray.serve.handle.DeploymentResponse at 0x72c6d87a14d0>,\n",
       " <ray.serve.handle.DeploymentResponse at 0x72c6d87a1b50>,\n",
       " <ray.serve.handle.DeploymentResponse at 0x72c73032a850>,\n",
       " <ray.serve.handle.DeploymentResponse at 0x72c6d87a1f50>,\n",
       " <ray.serve.handle.DeploymentResponse at 0x72c6e034a510>,\n",
       " <ray.serve.handle.DeploymentResponse at 0x72c6d87a3ed0>,\n",
       " <ray.serve.handle.DeploymentResponse at 0x72c6d87a8690>,\n",
       " <ray.serve.handle.DeploymentResponse at 0x72c6d87a9cd0>,\n",
       " <ray.serve.handle.DeploymentResponse at 0x72c6d87aa4d0>,\n",
       " <ray.serve.handle.DeploymentResponse at 0x72c6d87a2c10>,\n",
       " <ray.serve.handle.DeploymentResponse at 0x72c6d87aad50>,\n",
       " <ray.serve.handle.DeploymentResponse at 0x72c6d87ab690>,\n",
       " <ray.serve.handle.DeploymentResponse at 0x72c6d87a3d50>,\n",
       " <ray.serve.handle.DeploymentResponse at 0x72c6d87ac4d0>,\n",
       " <ray.serve.handle.DeploymentResponse at 0x72c6d87adb90>,\n",
       " <ray.serve.handle.DeploymentResponse at 0x72c6d87ae4d0>,\n",
       " <ray.serve.handle.DeploymentResponse at 0x72c6d87ae710>,\n",
       " <ray.serve.handle.DeploymentResponse at 0x72c6d8757dd0>,\n",
       " <ray.serve.handle.DeploymentResponse at 0x72c6d87c0110>,\n",
       " <ray.serve.handle.DeploymentResponse at 0x72c6d87c1250>,\n",
       " <ray.serve.handle.DeploymentResponse at 0x72c6d87c1110>,\n",
       " <ray.serve.handle.DeploymentResponse at 0x72c6d87c18d0>,\n",
       " <ray.serve.handle.DeploymentResponse at 0x72c6d87c2350>,\n",
       " <ray.serve.handle.DeploymentResponse at 0x72c6d87aa0d0>,\n",
       " <ray.serve.handle.DeploymentResponse at 0x72c6e034b950>,\n",
       " <ray.serve.handle.DeploymentResponse at 0x72c6d87d0690>,\n",
       " <ray.serve.handle.DeploymentResponse at 0x72c6d87d0d90>,\n",
       " <ray.serve.handle.DeploymentResponse at 0x72c6d87d1c50>,\n",
       " <ray.serve.handle.DeploymentResponse at 0x72c6d87d1cd0>,\n",
       " <ray.serve.handle.DeploymentResponse at 0x72c6d87d3190>,\n",
       " <ray.serve.handle.DeploymentResponse at 0x72c6d87d3fd0>,\n",
       " <ray.serve.handle.DeploymentResponse at 0x72c6d87d8250>,\n",
       " <ray.serve.handle.DeploymentResponse at 0x72c6d87d8e90>,\n",
       " <ray.serve.handle.DeploymentResponse at 0x72c6d87d96d0>,\n",
       " <ray.serve.handle.DeploymentResponse at 0x72c6d87da1d0>,\n",
       " <ray.serve.handle.DeploymentResponse at 0x72c6d877b010>,\n",
       " <ray.serve.handle.DeploymentResponse at 0x72c6e0353410>,\n",
       " <ray.serve.handle.DeploymentResponse at 0x72c6d87c3a50>,\n",
       " <ray.serve.handle.DeploymentResponse at 0x72c6d87e4810>,\n",
       " <ray.serve.handle.DeploymentResponse at 0x72c6d87e4f90>,\n",
       " <ray.serve.handle.DeploymentResponse at 0x72c6d87e62d0>,\n",
       " <ray.serve.handle.DeploymentResponse at 0x72c6d87e64d0>,\n",
       " <ray.serve.handle.DeploymentResponse at 0x72c72000ddd0>,\n",
       " <ray.serve.handle.DeploymentResponse at 0x72c6d85fc9d0>,\n",
       " <ray.serve.handle.DeploymentResponse at 0x72c6d85fcf90>,\n",
       " <ray.serve.handle.DeploymentResponse at 0x72c6d85fd550>,\n",
       " <ray.serve.handle.DeploymentResponse at 0x72c6d85fe590>,\n",
       " <ray.serve.handle.DeploymentResponse at 0x72c6d85fd3d0>,\n",
       " <ray.serve.handle.DeploymentResponse at 0x72c6d85ff250>,\n",
       " <ray.serve.handle.DeploymentResponse at 0x72c6d85ff3d0>,\n",
       " <ray.serve.handle.DeploymentResponse at 0x72c6d8608750>,\n",
       " <ray.serve.handle.DeploymentResponse at 0x72c6d8609050>,\n",
       " <ray.serve.handle.DeploymentResponse at 0x72c6d87a96d0>,\n",
       " <ray.serve.handle.DeploymentResponse at 0x72c6d877a6d0>,\n",
       " <ray.serve.handle.DeploymentResponse at 0x72c6d860b6d0>,\n",
       " <ray.serve.handle.DeploymentResponse at 0x72c6d860b7d0>,\n",
       " <ray.serve.handle.DeploymentResponse at 0x72c6d8610490>,\n",
       " <ray.serve.handle.DeploymentResponse at 0x72c6d8610a50>,\n",
       " <ray.serve.handle.DeploymentResponse at 0x72c6d8611310>,\n",
       " <ray.serve.handle.DeploymentResponse at 0x72c6d8611ad0>,\n",
       " <ray.serve.handle.DeploymentResponse at 0x72c6d8612050>,\n",
       " <ray.serve.handle.DeploymentResponse at 0x72c6d8611b90>,\n",
       " <ray.serve.handle.DeploymentResponse at 0x72c6d8613690>,\n",
       " <ray.serve.handle.DeploymentResponse at 0x72c6d8620a90>,\n",
       " <ray.serve.handle.DeploymentResponse at 0x72c6d8620e10>,\n",
       " <ray.serve.handle.DeploymentResponse at 0x72c6d86218d0>,\n",
       " <ray.serve.handle.DeploymentResponse at 0x72c6d8621b90>,\n",
       " <ray.serve.handle.DeploymentResponse at 0x72c6d8622ad0>,\n",
       " <ray.serve.handle.DeploymentResponse at 0x72c6d8623590>,\n",
       " <ray.serve.handle.DeploymentResponse at 0x72c6d86281d0>,\n",
       " <ray.serve.handle.DeploymentResponse at 0x72c6d8628710>,\n",
       " <ray.serve.handle.DeploymentResponse at 0x72c6d862a1d0>,\n",
       " <ray.serve.handle.DeploymentResponse at 0x72c6d862ac50>,\n",
       " <ray.serve.handle.DeploymentResponse at 0x72c6d862b790>,\n",
       " <ray.serve.handle.DeploymentResponse at 0x72c6d862b7d0>,\n",
       " <ray.serve.handle.DeploymentResponse at 0x72c6d862c690>]"
      ]
     },
     "execution_count": 16,
     "metadata": {},
     "output_type": "execute_result"
    },
    {
     "name": "stderr",
     "output_type": "stream",
     "text": [
      "2024-12-13 08:35:21,559\tWARNING pow_2_scheduler.py:501 -- Failed to get queue length from Replica(id='rxr0eh2z', deployment='OnlineMNISTClassifier', app='mnist_classifier') within 0.1s. If this happens repeatedly it's likely caused by high network latency in the cluster. You can configure the deadline using the `RAY_SERVE_QUEUE_LENGTH_RESPONSE_DEADLINE_S` environment variable.\n",
      "2024-12-13 08:35:21,560\tWARNING pow_2_scheduler.py:501 -- Failed to get queue length from Replica(id='rxr0eh2z', deployment='OnlineMNISTClassifier', app='mnist_classifier') within 0.1s. If this happens repeatedly it's likely caused by high network latency in the cluster. You can configure the deadline using the `RAY_SERVE_QUEUE_LENGTH_RESPONSE_DEADLINE_S` environment variable.\n",
      "2024-12-13 08:35:21,890\tWARNING pow_2_scheduler.py:501 -- Failed to get queue length from Replica(id='rxr0eh2z', deployment='OnlineMNISTClassifier', app='mnist_classifier') within 0.1s. If this happens repeatedly it's likely caused by high network latency in the cluster. You can configure the deadline using the `RAY_SERVE_QUEUE_LENGTH_RESPONSE_DEADLINE_S` environment variable.\n",
      "2024-12-13 08:35:21,892\tWARNING pow_2_scheduler.py:501 -- Failed to get queue length from Replica(id='rxr0eh2z', deployment='OnlineMNISTClassifier', app='mnist_classifier') within 0.1s. If this happens repeatedly it's likely caused by high network latency in the cluster. You can configure the deadline using the `RAY_SERVE_QUEUE_LENGTH_RESPONSE_DEADLINE_S` environment variable.\n",
      "2024-12-13 08:35:22,156\tWARNING pow_2_scheduler.py:501 -- Failed to get queue length from Replica(id='rxr0eh2z', deployment='OnlineMNISTClassifier', app='mnist_classifier') within 0.1s. If this happens repeatedly it's likely caused by high network latency in the cluster. You can configure the deadline using the `RAY_SERVE_QUEUE_LENGTH_RESPONSE_DEADLINE_S` environment variable.\n",
      "2024-12-13 08:35:22,157\tWARNING pow_2_scheduler.py:501 -- Failed to get queue length from Replica(id='rxr0eh2z', deployment='OnlineMNISTClassifier', app='mnist_classifier') within 0.1s. If this happens repeatedly it's likely caused by high network latency in the cluster. You can configure the deadline using the `RAY_SERVE_QUEUE_LENGTH_RESPONSE_DEADLINE_S` environment variable.\n",
      "2024-12-13 08:35:22,359\tWARNING pow_2_scheduler.py:501 -- Failed to get queue length from Replica(id='rxr0eh2z', deployment='OnlineMNISTClassifier', app='mnist_classifier') within 0.2s. If this happens repeatedly it's likely caused by high network latency in the cluster. You can configure the deadline using the `RAY_SERVE_QUEUE_LENGTH_RESPONSE_DEADLINE_S` environment variable.\n",
      "2024-12-13 08:35:22,360\tWARNING pow_2_scheduler.py:501 -- Failed to get queue length from Replica(id='rxr0eh2z', deployment='OnlineMNISTClassifier', app='mnist_classifier') within 0.2s. If this happens repeatedly it's likely caused by high network latency in the cluster. You can configure the deadline using the `RAY_SERVE_QUEUE_LENGTH_RESPONSE_DEADLINE_S` environment variable.\n"
     ]
    }
   ],
   "source": [
    "batch = {\"image\": np.random.rand(10, 1, 28, 28)}\n",
    "[\n",
    "    mnist_deployment_handle.predict.remote(batch)\n",
    "    for _ in range(100)\n",
    "]"
   ]
  },
  {
   "cell_type": "markdown",
   "id": "91a4e5e9",
   "metadata": {},
   "source": [
    "Looking at the Ray Serve dashboard, we can see that the number of replicas has scaled up to 10 as expected.\n",
    "\n",
    "<img src='https://anyscale-public-materials.s3.us-west-2.amazonaws.com/ray-ai-libraries/diagrams/autoscaling_at_10.png' width=700/>"
   ]
  },
  {
   "cell_type": "markdown",
   "id": "c52225df",
   "metadata": {},
   "source": [
    "Let's shutdown the service for now."
   ]
  },
  {
   "cell_type": "code",
   "execution_count": 17,
   "id": "0d53e06b",
   "metadata": {},
   "outputs": [],
   "source": [
    "serve.shutdown()"
   ]
  },
  {
   "cell_type": "markdown",
   "id": "2e2d1c58",
   "metadata": {},
   "source": [
    "### Composing Deployments\n",
    "\n",
    "Ray Serve allows us to compose Deployments together to build more complex applications.\n",
    "\n",
    "Lets compose our `OnlineMNISTClassifier` with an `OnlineMNISTPreprocessor` deployment that performs the necessary transformations on the input data.\n"
   ]
  },
  {
   "cell_type": "code",
   "execution_count": 18,
   "id": "67670984",
   "metadata": {},
   "outputs": [
    {
     "name": "stderr",
     "output_type": "stream",
     "text": [
      "2024-12-13 08:38:36,797\tWARNING api.py:346 -- The default value for `max_ongoing_requests` has changed from 100 to 5 in Ray 2.32.0.\n",
      "2024-12-13 08:38:36,797\tWARNING api.py:397 -- The default value for `max_ongoing_requests` has changed from 100 to 5 in Ray 2.32.0.\n"
     ]
    }
   ],
   "source": [
    "from torchvision import transforms\n",
    "\n",
    "\n",
    "@serve.deployment\n",
    "class OnlineMNISTPreprocessor:\n",
    "    def __init__(self):\n",
    "        self.transform = transforms.Compose([\n",
    "            transforms.ToTensor(),\n",
    "            transforms.Normalize((0.5,), (0.5,))\n",
    "        ])\n",
    "        \n",
    "    async def run(self, batch: dict[str, Any]) -> dict[str, Any]:\n",
    "        images = batch[\"image\"]\n",
    "        images = [self.transform(np.array(image, dtype=np.uint8)).cpu().numpy() for image in images]\n",
    "        return {\"image\": images}\n",
    "\n",
    "preprocessor_app = OnlineMNISTPreprocessor.bind()"
   ]
  },
  {
   "cell_type": "code",
   "execution_count": 19,
   "id": "8b0dc24f",
   "metadata": {},
   "outputs": [
    {
     "name": "stderr",
     "output_type": "stream",
     "text": [
      "2024-12-13 08:38:44,236\tINFO handle.py:126 -- Created DeploymentHandle '8px5rnva' for Deployment(name='OnlineMNISTPreprocessor', app='mnist_preprocessor').\n",
      "2024-12-13 08:38:44,237\tINFO handle.py:126 -- Created DeploymentHandle 'l4gmboko' for Deployment(name='OnlineMNISTPreprocessor', app='mnist_preprocessor').\n",
      "2024-12-13 08:38:49,254\tINFO handle.py:126 -- Created DeploymentHandle 'gf1a4vjq' for Deployment(name='OnlineMNISTPreprocessor', app='mnist_preprocessor').\n",
      "2024-12-13 08:38:49,255\tINFO api.py:574 -- Deployed app 'mnist_preprocessor' successfully.\n"
     ]
    }
   ],
   "source": [
    "preprocessor_handle = serve.run(preprocessor_app, name='mnist_preprocessor', blocking=False, route_prefix=\"/preprocess\")"
   ]
  },
  {
   "cell_type": "markdown",
   "id": "92daf899",
   "metadata": {},
   "source": [
    "Let's load an image and pass it to the `OnlineMNISTPreprocessor`"
   ]
  },
  {
   "cell_type": "code",
   "execution_count": 20,
   "id": "441a8762",
   "metadata": {},
   "outputs": [
    {
     "name": "stderr",
     "output_type": "stream",
     "text": [
      "2024-12-13 08:39:23,784\tINFO streaming_executor.py:108 -- Starting execution of Dataset. Full logs are in /tmp/ray/session_2024-12-13_08-07-01_151483_2430/logs/ray-data\n",
      "2024-12-13 08:39:23,785\tINFO streaming_executor.py:109 -- Execution plan of Dataset: InputDataBuffer[Input] -> TaskPoolMapOperator[ExpandPaths] -> TaskPoolMapOperator[ReadFiles] -> LimitOperator[limit=10]\n"
     ]
    },
    {
     "data": {
      "application/vnd.jupyter.widget-view+json": {
       "model_id": "03c9a18054ef422094517b401e8a431c",
       "version_major": 2,
       "version_minor": 0
      },
      "text/plain": [
       "- ExpandPaths 1: 0 bundle [00:00, ? bundle/s]"
      ]
     },
     "metadata": {},
     "output_type": "display_data"
    },
    {
     "data": {
      "application/vnd.jupyter.widget-view+json": {
       "model_id": "2944020331594577909f9e7b33042ab4",
       "version_major": 2,
       "version_minor": 0
      },
      "text/plain": [
       "- ReadFiles 2: 0 bundle [00:00, ? bundle/s]"
      ]
     },
     "metadata": {},
     "output_type": "display_data"
    },
    {
     "data": {
      "application/vnd.jupyter.widget-view+json": {
       "model_id": "2deffdd695634713a03cfa9f74b8c676",
       "version_major": 2,
       "version_minor": 0
      },
      "text/plain": [
       "- limit=10 3: 0 bundle [00:00, ? bundle/s]"
      ]
     },
     "metadata": {},
     "output_type": "display_data"
    },
    {
     "data": {
      "application/vnd.jupyter.widget-view+json": {
       "model_id": "6121fc146c3d4f798de2af378bc6f181",
       "version_major": 2,
       "version_minor": 0
      },
      "text/plain": [
       "Running 0: 0 bundle [00:00, ? bundle/s]"
      ]
     },
     "metadata": {},
     "output_type": "display_data"
    }
   ],
   "source": [
    "import ray\n",
    "\n",
    "ds = ray.data.read_images(\"s3://anyscale-public-materials/ray-ai-libraries/mnist/50_per_index/\", include_paths=True)\n",
    "image_batch = ds.take_batch(10)"
   ]
  },
  {
   "cell_type": "code",
   "execution_count": 21,
   "id": "1289797c",
   "metadata": {},
   "outputs": [
    {
     "data": {
      "image/png": "[encoded data removed]",
      "text/plain": [
       "<Figure size 640x480 with 1 Axes>"
      ]
     },
     "metadata": {},
     "output_type": "display_data"
    }
   ],
   "source": [
    "# plot the first image using matplotlib\n",
    "from matplotlib import pyplot as plt\n",
    "\n",
    "\n",
    "plt.imshow(image_batch[\"image\"][0], cmap=\"gray\")\n",
    "plt.show()"
   ]
  },
  {
   "cell_type": "code",
   "execution_count": 22,
   "id": "94df4e63",
   "metadata": {},
   "outputs": [
    {
     "name": "stderr",
     "output_type": "stream",
     "text": [
      "2024-12-13 08:39:56,494\tINFO handle.py:126 -- Created DeploymentHandle 'oy7ram11' for Deployment(name='OnlineMNISTPreprocessor', app='mnist_preprocessor').\n"
     ]
    }
   ],
   "source": [
    "normalized_batch = await preprocessor_handle.run.remote(image_batch)\n",
    "\n",
    "for image in normalized_batch[\"image\"]:\n",
    "    assert image.shape == (1, 28, 28) # channel, height, width\n",
    "    assert image.min() >= -1 and image.max() <= 1 # normalized to [-1, 1]"
   ]
  },
  {
   "cell_type": "markdown",
   "id": "da2848fc",
   "metadata": {},
   "source": [
    "We will proceed to shutdown the preprocessor application to prove it will be automatically recreated later.\n"
   ]
  },
  {
   "cell_type": "code",
   "execution_count": 23,
   "id": "d0ac5957",
   "metadata": {},
   "outputs": [],
   "source": [
    "serve.shutdown()"
   ]
  },
  {
   "cell_type": "markdown",
   "id": "b0e44763",
   "metadata": {},
   "source": [
    "Let's now build an application that composes the `OnlineMNISTPreprocessor` and `OnlineMNISTClassifier`"
   ]
  },
  {
   "cell_type": "code",
   "execution_count": 24,
   "id": "88340028",
   "metadata": {},
   "outputs": [
    {
     "name": "stderr",
     "output_type": "stream",
     "text": [
      "2024-12-13 08:42:47,216\tWARNING api.py:346 -- The default value for `max_ongoing_requests` has changed from 100 to 5 in Ray 2.32.0.\n",
      "2024-12-13 08:42:47,217\tWARNING api.py:397 -- The default value for `max_ongoing_requests` has changed from 100 to 5 in Ray 2.32.0.\n"
     ]
    }
   ],
   "source": [
    "@serve.deployment\n",
    "class ImageServiceIngress:\n",
    "    def __init__(self, preprocessor: OnlineMNISTPreprocessor, model: OnlineMNISTClassifier):\n",
    "        self.preprocessor = preprocessor\n",
    "        self.model = model\n",
    "\n",
    "    async def __call__(self, request: Request):\n",
    "        batch = json.loads(await request.json())\n",
    "        response = await self.preprocessor.run.remote(batch)\n",
    "        return await self.model.predict.remote(response)"
   ]
  },
  {
   "cell_type": "code",
   "execution_count": 25,
   "id": "affcac11",
   "metadata": {},
   "outputs": [
    {
     "name": "stderr",
     "output_type": "stream",
     "text": [
      "2024-12-13 08:44:19,957\tINFO handle.py:126 -- Created DeploymentHandle 'fsqpub6j' for Deployment(name='OnlineMNISTPreprocessor', app='image_classifier').\n",
      "2024-12-13 08:44:19,963\tINFO handle.py:126 -- Created DeploymentHandle 'o631o8sp' for Deployment(name='OnlineMNISTClassifier', app='image_classifier').\n",
      "2024-12-13 08:44:19,964\tINFO handle.py:126 -- Created DeploymentHandle 's082atuf' for Deployment(name='OnlineMNISTPreprocessor', app='image_classifier').\n",
      "2024-12-13 08:44:19,964\tINFO handle.py:126 -- Created DeploymentHandle 'l8s57gz6' for Deployment(name='OnlineMNISTClassifier', app='image_classifier').\n",
      "2024-12-13 08:44:19,971\tINFO handle.py:126 -- Created DeploymentHandle '3mpn24fn' for Deployment(name='ImageServiceIngress', app='image_classifier').\n",
      "2024-12-13 08:44:19,972\tINFO handle.py:126 -- Created DeploymentHandle 'lwk6vdl4' for Deployment(name='OnlineMNISTPreprocessor', app='image_classifier').\n",
      "2024-12-13 08:44:19,972\tINFO handle.py:126 -- Created DeploymentHandle 'hsxt2a9i' for Deployment(name='OnlineMNISTClassifier', app='image_classifier').\n",
      "2024-12-13 08:44:19,973\tINFO handle.py:126 -- Created DeploymentHandle 'lrxdx3jo' for Deployment(name='ImageServiceIngress', app='image_classifier').\n",
      "2024-12-13 08:44:25,003\tINFO handle.py:126 -- Created DeploymentHandle 'kdnf0qjt' for Deployment(name='ImageServiceIngress', app='image_classifier').\n",
      "2024-12-13 08:44:25,004\tINFO api.py:574 -- Deployed app 'image_classifier' successfully.\n"
     ]
    }
   ],
   "source": [
    "image_classifier_ingress = ImageServiceIngress.bind(\n",
    "    preprocessor=OnlineMNISTPreprocessor.bind(),\n",
    "    model=OnlineMNISTClassifier.options(\n",
    "        num_replicas=1,\n",
    "        ray_actor_options={\"num_gpus\": 0.1},\n",
    "    ).bind(local_path=\"/mnt/cluster_storage/model.pt\"),\n",
    ")\n",
    "\n",
    "handle = serve.run(image_classifier_ingress, name='image_classifier', blocking=False)"
   ]
  },
  {
   "cell_type": "markdown",
   "id": "aa81a51f",
   "metadata": {},
   "source": [
    "Let's test the application by sending a sample HTTP request to our ingress endpoint.\n"
   ]
  },
  {
   "cell_type": "code",
   "execution_count": 26,
   "id": "6d084ee7",
   "metadata": {},
   "outputs": [
    {
     "data": {
      "text/plain": [
       "[0, 0, 0, 0, 0, 0, 0, 0, 0, 0]"
      ]
     },
     "execution_count": 26,
     "metadata": {},
     "output_type": "execute_result"
    }
   ],
   "source": [
    "json_request = json.dumps({\"image\": image_batch[\"image\"].tolist()}) \n",
    "response = requests.post(\"http://localhost:8000/\", json=json_request)\n",
    "response.json()[\"predicted_label\"]"
   ]
  },
  {
   "cell_type": "markdown",
   "id": "1fbe8773",
   "metadata": {},
   "source": [
    "### Integrating with FastAPI\n",
    "\n",
    "Ray Serve can be integrated with FastAPI to provide:\n",
    "- HTTP routing\n",
    "- Pydantic model validation\n",
    "- OpenAPI documentation\n",
    "\n",
    "To integrate a Deployment with FastAPI, we can use the `@serve.ingress` decorator to designate a FastAPI app as the entrypoint for HTTP requests to our Serve application."
   ]
  },
  {
   "cell_type": "code",
   "execution_count": 27,
   "id": "5d163431",
   "metadata": {},
   "outputs": [
    {
     "name": "stderr",
     "output_type": "stream",
     "text": [
      "2024-12-13 08:48:29,697\tWARNING api.py:346 -- The default value for `max_ongoing_requests` has changed from 100 to 5 in Ray 2.32.0.\n",
      "2024-12-13 08:48:29,698\tWARNING api.py:397 -- The default value for `max_ongoing_requests` has changed from 100 to 5 in Ray 2.32.0.\n"
     ]
    }
   ],
   "source": [
    "from fastapi import FastAPI\n",
    "\n",
    "\n",
    "app = FastAPI()\n",
    "\n",
    "@serve.deployment\n",
    "@serve.ingress(app)\n",
    "class ImageServiceIngress:\n",
    "    def __init__(self, preprocessor: OnlineMNISTPreprocessor, model: OnlineMNISTClassifier):\n",
    "        self.preprocessor = preprocessor\n",
    "        self.model = model\n",
    "    \n",
    "    @app.post(\"/predict\")\n",
    "    async def predict(self, request: Request):\n",
    "        batch = json.loads(await request.json())\n",
    "        response = await self.preprocessor.run.remote(batch)\n",
    "        out = await self.model.predict.remote(response)\n",
    "        return {\"predicted_label\": out[\"predicted_label\"].tolist()}"
   ]
  },
  {
   "cell_type": "markdown",
   "id": "a3a31b87",
   "metadata": {},
   "source": [
    "We now can build the application and run it."
   ]
  },
  {
   "cell_type": "code",
   "execution_count": 28,
   "id": "0371807e",
   "metadata": {},
   "outputs": [
    {
     "name": "stderr",
     "output_type": "stream",
     "text": [
      "2024-12-13 08:49:02,196\tINFO handle.py:126 -- Created DeploymentHandle 'zs9xlv6l' for Deployment(name='OnlineMNISTPreprocessor', app='image_classifier').\n",
      "2024-12-13 08:49:02,201\tINFO handle.py:126 -- Created DeploymentHandle 'e6czhw0i' for Deployment(name='OnlineMNISTClassifier', app='image_classifier').\n",
      "2024-12-13 08:49:02,201\tINFO handle.py:126 -- Created DeploymentHandle 's26zdw7w' for Deployment(name='OnlineMNISTPreprocessor', app='image_classifier').\n",
      "2024-12-13 08:49:02,202\tINFO handle.py:126 -- Created DeploymentHandle '73tfa712' for Deployment(name='OnlineMNISTClassifier', app='image_classifier').\n",
      "2024-12-13 08:49:02,212\tINFO handle.py:126 -- Created DeploymentHandle '8ywfb0i5' for Deployment(name='ImageServiceIngress', app='image_classifier').\n",
      "2024-12-13 08:49:02,212\tINFO handle.py:126 -- Created DeploymentHandle '2fvhvuyy' for Deployment(name='OnlineMNISTPreprocessor', app='image_classifier').\n",
      "2024-12-13 08:49:02,213\tINFO handle.py:126 -- Created DeploymentHandle '500czr1l' for Deployment(name='OnlineMNISTClassifier', app='image_classifier').\n",
      "2024-12-13 08:49:02,213\tINFO handle.py:126 -- Created DeploymentHandle '6vbdxtpb' for Deployment(name='ImageServiceIngress', app='image_classifier').\n",
      "2024-12-13 08:49:07,243\tINFO api.py:574 -- Deployed app 'image_classifier' successfully.\n"
     ]
    }
   ],
   "source": [
    "image_classifier_ingress = ImageServiceIngress.bind(\n",
    "    preprocessor=OnlineMNISTPreprocessor.bind(),\n",
    "    model=OnlineMNISTClassifier.options(\n",
    "        num_replicas=1,\n",
    "        ray_actor_options={\"num_gpus\": 0.1},\n",
    "    ).bind(local_path=\"/mnt/cluster_storage/model.pt\"),\n",
    ")\n",
    "\n",
    "handle = serve.run(image_classifier_ingress, name='image_classifier', blocking=False)"
   ]
  },
  {
   "cell_type": "markdown",
   "id": "012894c6",
   "metadata": {},
   "source": [
    "After running the application, we can get test it as an HTTP endpoint programmatically."
   ]
  },
  {
   "cell_type": "code",
   "execution_count": 29,
   "id": "2e217336",
   "metadata": {},
   "outputs": [
    {
     "data": {
      "text/plain": [
       "[0, 0, 0, 0, 0, 0, 0, 0, 0, 0]"
      ]
     },
     "execution_count": 29,
     "metadata": {},
     "output_type": "execute_result"
    }
   ],
   "source": [
    "json_request = json.dumps({\"image\": image_batch[\"image\"].tolist()}) \n",
    "response = requests.post(\"http://localhost:8000/predict\", json=json_request)\n",
    "response.json()[\"predicted_label\"]"
   ]
  },
  {
   "cell_type": "markdown",
   "id": "287ff14a",
   "metadata": {},
   "source": [
    "We can also visit the auto-generated FastAPI docs at http://localhost:8000/docs to get an interactive UI to test our endpoint."
   ]
  },
  {
   "cell_type": "markdown",
   "id": "5e2af689",
   "metadata": {},
   "source": [
    "## 4. Ray Serve in Production\n",
    "\n",
    "1. Klaviyo built their model serving platform with Ray Serve. See [this article from Klaviyo Engineering](https://klaviyo.tech/how-klaviyo-built-a-robust-model-serving-platform-with-ray-serve-c02ec65788b3)\n",
    "2. Samsara uses Ray Serve to bridge the gap of development to deployment of their models. See [this article from Samsara Engineering](https://www.samsara.com/blog/building-a-modern-machine-learning-platform-with-ray)"
   ]
  },
  {
   "cell_type": "markdown",
   "id": "d59f4a09",
   "metadata": {},
   "source": [
    "## Clean up \n",
    "\n",
    "Let's shutdown the application and clean up the resources we created."
   ]
  },
  {
   "cell_type": "code",
   "execution_count": 30,
   "id": "e0e8131d",
   "metadata": {},
   "outputs": [],
   "source": [
    "serve.shutdown()\n",
    "!rm -rf /mnt/cluster_storage/model.pt"
   ]
  }
 ],
 "metadata": {
  "kernelspec": {
   "display_name": "Python 3 (ipykernel)",
   "language": "python",
   "name": "python3"
  },
  "language_info": {
   "codemirror_mode": {
    "name": "ipython",
    "version": 3
   },
   "file_extension": ".py",
   "mimetype": "text/x-python",
   "name": "python",
   "nbconvert_exporter": "python",
   "pygments_lexer": "ipython3",
   "version": "3.11.8"
  }
 },
 "nbformat": 4,
 "nbformat_minor": 5
}
