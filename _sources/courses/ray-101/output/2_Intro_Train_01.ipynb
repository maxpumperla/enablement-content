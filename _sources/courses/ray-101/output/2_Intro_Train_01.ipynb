{
 "cells": [
  {
   "cell_type": "markdown",
   "metadata": {},
   "source": [
    "## Introduction to Ray Train\n",
    "\n",
    "This notebook will walk you through the basics of distributed training with Ray Train and PyTorch.\n",
    "\n",
    "<div class=\"alert alert-block alert-info\">\n",
    "\n",
    "<b> Roadmap</b>\n",
    "\n",
    "<ul>\n",
    "    <li><b>Part 0:</b> Introduction</li>\n",
    "    <li><b>Part 1:</b> PyTorch introductory example</li>\n",
    "    <li><b>Part 2:</b> Overview of Distributed Training with Ray Train</li>\n",
    "    <li><b>Part 3:</b> Overview of the training loop in Ray Train</li>\n",
    "    <li><b>Part 4:</b> Migrating the model and dataset to Ray Train</li>\n",
    "    <li><b>Part 5:</b> Reporting metrics and checkpoints</li>\n",
    "    <li><b>Part 6:</b> Launching the distributed training job</li>\n",
    "    <li><b>Part 7:</b> Accessing training results</li>\n",
    "</ul>\n",
    "</div>"
   ]
  }
 ],
 "metadata": {
  "kernelspec": {
   "display_name": "Python 3 (ipykernel)",
   "language": "python",
   "name": "python3"
  },
  "language_info": {
   "codemirror_mode": {
    "name": "ipython",
    "version": 3
   },
   "file_extension": ".py",
   "mimetype": "text/x-python",
   "name": "python",
   "nbconvert_exporter": "python",
   "pygments_lexer": "ipython3",
   "version": "3.11.8"
  },
  "orphan": true,
  "vscode": {
   "interpreter": {
    "hash": "a8c1140d108077f4faeb76b2438f85e4ed675f93d004359552883616a1acd54c"
   }
  }
 },
 "nbformat": 4,
 "nbformat_minor": 4
}