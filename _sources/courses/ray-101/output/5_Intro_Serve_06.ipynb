{
 "cells": [
  {
   "cell_type": "markdown",
   "id": "d59f4a09",
   "metadata": {},
   "source": [
    "## Clean up \n",
    "\n",
    "Let's shutdown the application and clean up the resources we created."
   ]
  },
  {
   "cell_type": "code",
   "execution_count": 30,
   "id": "e0e8131d",
   "metadata": {},
   "outputs": [],
   "source": [
    "serve.shutdown()\n",
    "!rm -rf /mnt/cluster_storage/model.pt"
   ]
  }
 ],
 "metadata": {
  "kernelspec": {
   "display_name": "Python 3 (ipykernel)",
   "language": "python",
   "name": "python3"
  },
  "language_info": {
   "codemirror_mode": {
    "name": "ipython",
    "version": 3
   },
   "file_extension": ".py",
   "mimetype": "text/x-python",
   "name": "python",
   "nbconvert_exporter": "python",
   "pygments_lexer": "ipython3",
   "version": "3.11.8"
  }
 },
 "nbformat": 4,
 "nbformat_minor": 5
}