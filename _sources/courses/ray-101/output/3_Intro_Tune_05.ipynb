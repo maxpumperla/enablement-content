{
 "cells": [
  {
   "cell_type": "markdown",
   "metadata": {},
   "source": [
    "## 4. Diving deeper into Ray Tune concepts\n",
    "\n",
    "- How does the Tuner **which resources to allocate** to trials?\n",
    "    - Each trial will run in a separate process and consume 1 CPU core.\n",
    "- How does it decide **how to tune** - i.e. which trials to run next?\n",
    "    - Ray Tune uses a search algorithm to decide which trials to run next.\n",
    "    - e.g. A random search, or a more sophisticated search algorithm like a bayesian optimization algorithm.\n",
    "- How does it decide **when to stop** - i.e. whether to kill a trial early?\n",
    "    - e.g. If a trial is performing poorly compared to other trials, it perhaps makes sense to stop it early (successive halving, hyperband)\n",
    "    - Ray Tune uses a scheduler to decide if/when to stop trials, or to prioritize certain trials over others."
   ]
  },
  {
   "cell_type": "markdown",
   "metadata": {},
   "source": [
    "Below is a diagram showing the relationship between the different Ray Tune components we have discussed.\n",
    "\n",
    "<img src=\"https://docs.ray.io/en/latest/_images/tune_flow.png\" width=\"800\" />\n",
    "\n",
    "\n",
    "To learn more about the key tune concepts, you can visit the [Ray Tune documentation here](https://docs.ray.io/en/master/tune/key-concepts.html)."
   ]
  },
  {
   "cell_type": "markdown",
   "metadata": {},
   "source": [
    "### Default settings for Ray Tune"
   ]
  },
  {
   "cell_type": "code",
   "execution_count": null,
   "metadata": {},
   "outputs": [],
   "source": [
    "tuner = tune.Tuner(\n",
    "    # This is how to specify resources for your trainable function\n",
    "    trainable=tune.with_resources(train_my_simple_model, {\"cpu\": 1}),\n",
    "    param_space={\"a\": tune.randint(0, 20)},\n",
    "    tune_config=tune.TuneConfig(\n",
    "        mode=\"min\",\n",
    "        metric=\"rmse\",\n",
    "        num_samples=5, \n",
    "        # This search algorithm is a basic variation (i.e random/grid search) based on parameter space\n",
    "        search_alg=tune.search.BasicVariantGenerator(), \n",
    "        # This scheduler is very simple: no early stopping, just run all trials in submission order\n",
    "        scheduler=tune.schedulers.FIFOScheduler(), \n",
    "    ),\n",
    ")\n",
    "results = tuner.fit()"
   ]
  },
  {
   "cell_type": "markdown",
   "metadata": {},
   "source": [
    "Below is a diagram showing the relationship between the different Ray Tune components we have discussed.\n",
    "\n",
    "<img src=\"https://docs.ray.io/en/latest/_images/tune_flow.png\" width=\"800\" />\n",
    "\n",
    "\n",
    "To learn more about the key tune concepts, you can visit the [Ray Tune documentation here](https://docs.ray.io/en/master/tune/key-concepts.html)."
   ]
  },
  {
   "cell_type": "markdown",
   "metadata": {},
   "source": [
    "### Annotated experiment table\n",
    "\n",
    "<img src=\"https://anyscale-public-materials.s3.us-west-2.amazonaws.com/attentive-ray-101/experiment_table_annotated.png\" width=\"800\" />\n",
    "\n",
    "\n"
   ]
  },
  {
   "cell_type": "markdown",
   "metadata": {},
   "source": [
    "#### Exercise\n",
    "\n",
    "<div class=\"alert alert-block alert-info\">\n",
    "    \n",
    "__Lab activity: Finetune a linear regression model.__\n",
    "    \n",
    "\n",
    "Given the below code to train a linear regression model from scratch: \n",
    "\n",
    "```python\n",
    "def train_linear_model(lr: float, epochs: int) -> None:\n",
    "    x = np.array([0, 1, 2, 3, 4])\n",
    "    y = x * 2\n",
    "    w = 0\n",
    "    for _ in range(epochs):\n",
    "        loss = np.sqrt(np.mean((w * x - y) ** 2))\n",
    "        dl_dw = np.mean(2 * x * (w * x - y)) \n",
    "        w -= lr * dl_dw\n",
    "        print({\"rmse\": loss})\n",
    "\n",
    "# Hint: Step 1 update the function signature\n",
    "\n",
    "# Hint: Step 2 Create the tuner object\n",
    "tuner = tune.Tuner(...)\n",
    "\n",
    "# Hint: Step 3: Run the tuner\n",
    "results = tuner.fit()\n",
    "```\n",
    "\n",
    "Use Ray Tune to tune the hyperparameters `lr` and `epochs`. \n",
    "\n",
    "Perform a search using the optuna.OptunaSearch search algorithm with 5 samples over the following ranges:\n",
    "- `lr`: loguniform(1e-4, 1e-1)\n",
    "- `epochs`: randint(1, 100)\n",
    "\n",
    "</div>\n"
   ]
  },
  {
   "cell_type": "code",
   "execution_count": null,
   "metadata": {},
   "outputs": [],
   "source": [
    "# Write your code here\n"
   ]
  },
  {
   "cell_type": "markdown",
   "metadata": {},
   "source": [
    "<div class=\"alert alert-block alert-info\">\n",
    "<details>\n",
    "<summary>Click here to view the solution</summary>\n",
    "\n",
    "```python\n",
    "def train_linear_model(config) -> None:\n",
    "    epochs = config[\"epochs\"]\n",
    "    lr = config[\"lr\"]\n",
    "    x = np.array([0, 1, 2, 3, 4])\n",
    "    y = x * 2\n",
    "    w = 0\n",
    "    for _ in range(epochs):\n",
    "        loss = np.sqrt(np.mean((w * x - y) ** 2))\n",
    "        dl_dw = np.mean(2 * x * (w * x - y)) \n",
    "        w -= lr * dl_dw\n",
    "        train.report({\"rmse\": loss})\n",
    "\n",
    "tuner = tune.Tuner(\n",
    "    trainable=train_linear_model,  # Training function or class to be tuned\n",
    "    param_space={\n",
    "        \"lr\": tune.loguniform(1e-4, 1e-1),  # Hyperparameter: learning rate\n",
    "        \"epochs\": tune.randint(1, 100),  # Hyperparameter: number of epochs\n",
    "    },\n",
    "    tune_config=tune.TuneConfig(\n",
    "        metric=\"rmse\",  # Metric to optimize (minimize)\n",
    "        mode=\"min\",     # Minimize the metric\n",
    "        num_samples=5,  # Number of samples to try\n",
    "        search_alg=optuna.OptunaSearch(), # Use Optuna for hyperparameter search\n",
    "    ),\n",
    ")\n",
    "\n",
    "results = tuner.fit()\n",
    "```\n",
    "\n",
    "</details>\n",
    "</div>"
   ]
  }
 ],
 "metadata": {
  "kernelspec": {
   "display_name": "base",
   "language": "python",
   "name": "python3"
  },
  "language_info": {
   "codemirror_mode": {
    "name": "ipython",
    "version": 3
   },
   "file_extension": ".py",
   "mimetype": "text/x-python",
   "name": "python",
   "nbconvert_exporter": "python",
   "pygments_lexer": "ipython3",
   "version": "3.11.8"
  }
 },
 "nbformat": 4,
 "nbformat_minor": 2
}