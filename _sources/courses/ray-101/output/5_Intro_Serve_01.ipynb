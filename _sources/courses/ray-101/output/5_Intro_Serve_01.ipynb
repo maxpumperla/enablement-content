{
 "cells": [
  {
   "cell_type": "markdown",
   "id": "682e224e-1bb9-470c-b363-386ede0785a4",
   "metadata": {},
   "source": [
    "# Intro to Ray Serve\n",
    "\n",
    "This notebook will introduce you to Ray Serve, a framework for building and deploying scalable ML applications.\n",
    "\n",
    "<div class=\"alert alert-block alert-info\">\n",
    "    \n",
    "<b>Here is the roadmap for this notebook:</b>\n",
    "\n",
    "<ul>\n",
    "    <li><b>Part 0:</b> Introduction</li>\n",
    "    <li><b>Part 1:</b> Overview of Ray Serve</li>\n",
    "    <li><b>Part 2:</b> Implement a Classifier service</li>\n",
    "    <li><b>Part 3:</b> Advanced features of Ray Serve</li>\n",
    "    <li><b>Part 4:</b> Ray Serve in Production</li>\n",
    "</ul>\n",
    "</div>\n"
   ]
  }
 ],
 "metadata": {
  "kernelspec": {
   "display_name": "Python 3 (ipykernel)",
   "language": "python",
   "name": "python3"
  },
  "language_info": {
   "codemirror_mode": {
    "name": "ipython",
    "version": 3
   },
   "file_extension": ".py",
   "mimetype": "text/x-python",
   "name": "python",
   "nbconvert_exporter": "python",
   "pygments_lexer": "ipython3",
   "version": "3.11.8"
  }
 },
 "nbformat": 4,
 "nbformat_minor": 5
}