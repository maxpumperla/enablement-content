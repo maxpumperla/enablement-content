{
 "cells": [
  {
   "cell_type": "markdown",
   "metadata": {},
   "source": [
    "# Intro to Ray Tune\n",
    "\n",
    "This notebook will walk you through the basics of hyperparameter tuning with Ray Tune.\n",
    "\n",
    "<div class=\"alert alert-block alert-info\">\n",
    "<p> Here is the roadmap for this notebook:</p>\n",
    "<ul>\n",
    "    <li> <b>Part 0:</b> Introduction </li>\n",
    "    <li> <b>Part 1:</b> Loading and visualizing data </li>\n",
    "    <li> <b>Part 2:</b> Setting up a PyTorch model</li>\n",
    "    <li> <b>Part 3:</b> Introduction to Ray Tune </li>\n",
    "    <li> <b>Part 4:</b> Diving deeper into Ray Tune concepts </li>\n",
    "    <li> <b>Part 5:</b> Hyperparameter tuning the PyTorch model using Ray Tune </li>\n",
    "</ul>\n",
    "</div>\n"
   ]
  }
 ],
 "metadata": {
  "kernelspec": {
   "display_name": "base",
   "language": "python",
   "name": "python3"
  },
  "language_info": {
   "codemirror_mode": {
    "name": "ipython",
    "version": 3
   },
   "file_extension": ".py",
   "mimetype": "text/x-python",
   "name": "python",
   "nbconvert_exporter": "python",
   "pygments_lexer": "ipython3",
   "version": "3.11.8"
  }
 },
 "nbformat": 4,
 "nbformat_minor": 2
}