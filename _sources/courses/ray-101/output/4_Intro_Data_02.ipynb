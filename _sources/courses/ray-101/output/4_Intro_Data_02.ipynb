{
 "cells": [
  {
   "cell_type": "markdown",
   "metadata": {},
   "source": [
    "## 1. When to use Ray Data\n",
    "\n",
    "- To **load and preprocess data for distributed ML workloads**.\n",
    "- Datasets are the main abstraction.\n",
    "- Compared to other loading solutions, Datasets are more **flexible** and provide [**higher overall performance**](https://www.anyscale.com/blog/why-third-generation-ml-platforms-are-more-performant). \n",
    "- Especially performant when needing to run pre-processing in a \n",
    "   - **streaming fashion** across a \n",
    "   - **large dataset** on a \n",
    "   - **heterogeneous cluster of CPUs and GPUs**.\n",
    "- Use as **last-mile bridge** from storage or ETL pipeline outputs **to distributed applications** and libraries in Ray. \n",
    "\n",
    "<img src='https://docs.ray.io/en/releases-2.34.0/_images/dataset-loading-1.svg' width=60%/>\n"
   ]
  }
 ],
 "metadata": {
  "kernelspec": {
   "display_name": "Python 3 (ipykernel)",
   "language": "python",
   "name": "python3"
  },
  "language_info": {
   "codemirror_mode": {
    "name": "ipython",
    "version": 3
   },
   "file_extension": ".py",
   "mimetype": "text/x-python",
   "name": "python",
   "nbconvert_exporter": "python",
   "pygments_lexer": "ipython3",
   "version": "3.11.8"
  }
 },
 "nbformat": 4,
 "nbformat_minor": 4
}