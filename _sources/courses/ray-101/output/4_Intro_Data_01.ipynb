{
 "cells": [
  {
   "cell_type": "markdown",
   "metadata": {},
   "source": [
    "# Intro to Ray Data\n",
    "\n",
    "This notebook will provide an overview of Ray Data and how to use it to load, and transform data in a distributed manner.\n",
    "\n",
    "<div class=\"alert alert-block alert-info\">\n",
    "<b> Here is the roadmap for this notebook:</b>\n",
    "<ul>\n",
    "    <li><b>Part 0:</b> Introduction</a></li>\n",
    "    <li><b>Part 1:</b> When to use Ray Data</a></li>\n",
    "    <li><b>Part 2:</b> Loading Data</a></li>\n",
    "    <li><b>Part 3:</b> Transforming Data</a></li>\n",
    "    <li><b>Part 4:</b> Data Operations: Grouping, Aggregation, and Shuffling</a></li>\n",
    "    <li><b>Part 5:</b> Persisting Data</a></li>\n",
    "</ul>\n",
    "</div>\n"
   ]
  }
 ],
 "metadata": {
  "kernelspec": {
   "display_name": "Python 3 (ipykernel)",
   "language": "python",
   "name": "python3"
  },
  "language_info": {
   "codemirror_mode": {
    "name": "ipython",
    "version": 3
   },
   "file_extension": ".py",
   "mimetype": "text/x-python",
   "name": "python",
   "nbconvert_exporter": "python",
   "pygments_lexer": "ipython3",
   "version": "3.11.8"
  }
 },
 "nbformat": 4,
 "nbformat_minor": 4
}